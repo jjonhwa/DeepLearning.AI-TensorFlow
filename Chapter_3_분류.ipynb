{
  "nbformat": 4,
  "nbformat_minor": 0,
  "metadata": {
    "colab": {
      "name": "Chapter 3. 분류.ipynb",
      "provenance": [],
      "collapsed_sections": [],
      "authorship_tag": "ABX9TyMojqbxnt0q4RwpqpxeViu8",
      "include_colab_link": true
    },
    "kernelspec": {
      "name": "python3",
      "display_name": "Python 3"
    },
    "accelerator": "GPU"
  },
  "cells": [
    {
      "cell_type": "markdown",
      "metadata": {
        "id": "view-in-github",
        "colab_type": "text"
      },
      "source": [
        "<a href=\"https://colab.research.google.com/github/jjonhwa/DeepLearning.AI-TensorFlow/blob/main/Chapter_3_%EB%B6%84%EB%A5%98.ipynb\" target=\"_parent\"><img src=\"https://colab.research.google.com/assets/colab-badge.svg\" alt=\"Open In Colab\"/></a>"
      ]
    },
    {
      "cell_type": "markdown",
      "metadata": {
        "id": "z_zE1YAANKBb"
      },
      "source": [
        "# 3.1 Mnist\r\n",
        "Mnist : 고등학생과 미국 인구조사국 직원들이 손으로 쓴 70000개의 작은 숫자 이미지를 모은 Dataset이다.  \r\n",
        "\r\n",
        "Date의 형태가 어떻게 생겼는지 그리고 type 및 shape변환을 해주도록 하자."
      ]
    },
    {
      "cell_type": "code",
      "metadata": {
        "colab": {
          "base_uri": "https://localhost:8080/"
        },
        "id": "b6SEGGwLNgO7",
        "outputId": "1bbeb0a5-16a3-4f3e-d9b7-cba91853cb4b"
      },
      "source": [
        "from sklearn.datasets import fetch_openml\r\n",
        "mnist = fetch_openml('mnist_784', version = 1)\r\n",
        "mnist.keys()"
      ],
      "execution_count": 1,
      "outputs": [
        {
          "output_type": "execute_result",
          "data": {
            "text/plain": [
              "dict_keys(['data', 'target', 'frame', 'feature_names', 'target_names', 'DESCR', 'details', 'categories', 'url'])"
            ]
          },
          "metadata": {
            "tags": []
          },
          "execution_count": 1
        }
      ]
    },
    {
      "cell_type": "code",
      "metadata": {
        "id": "gv_f5eOPNtAr",
        "colab": {
          "base_uri": "https://localhost:8080/"
        },
        "outputId": "29c1b329-5bea-4c86-f4e8-71e3cc52e908"
      },
      "source": [
        "X, y = mnist['data'], mnist['target']\r\n",
        "print(X.shape) # 총 7만개의 이미지 + 784개의 특성(28*28 이미지 픽셀)\r\n",
        "print(y.shape) # 총 7만개의 이미지."
      ],
      "execution_count": 2,
      "outputs": [
        {
          "output_type": "stream",
          "text": [
            "(70000, 784)\n",
            "(70000,)\n"
          ],
          "name": "stdout"
        }
      ]
    },
    {
      "cell_type": "code",
      "metadata": {
        "id": "DzjRXJdOPRVU",
        "colab": {
          "base_uri": "https://localhost:8080/"
        },
        "outputId": "6f6ca3fe-3c81-4d0f-818a-5d52e756af19"
      },
      "source": [
        "len(X[0])"
      ],
      "execution_count": 3,
      "outputs": [
        {
          "output_type": "execute_result",
          "data": {
            "text/plain": [
              "784"
            ]
          },
          "metadata": {
            "tags": []
          },
          "execution_count": 3
        }
      ]
    },
    {
      "cell_type": "code",
      "metadata": {
        "id": "NqXYbhoxOxW-",
        "colab": {
          "base_uri": "https://localhost:8080/",
          "height": 285
        },
        "outputId": "d27034a4-1f0a-42ef-c856-c59334cef957"
      },
      "source": [
        "import matplotlib as mpl\r\n",
        "import matplotlib.pyplot as plt\r\n",
        "%matplotlib inline\r\n",
        "\r\n",
        "some_digit = X[0]\r\n",
        "print(len(some_digit))\r\n",
        "print(some_digit.shape)\r\n",
        "some_digit_image = some_digit.reshape(28, 28) # 28*28 모양으로 바꿔준다.\r\n",
        "\r\n",
        "plt.imshow(some_digit_image, cmap = 'binary')\r\n",
        "plt.axis('Off')\r\n",
        "plt.show()"
      ],
      "execution_count": 4,
      "outputs": [
        {
          "output_type": "stream",
          "text": [
            "784\n",
            "(784,)\n"
          ],
          "name": "stdout"
        },
        {
          "output_type": "display_data",
          "data": {
            "image/png": "[encoded data removed]",
            "text/plain": [
              "<Figure size 432x288 with 1 Axes>"
            ]
          },
          "metadata": {
            "tags": [],
            "needs_background": "light"
          }
        }
      ]
    },
    {
      "cell_type": "code",
      "metadata": {
        "id": "sNr0twgPPE2W",
        "colab": {
          "base_uri": "https://localhost:8080/",
          "height": 36
        },
        "outputId": "c21c6596-0f6a-487b-89e0-b0c60c18553c"
      },
      "source": [
        "y[0]"
      ],
      "execution_count": 5,
      "outputs": [
        {
          "output_type": "execute_result",
          "data": {
            "application/vnd.google.colaboratory.intrinsic+json": {
              "type": "string"
            },
            "text/plain": [
              "'5'"
            ]
          },
          "metadata": {
            "tags": []
          },
          "execution_count": 5
        }
      ]
    },
    {
      "cell_type": "code",
      "metadata": {
        "id": "3EMfrPniQCe7"
      },
      "source": [
        "import numpy as np\r\n",
        "\r\n",
        "y = y.astype(np.uint8) # y를 정수형으로 변환"
      ],
      "execution_count": 6,
      "outputs": []
    },
    {
      "cell_type": "code",
      "metadata": {
        "id": "LpIGp76yQIwO"
      },
      "source": [
        "X_train, X_test, y_train, y_test = X[:60000], X[60000:], y[:60000], y[60000:]\r\n",
        "# Training Set을 6만개로 Test Set을 10000개로 해서 Train Test Split를 한다."
      ],
      "execution_count": 7,
      "outputs": []
    },
    {
      "cell_type": "markdown",
      "metadata": {
        "id": "pG0sicjUQjeD"
      },
      "source": [
        "# 3.2 이진 분류기 훈련\r\n",
        "이진 분류 : 예를 들어, 1인지 아닌지를 확인하는 Classification  \r\n",
        "\r\n",
        "빠르게 '5-감지기'를 만들어 5인지 아닌지로 구분해서 데이터를 나누도록 하자."
      ]
    },
    {
      "cell_type": "code",
      "metadata": {
        "id": "hqhtJ_j-RWQU",
        "colab": {
          "base_uri": "https://localhost:8080/"
        },
        "outputId": "e6100029-7307-4c39-ce0c-1918e31a6f1c"
      },
      "source": [
        "y_train_5 = (y_train == 5) # Boolean Indexing으로 각 y값이 5이면 T 아니면 False를 반환한다. \r\n",
        "y_test_5 = (y_test == 5)\r\n",
        "print(y_train_5[:10])"
      ],
      "execution_count": 8,
      "outputs": [
        {
          "output_type": "stream",
          "text": [
            "[ True False False False False False False False False False]\n"
          ],
          "name": "stdout"
        }
      ]
    },
    {
      "cell_type": "code",
      "metadata": {
        "id": "yC0MzwfmRuhR",
        "colab": {
          "base_uri": "https://localhost:8080/"
        },
        "outputId": "272f3c98-e19c-49a9-eb8f-9fd46f013bfb"
      },
      "source": [
        "from sklearn.linear_model import SGDClassifier\r\n",
        "\r\n",
        "sgd_clf = SGDClassifier(random_state = 42)\r\n",
        "sgd_clf.fit(X_train, y_train_5)"
      ],
      "execution_count": 9,
      "outputs": [
        {
          "output_type": "execute_result",
          "data": {
            "text/plain": [
              "SGDClassifier(alpha=0.0001, average=False, class_weight=None,\n",
              "              early_stopping=False, epsilon=0.1, eta0=0.0, fit_intercept=True,\n",
              "              l1_ratio=0.15, learning_rate='optimal', loss='hinge',\n",
              "              max_iter=1000, n_iter_no_change=5, n_jobs=None, penalty='l2',\n",
              "              power_t=0.5, random_state=42, shuffle=True, tol=0.001,\n",
              "              validation_fraction=0.1, verbose=0, warm_start=False)"
            ]
          },
          "metadata": {
            "tags": []
          },
          "execution_count": 9
        }
      ]
    },
    {
      "cell_type": "markdown",
      "metadata": {
        "id": "D2JhD4C-SFOj"
      },
      "source": [
        "* SGD(Stochastic Gradient Descent) : Training을 무작위로한다(반복수마다 training data를 섞어준다.), 확률적 경사 하강법이라는 뜻으로 이 분류기는 **매우 큰 데이터셋을 처리**를 잘하는 장점이 있고 **한 번에 하나씩 training sample을 독립적으로 처리**한다는 특징이 있다.\r\n"
      ]
    },
    {
      "cell_type": "code",
      "metadata": {
        "id": "X7Z7I7xZTAQC",
        "colab": {
          "base_uri": "https://localhost:8080/"
        },
        "outputId": "dafce8b2-26cb-4230-d70a-05c58757e68c"
      },
      "source": [
        "sgd_clf.predict([some_digit]) # 숫자 5의 이미지를 확인하여 제대로 예측하는지 확인해보자."
      ],
      "execution_count": 10,
      "outputs": [
        {
          "output_type": "execute_result",
          "data": {
            "text/plain": [
              "array([ True])"
            ]
          },
          "metadata": {
            "tags": []
          },
          "execution_count": 10
        }
      ]
    },
    {
      "cell_type": "markdown",
      "metadata": {
        "id": "_8IbnUrsT-zP"
      },
      "source": [
        "# 3.3 성능 측정"
      ]
    },
    {
      "cell_type": "markdown",
      "metadata": {
        "id": "Cb0jRFaWUDaY"
      },
      "source": [
        "이 장에서는 성능을 확인할 수 있는 지표에 대해 알아보도록 하자."
      ]
    },
    {
      "cell_type": "markdown",
      "metadata": {
        "id": "t7A88o4_CXXS"
      },
      "source": [
        "## 3.3.1 교차 검증을 사용한 정확도 측정\r\n",
        "다음은 교차 검증을 직접구현 한 코드이다."
      ]
    },
    {
      "cell_type": "code",
      "metadata": {
        "id": "0KmpBGbICp33",
        "colab": {
          "base_uri": "https://localhost:8080/"
        },
        "outputId": "88f89370-971c-4d0e-952e-bd861cfefbf7"
      },
      "source": [
        "from sklearn.model_selection import StratifiedKFold\r\n",
        "from sklearn.base import clone\r\n",
        "\r\n",
        "skfolds = StratifiedKFold(n_splits = 3, random_state = 42, shuffle = True)\r\n",
        "# StratifiedFold : 클래스별 비율이 유지되도록 폴드를 만들기 위해 계층적 샘플링을 수행한다.\r\n",
        "\r\n",
        "for train_index, test_index in skfolds.split(X_train, y_train_5) :\r\n",
        "  clone_clf = clone(sgd_clf)\r\n",
        "  X_train_folds = X_train[train_index]\r\n",
        "  y_train_folds = y_train_5[train_index]\r\n",
        "  X_test_folds = X_train[test_index]\r\n",
        "  y_test_folds = y_train_5[test_index]\r\n",
        "\r\n",
        "  clone_clf.fit(X_train_folds, y_train_folds)\r\n",
        "  y_pred = clone_clf.predict(X_test_folds)\r\n",
        "  n_correct = sum(y_pred == y_test_folds)\r\n",
        "  print(n_correct / len(y_pred))"
      ],
      "execution_count": 11,
      "outputs": [
        {
          "output_type": "stream",
          "text": [
            "0.9669\n",
            "0.91625\n",
            "0.96785\n"
          ],
          "name": "stdout"
        }
      ]
    },
    {
      "cell_type": "markdown",
      "metadata": {
        "id": "0jLPi-3nDsjQ"
      },
      "source": [
        "가끔 위처럼 sklearn이 제공하는 것보다 교차 검증 과정을 더 많이 제어해야 할 필요성이 있을 경우 위처럼 직접 구현하면된다!!  \r\n",
        "\r\n",
        "?? 뭐를 더 많이 제어할 수 있는가?"
      ]
    },
    {
      "cell_type": "markdown",
      "metadata": {
        "id": "4dRuah50GayS"
      },
      "source": [
        "이번에는 cross_val_score()를 이용하여 SGDClassifier 모델을 평가해보도록 하자."
      ]
    },
    {
      "cell_type": "code",
      "metadata": {
        "id": "CahuNtfRG2rD",
        "colab": {
          "base_uri": "https://localhost:8080/"
        },
        "outputId": "ba20187d-565a-4acb-b91c-2312e98f8038"
      },
      "source": [
        "from sklearn.model_selection import cross_val_score\r\n",
        "cross_val_score(sgd_clf, X_train, y_train_5, cv = 3, scoring = 'accuracy')\r\n",
        "# 'cv = 3' : kfold cross valdiation 에서 3개의 폴드로 나누는 것을 의마한다."
      ],
      "execution_count": 12,
      "outputs": [
        {
          "output_type": "execute_result",
          "data": {
            "text/plain": [
              "array([0.95035, 0.96035, 0.9604 ])"
            ]
          },
          "metadata": {
            "tags": []
          },
          "execution_count": 12
        }
      ]
    },
    {
      "cell_type": "markdown",
      "metadata": {
        "id": "dB0ug2jPHI1n"
      },
      "source": [
        "KFold로 모델을 평가했을 때 꽤나 정확한 정확도를 얻었다. 하지만 여기서 binary classification(5인가 아닌가)를 했으므로 Dummy classification을 이용해서 한 번 더 확인해주도록 한다!(Binary의 경우 분류 기준을 '5이다'라고만 예측해도 Data가 inbalanced일 경우 정확도가 높을 수 있다.)"
      ]
    },
    {
      "cell_type": "code",
      "metadata": {
        "id": "vVpXELeUHuxe"
      },
      "source": [
        "from sklearn.base import BaseEstimator\r\n",
        "\r\n",
        "class Never5Classifier(BaseEstimator) :\r\n",
        "  def fit(self, X, y = None) :\r\n",
        "    return self\r\n",
        "  \r\n",
        "  def predict(self, X) :\r\n",
        "    return np.zeros((len(X), 1), dtype = bool)"
      ],
      "execution_count": 13,
      "outputs": []
    },
    {
      "cell_type": "code",
      "metadata": {
        "id": "2fuP_YGDIF8v",
        "colab": {
          "base_uri": "https://localhost:8080/"
        },
        "outputId": "3030fea1-55ce-4793-ad7c-b742ddccda54"
      },
      "source": [
        "never_5_clf = Never5Classifier()\r\n",
        "cross_val_score(never_5_clf, X_train, y_train_5, cv = 3, scoring = 'accuracy')"
      ],
      "execution_count": 14,
      "outputs": [
        {
          "output_type": "execute_result",
          "data": {
            "text/plain": [
              "array([0.91125, 0.90855, 0.90915])"
            ]
          },
          "metadata": {
            "tags": []
          },
          "execution_count": 14
        }
      ]
    },
    {
      "cell_type": "markdown",
      "metadata": {
        "id": "41Ot5vnuIS03"
      },
      "source": [
        "즉! 위의 결과처럼, 모든 데이터를 5가 아니라고 예측했을 때의 정확도가 90%임을 알 수 있다.  \r\n",
        "\r\n",
        "위의 예시처럼, 우리가 정확도를 측정 지표로 선호하지 않는 이유를 알 수 있다.  \r\n",
        "앞서 말했듯이, Inbalanced Dataset을 다룰 경우 위처럼, 정확도는 오류를 범할 수 있다."
      ]
    },
    {
      "cell_type": "markdown",
      "metadata": {
        "id": "yxPHfmm8I8be"
      },
      "source": [
        "## 3.3.2 오차행렬\r\n",
        "* 오차 행렬 : A를 B라고 분류한 횟수를 세는 것이다!\r\n",
        "오차 행렬을 만들려면 실제 타깃과 비교할 수 있는 예측값을 만들어야 한다! 여기서는 **Test로 예측을 만드는 것이 아니라 `cross_val_predict`를 사용해 예측값을 만든다**."
      ]
    },
    {
      "cell_type": "code",
      "metadata": {
        "id": "fADZJ5znJf9Y"
      },
      "source": [
        "from sklearn.model_selection import cross_val_predict\r\n",
        "\r\n",
        "y_train_pred = cross_val_predict(sgd_clf, X_train, y_train_5, cv = 3)"
      ],
      "execution_count": 15,
      "outputs": []
    },
    {
      "cell_type": "markdown",
      "metadata": {
        "id": "j542BdKJLjwK"
      },
      "source": [
        "`cross_val_predict()`는 `cross_val_score()`와 달리 평가 점수를 반환하지 않고 각 테스트 폴드에서 얻은 예측을 반환한다. 그래서 이 예측된 값을 실제 타깃과 비교하여 confusion matrix(오차 행렬)을 반환하도록한다."
      ]
    },
    {
      "cell_type": "code",
      "metadata": {
        "id": "lg9cL0fbOknn",
        "colab": {
          "base_uri": "https://localhost:8080/"
        },
        "outputId": "9b2014b6-6515-4d97-c262-f9f05147fb5e"
      },
      "source": [
        "from sklearn.metrics import confusion_matrix\r\n",
        "confusion_matrix(y_train_5, y_train_pred)"
      ],
      "execution_count": 16,
      "outputs": [
        {
          "output_type": "execute_result",
          "data": {
            "text/plain": [
              "array([[53892,   687],\n",
              "       [ 1891,  3530]])"
            ]
          },
          "metadata": {
            "tags": []
          },
          "execution_count": 16
        }
      ]
    },
    {
      "cell_type": "markdown",
      "metadata": {
        "id": "3_67lXHmPDBr"
      },
      "source": [
        "Confulsion Matrix에서 행은 실제 클래스를 열은 예측 클래스를 나타낸다.  \r\n",
        "\r\n",
        "정확도뿐만 아니라 살펴볼만한 지표들로는 **정밀도**와 **재현율**이 있다.  \r\n",
        "보통 이 두 개(정밀도, 재현율)의 지표를 함께 사용하는 것이 일반적이다."
      ]
    },
    {
      "cell_type": "markdown",
      "metadata": {
        "id": "Gq9DUpEuQYYY"
      },
      "source": [
        "* 정밀도 : 맞다라고 판단한 것들 중에 제대로 맞은 것들의 비율\r\n",
        "* 재현율 : 실제로 맞는 것들 중에 제대로 예측한 것들의 비율"
      ]
    },
    {
      "cell_type": "markdown",
      "metadata": {
        "id": "VV71uiArQu6D"
      },
      "source": [
        "## 3.3.3 정밀도 와 재현율\r\n",
        "정밀도와 재현율을 포함한 분류기의 지표를 계산하는 여러 함수와 F1지표에 대해서 알아보자."
      ]
    },
    {
      "cell_type": "code",
      "metadata": {
        "id": "LMcAGHJCQ9y1",
        "colab": {
          "base_uri": "https://localhost:8080/"
        },
        "outputId": "69c0c22b-ed6d-469a-ac34-2f7740996f50"
      },
      "source": [
        "from sklearn.metrics import precision_score, recall_score\r\n",
        "print(precision_score(y_train_5, y_train_pred))\r\n",
        "print(recall_score(y_train_5, y_train_pred))"
      ],
      "execution_count": 17,
      "outputs": [
        {
          "output_type": "stream",
          "text": [
            "0.8370879772350012\n",
            "0.6511713705958311\n"
          ],
          "name": "stdout"
        }
      ]
    },
    {
      "cell_type": "markdown",
      "metadata": {
        "id": "hPjlIOHCRFAZ"
      },
      "source": [
        "정밀도와 재현율을 하나의 지표로 표시하기 위해서 자주 사용하는 측정 지표가 **F1 Score**이다.  \r\n",
        "\r\n",
        "* F1 Score : 정밀도와 재현율의 조화평균으로 이루어져 있다.(2 / (1/정확도 + 1/재현율))"
      ]
    },
    {
      "cell_type": "code",
      "metadata": {
        "id": "9YpvwlTwTq9_",
        "colab": {
          "base_uri": "https://localhost:8080/"
        },
        "outputId": "12e5d2b0-a4f6-4a2a-d1de-9f3ccc603cc8"
      },
      "source": [
        "from sklearn.metrics import f1_score\r\n",
        "f1_score(y_train_5, y_train_pred)"
      ],
      "execution_count": 18,
      "outputs": [
        {
          "output_type": "execute_result",
          "data": {
            "text/plain": [
              "0.7325171197343846"
            ]
          },
          "metadata": {
            "tags": []
          },
          "execution_count": 18
        }
      ]
    },
    {
      "cell_type": "markdown",
      "metadata": {
        "id": "IFDGJG71Tzjb"
      },
      "source": [
        "정밀도와 재현율이 비슷할 떄 F1 Score점수가 높다. 하지만, 이것이 항상 바람직한 것만은 아니다. 상황에 따라 정밀도가 더 중요할 수도, 재현율이 더 중요할 수도 있으니 상황에 맞춰 사용하도록 하자.  \r\n",
        "\r\n",
        "더불어, 정밀도와 재현율은 불행히도 동시에 높게 얻을 수없는 트레이드오프의 관계이니 이것도 참고하고 있자."
      ]
    },
    {
      "cell_type": "markdown",
      "metadata": {
        "id": "jGDnzCOLUxE_"
      },
      "source": [
        "## 3.3.4 정밀도/재현율 트레이드 오프"
      ]
    },
    {
      "cell_type": "markdown",
      "metadata": {
        "id": "GtQL6ta7U0pC"
      },
      "source": [
        "SGDClassifier의 경우 Decision Function을 바탕으로 각 샘플의 점수를 계산한다. 이 때 그 점수가 임곗값보다 크면 양성, 아니면 음성으로 할당한다.  \r\n",
        "\r\n",
        "이 때 임곗값이 커질수록 혹은 작아질수록 정밀도가 높아지면 재현율은 낮아지는 것을 확인할 수 있다.(그림이 없으므로 이 정도로 설명하고 넘어가도록 하겠다.)  \r\n",
        "\r\n",
        "사이킷런에서 직접 임겠값을 정할 순 없지만 다음은 임곗값이 높아졌을 때를 가정한 예시이니 간단히 확인하고 넘어가도록 하자."
      ]
    },
    {
      "cell_type": "code",
      "metadata": {
        "colab": {
          "base_uri": "https://localhost:8080/"
        },
        "id": "Scb0RR774ryM",
        "outputId": "c4b32f6a-876e-412c-e5b3-48d28ef8a7d1"
      },
      "source": [
        "y_scores = sgd_clf.decision_function([some_digit])\r\n",
        "# decision function은 labeling이 되는 것이 아니라 점수로 반환된다.\r\n",
        "print(y_scores)\r\n",
        "threshold = 0\r\n",
        "y_some_digit_pred = (y_scores > threshold)\r\n",
        "print(y_some_digit_pred) # 임곗값을 0으로 줬을 때 결과가 어떻게 나오는지 확인한다."
      ],
      "execution_count": 19,
      "outputs": [
        {
          "output_type": "stream",
          "text": [
            "[2164.22030239]\n",
            "[ True]\n"
          ],
          "name": "stdout"
        }
      ]
    },
    {
      "cell_type": "code",
      "metadata": {
        "colab": {
          "base_uri": "https://localhost:8080/"
        },
        "id": "_Eiki0UMTB2y",
        "outputId": "97ab31f8-5908-4a51-c824-ac12e8fe467f"
      },
      "source": [
        "threshold = 8000\r\n",
        "y_some_digit_pred = (y_scores > threshold)\r\n",
        "y_some_digit_pred # 임곗값을 8000으로 줬을 때 결과가 어떻게 나오는지 확인한다."
      ],
      "execution_count": 20,
      "outputs": [
        {
          "output_type": "execute_result",
          "data": {
            "text/plain": [
              "array([False])"
            ]
          },
          "metadata": {
            "tags": []
          },
          "execution_count": 20
        }
      ]
    },
    {
      "cell_type": "markdown",
      "metadata": {
        "id": "vgCsaMAcTTO9"
      },
      "source": [
        "그렇다면 적절한 임곗값을 어떻게 정할까!?  \r\n",
        "\r\n",
        "`cross_val_predict`를 사용하여 Training Set의 모든 샘플의 점수를 구해야한다.\r\n"
      ]
    },
    {
      "cell_type": "code",
      "metadata": {
        "id": "yDy5ir_lULW2"
      },
      "source": [
        "y_scores = cross_val_predict(sgd_clf, X_train, y_train_5,\r\n",
        "                             cv = 3, method = 'decision_function')"
      ],
      "execution_count": 21,
      "outputs": []
    },
    {
      "cell_type": "markdown",
      "metadata": {
        "id": "dLre6rY0UTkx"
      },
      "source": [
        "`precision_recall_curve()`를 사용하여 모든 임곗값에 대한 정밀도와 재현율을 계산할 수 있다.\r\n",
        "\r\n"
      ]
    },
    {
      "cell_type": "code",
      "metadata": {
        "id": "zgPM_Q8QUasJ"
      },
      "source": [
        "from sklearn.metrics import precision_recall_curve\r\n",
        "\r\n",
        "precision, recalls, thresholds = precision_recall_curve(y_train_5, y_scores)"
      ],
      "execution_count": 22,
      "outputs": []
    },
    {
      "cell_type": "markdown",
      "metadata": {
        "id": "G3qdPKWPaunv"
      },
      "source": [
        "다음은 한글폰트를 사용하기위한 코드이므로 필요없다면 Skip하도록 하자.\r\n"
      ]
    },
    {
      "cell_type": "code",
      "metadata": {
        "colab": {
          "base_uri": "https://localhost:8080/"
        },
        "id": "gG2Eu8haZwbz",
        "outputId": "c4bfb1d6-ac77-43cf-b691-9cad510a8663"
      },
      "source": [
        "import matplotlib as mpl\r\n",
        "import matplotlib.pyplot as plt\r\n",
        " \r\n",
        "%config InlineBackend.figure_format = 'retina'\r\n",
        " \r\n",
        "!apt -qq -y install fonts-nanum\r\n",
        " \r\n",
        "import matplotlib.font_manager as fm\r\n",
        "fontpath = '/usr/share/fonts/truetype/nanum/NanumBarunGothic.ttf'\r\n",
        "font = fm.FontProperties(fname=fontpath, size=9)\r\n",
        "plt.rc('font', family='NanumBarunGothic') \r\n",
        "mpl.font_manager._rebuild()"
      ],
      "execution_count": 23,
      "outputs": [
        {
          "output_type": "stream",
          "text": [
            "The following NEW packages will be installed:\n",
            "  fonts-nanum\n",
            "0 upgraded, 1 newly installed, 0 to remove and 16 not upgraded.\n",
            "Need to get 9,604 kB of archives.\n",
            "After this operation, 29.5 MB of additional disk space will be used.\n",
            "Selecting previously unselected package fonts-nanum.\n",
            "(Reading database ... 145483 files and directories currently installed.)\n",
            "Preparing to unpack .../fonts-nanum_20170925-1_all.deb ...\n",
            "Unpacking fonts-nanum (20170925-1) ...\n",
            "Setting up fonts-nanum (20170925-1) ...\n",
            "Processing triggers for fontconfig (2.12.6-0ubuntu2) ...\n"
          ],
          "name": "stdout"
        }
      ]
    },
    {
      "cell_type": "code",
      "metadata": {
        "colab": {
          "base_uri": "https://localhost:8080/",
          "height": 969
        },
        "id": "6zmrNXqLUvtJ",
        "outputId": "12a4f548-5892-4cba-c9fc-9575baa54287"
      },
      "source": [
        "def plot_precision_recall_vs_threshold(precision, recalls, thresholds) :\r\n",
        "  plt.plot(thresholds, precision[:-1], 'b--', label = '정밀도')\r\n",
        "  plt.plot(thresholds, recalls[:-1], 'g-', label = '재현율')\r\n",
        "  plt.xlabel('임곗값')\r\n",
        "  plt.xlim(-50000, 50000)\r\n",
        "  plt.legend()\r\n",
        "  plt.grid(True)\r\n",
        "  plt.show()\r\n",
        "\r\n",
        "plot_precision_recall_vs_threshold(precision, recalls, thresholds)"
      ],
      "execution_count": 24,
      "outputs": [
        {
          "output_type": "stream",
          "text": [
            "findfont: Font family ['NanumBarunGothic'] not found. Falling back to DejaVu Sans.\n",
            "/usr/local/lib/python3.6/dist-packages/matplotlib/backends/backend_agg.py:214: RuntimeWarning: Glyph 51076 missing from current font.\n",
            "  font.set_text(s, 0.0, flags=flags)\n",
            "/usr/local/lib/python3.6/dist-packages/matplotlib/backends/backend_agg.py:214: RuntimeWarning: Glyph 44247 missing from current font.\n",
            "  font.set_text(s, 0.0, flags=flags)\n",
            "/usr/local/lib/python3.6/dist-packages/matplotlib/backends/backend_agg.py:214: RuntimeWarning: Glyph 44050 missing from current font.\n",
            "  font.set_text(s, 0.0, flags=flags)\n",
            "/usr/local/lib/python3.6/dist-packages/matplotlib/backends/backend_agg.py:214: RuntimeWarning: Glyph 51221 missing from current font.\n",
            "  font.set_text(s, 0.0, flags=flags)\n",
            "/usr/local/lib/python3.6/dist-packages/matplotlib/backends/backend_agg.py:214: RuntimeWarning: Glyph 48128 missing from current font.\n",
            "  font.set_text(s, 0.0, flags=flags)\n",
            "/usr/local/lib/python3.6/dist-packages/matplotlib/backends/backend_agg.py:214: RuntimeWarning: Glyph 46020 missing from current font.\n",
            "  font.set_text(s, 0.0, flags=flags)\n",
            "/usr/local/lib/python3.6/dist-packages/matplotlib/backends/backend_agg.py:214: RuntimeWarning: Glyph 51116 missing from current font.\n",
            "  font.set_text(s, 0.0, flags=flags)\n",
            "/usr/local/lib/python3.6/dist-packages/matplotlib/backends/backend_agg.py:214: RuntimeWarning: Glyph 54788 missing from current font.\n",
            "  font.set_text(s, 0.0, flags=flags)\n",
            "/usr/local/lib/python3.6/dist-packages/matplotlib/backends/backend_agg.py:214: RuntimeWarning: Glyph 50984 missing from current font.\n",
            "  font.set_text(s, 0.0, flags=flags)\n",
            "/usr/local/lib/python3.6/dist-packages/matplotlib/backends/backend_agg.py:183: RuntimeWarning: Glyph 51076 missing from current font.\n",
            "  font.set_text(s, 0, flags=flags)\n",
            "/usr/local/lib/python3.6/dist-packages/matplotlib/backends/backend_agg.py:183: RuntimeWarning: Glyph 44247 missing from current font.\n",
            "  font.set_text(s, 0, flags=flags)\n",
            "/usr/local/lib/python3.6/dist-packages/matplotlib/backends/backend_agg.py:183: RuntimeWarning: Glyph 44050 missing from current font.\n",
            "  font.set_text(s, 0, flags=flags)\n",
            "/usr/local/lib/python3.6/dist-packages/matplotlib/backends/backend_agg.py:183: RuntimeWarning: Glyph 51221 missing from current font.\n",
            "  font.set_text(s, 0, flags=flags)\n",
            "/usr/local/lib/python3.6/dist-packages/matplotlib/backends/backend_agg.py:183: RuntimeWarning: Glyph 48128 missing from current font.\n",
            "  font.set_text(s, 0, flags=flags)\n",
            "/usr/local/lib/python3.6/dist-packages/matplotlib/backends/backend_agg.py:183: RuntimeWarning: Glyph 46020 missing from current font.\n",
            "  font.set_text(s, 0, flags=flags)\n",
            "/usr/local/lib/python3.6/dist-packages/matplotlib/backends/backend_agg.py:183: RuntimeWarning: Glyph 51116 missing from current font.\n",
            "  font.set_text(s, 0, flags=flags)\n",
            "/usr/local/lib/python3.6/dist-packages/matplotlib/backends/backend_agg.py:183: RuntimeWarning: Glyph 54788 missing from current font.\n",
            "  font.set_text(s, 0, flags=flags)\n",
            "/usr/local/lib/python3.6/dist-packages/matplotlib/backends/backend_agg.py:183: RuntimeWarning: Glyph 50984 missing from current font.\n",
            "  font.set_text(s, 0, flags=flags)\n"
          ],
          "name": "stderr"
        },
        {
          "output_type": "display_data",
          "data": {
            "image/png": "[encoded data removed]",
            "text/plain": [
              "<Figure size 432x288 with 1 Axes>"
            ]
          },
          "metadata": {
            "tags": [],
            "image/png": {
              "width": 372,
              "height": 261
            },
            "needs_background": "light"
          }
        }
      ]
    },
    {
      "cell_type": "markdown",
      "metadata": {
        "id": "mS2QyTpFVIbb"
      },
      "source": [
        "위의 그래프를 보면 정밀도 곡선이 재현율보다 울퉁부툴할 수 있다.  \r\n",
        "\r\n",
        "이는 임곗값이 올라도 정밀도가 가끔 낮아질 수 있다는 특징이 있기 떄문이다. 이에 더불어 재현율은 임곗값이 올라가면 무조건 줄어들 수밖에 없기 때문에 부드러운 곡선이 된다."
      ]
    },
    {
      "cell_type": "markdown",
      "metadata": {
        "id": "8GN7jPiMapuE"
      },
      "source": [
        "위 그래프로부터 정밀도와 재현율의 트레이드 오프 관계를 시각적으로 알 수 있으며 어느 정도로 타협하여 설정할 지는 각 프로젝트에 따라 다르므로 각 상황에 맞게 선택하면 된다.  \r\n",
        "\r\n",
        "짧은 예로, 정확도가 90%는 넘으면서 가장 좋은 지표를 찾는 문제를 간략히 해결해보도록 하자.\r\n",
        "\r\n"
      ]
    },
    {
      "cell_type": "code",
      "metadata": {
        "colab": {
          "base_uri": "https://localhost:8080/"
        },
        "id": "zQreO-TgbWcn",
        "outputId": "df581212-338f-478f-da44-aa41a4fb6a24"
      },
      "source": [
        "threshold_90_precision = thresholds[np.argmax(precision >= 0.90)]\r\n",
        "threshold_90_precision\r\n",
        "# np.argmax : 최대값의 첫 번째 인덱스 반환"
      ],
      "execution_count": 25,
      "outputs": [
        {
          "output_type": "execute_result",
          "data": {
            "text/plain": [
              "3370.0194991439557"
            ]
          },
          "metadata": {
            "tags": []
          },
          "execution_count": 25
        }
      ]
    },
    {
      "cell_type": "code",
      "metadata": {
        "colab": {
          "base_uri": "https://localhost:8080/"
        },
        "id": "w3YE8SXCbfYd",
        "outputId": "977d5b5c-65bd-4421-ced0-5a548a7f7e6b"
      },
      "source": [
        "y_train_pred_90 = (y_scores >= threshold_90_precision)\r\n",
        "\r\n",
        "print(precision_score(y_train_5, y_train_pred_90))\r\n",
        "print(recall_score(y_train_5, y_train_pred_90))"
      ],
      "execution_count": 26,
      "outputs": [
        {
          "output_type": "stream",
          "text": [
            "0.9000345901072293\n",
            "0.4799852425751706\n"
          ],
          "name": "stdout"
        }
      ]
    },
    {
      "cell_type": "markdown",
      "metadata": {
        "id": "0PukyNKzb-q2"
      },
      "source": [
        "위처럼 정밀도는 최소조건으로 90%를 넘기면서 재현율을 최대로 할 수 있도록 해주도록 한다."
      ]
    },
    {
      "cell_type": "markdown",
      "metadata": {
        "id": "L8BIOmn5cb6r"
      },
      "source": [
        "## 3.3.5 ROC 곡선\r\n",
        "* ROC(Receiver Operating Characteristic)\r\n",
        "1. 이진 분류에서 많이 사용함.\r\n",
        "2. 거짓 양성 비율(FPR)(맞다고 예측한 것들 중에서 아닌 것들의 비율)에 대한 진짜 양성 비율(TPR)(실제로 맞는 것들 중에서 맞다고 예측한 것들의 비율 - 재현율)이다.\r\n",
        "3. ROC곡선을 그리기 전에 `roc_curve()`를 사용해서 여러 임곗값에서 TPR과 FPR을 계산한다."
      ]
    },
    {
      "cell_type": "code",
      "metadata": {
        "id": "18kCtPhPdiPD"
      },
      "source": [
        "from sklearn.metrics import roc_curve\r\n",
        "\r\n",
        "fpr, tpr, thresholds = roc_curve(y_train_5, y_scores)"
      ],
      "execution_count": 27,
      "outputs": []
    },
    {
      "cell_type": "code",
      "metadata": {
        "colab": {
          "base_uri": "https://localhost:8080/",
          "height": 1000
        },
        "id": "QlajpLowdpg0",
        "outputId": "5452d8f3-fa17-4859-fe60-7b41dd3c52b1"
      },
      "source": [
        "def plot_roc_curve(fpr, tpr, label = None) :\r\n",
        "  plt.plot(fpr, tpr, linewidth = 2, label = label)\r\n",
        "  plt.plot([0,1], [0, 1], 'k--')\r\n",
        "  plt.xlabel('거짓 양성 비율(FPR)')\r\n",
        "  plt.ylabel('진짜 양성 비율(TPR)(재현율)')\r\n",
        "\r\n",
        "plot_roc_curve(fpr, tpr)\r\n",
        "plt.show()"
      ],
      "execution_count": 28,
      "outputs": [
        {
          "output_type": "stream",
          "text": [
            "/usr/local/lib/python3.6/dist-packages/matplotlib/backends/backend_agg.py:214: RuntimeWarning: Glyph 44144 missing from current font.\n",
            "  font.set_text(s, 0.0, flags=flags)\n",
            "/usr/local/lib/python3.6/dist-packages/matplotlib/backends/backend_agg.py:214: RuntimeWarning: Glyph 51667 missing from current font.\n",
            "  font.set_text(s, 0.0, flags=flags)\n",
            "/usr/local/lib/python3.6/dist-packages/matplotlib/backends/backend_agg.py:214: RuntimeWarning: Glyph 50577 missing from current font.\n",
            "  font.set_text(s, 0.0, flags=flags)\n",
            "/usr/local/lib/python3.6/dist-packages/matplotlib/backends/backend_agg.py:214: RuntimeWarning: Glyph 49457 missing from current font.\n",
            "  font.set_text(s, 0.0, flags=flags)\n",
            "/usr/local/lib/python3.6/dist-packages/matplotlib/backends/backend_agg.py:214: RuntimeWarning: Glyph 48708 missing from current font.\n",
            "  font.set_text(s, 0.0, flags=flags)\n",
            "/usr/local/lib/python3.6/dist-packages/matplotlib/backends/backend_agg.py:214: RuntimeWarning: Glyph 50984 missing from current font.\n",
            "  font.set_text(s, 0.0, flags=flags)\n",
            "/usr/local/lib/python3.6/dist-packages/matplotlib/backends/backend_agg.py:214: RuntimeWarning: Glyph 51652 missing from current font.\n",
            "  font.set_text(s, 0.0, flags=flags)\n",
            "/usr/local/lib/python3.6/dist-packages/matplotlib/backends/backend_agg.py:214: RuntimeWarning: Glyph 51676 missing from current font.\n",
            "  font.set_text(s, 0.0, flags=flags)\n",
            "/usr/local/lib/python3.6/dist-packages/matplotlib/backends/backend_agg.py:214: RuntimeWarning: Glyph 51116 missing from current font.\n",
            "  font.set_text(s, 0.0, flags=flags)\n",
            "/usr/local/lib/python3.6/dist-packages/matplotlib/backends/backend_agg.py:214: RuntimeWarning: Glyph 54788 missing from current font.\n",
            "  font.set_text(s, 0.0, flags=flags)\n",
            "/usr/local/lib/python3.6/dist-packages/matplotlib/backends/backend_agg.py:183: RuntimeWarning: Glyph 44144 missing from current font.\n",
            "  font.set_text(s, 0, flags=flags)\n",
            "/usr/local/lib/python3.6/dist-packages/matplotlib/backends/backend_agg.py:183: RuntimeWarning: Glyph 51667 missing from current font.\n",
            "  font.set_text(s, 0, flags=flags)\n",
            "/usr/local/lib/python3.6/dist-packages/matplotlib/backends/backend_agg.py:183: RuntimeWarning: Glyph 50577 missing from current font.\n",
            "  font.set_text(s, 0, flags=flags)\n",
            "/usr/local/lib/python3.6/dist-packages/matplotlib/backends/backend_agg.py:183: RuntimeWarning: Glyph 49457 missing from current font.\n",
            "  font.set_text(s, 0, flags=flags)\n",
            "/usr/local/lib/python3.6/dist-packages/matplotlib/backends/backend_agg.py:183: RuntimeWarning: Glyph 48708 missing from current font.\n",
            "  font.set_text(s, 0, flags=flags)\n",
            "/usr/local/lib/python3.6/dist-packages/matplotlib/backends/backend_agg.py:183: RuntimeWarning: Glyph 50984 missing from current font.\n",
            "  font.set_text(s, 0, flags=flags)\n",
            "/usr/local/lib/python3.6/dist-packages/matplotlib/backends/backend_agg.py:183: RuntimeWarning: Glyph 51652 missing from current font.\n",
            "  font.set_text(s, 0, flags=flags)\n",
            "/usr/local/lib/python3.6/dist-packages/matplotlib/backends/backend_agg.py:183: RuntimeWarning: Glyph 51676 missing from current font.\n",
            "  font.set_text(s, 0, flags=flags)\n",
            "/usr/local/lib/python3.6/dist-packages/matplotlib/backends/backend_agg.py:183: RuntimeWarning: Glyph 51116 missing from current font.\n",
            "  font.set_text(s, 0, flags=flags)\n",
            "/usr/local/lib/python3.6/dist-packages/matplotlib/backends/backend_agg.py:183: RuntimeWarning: Glyph 54788 missing from current font.\n",
            "  font.set_text(s, 0, flags=flags)\n"
          ],
          "name": "stderr"
        },
        {
          "output_type": "display_data",
          "data": {
            "image/png": "[encoded data removed]",
            "text/plain": [
              "<Figure size 432x288 with 1 Axes>"
            ]
          },
          "metadata": {
            "tags": [],
            "image/png": {
              "width": 385,
              "height": 261
            },
            "needs_background": "light"
          }
        }
      ]
    },
    {
      "cell_type": "markdown",
      "metadata": {
        "id": "6W7_shCleDMo"
      },
      "source": [
        "여기서 역시 TPR과 FPR은 트레이드 오프 관계가 있음을 알 수 있다.  \r\n",
        "\r\n",
        "가운데 있는 점선은 완전한 랜덤 분류기일 때 ROC곡선을 의미한다. 가운데 점선으로부터 최대한 멀리 떨어져 있어서 좋은 분류기이다."
      ]
    },
    {
      "cell_type": "markdown",
      "metadata": {
        "id": "1IisP2RfekBf"
      },
      "source": [
        "* AUC(Area Under the Curve) :\r\n",
        "1. ROC의 아래 면적을 의미한다.\r\n",
        "2. 완벽한 분류기는 ROC AUC가 1이다.\r\n",
        "3. 완전한 분류기는 ROC AUC가 0.5이다.(위에서 가운데 점선)\r\n",
        "4. `roc_auc_score`를 이용해 ROC AUC를 계산할 수 있다."
      ]
    },
    {
      "cell_type": "code",
      "metadata": {
        "colab": {
          "base_uri": "https://localhost:8080/"
        },
        "id": "kFfZWFjRe6A7",
        "outputId": "f3a72454-2740-47dc-b805-923b57f34042"
      },
      "source": [
        "from sklearn.metrics import roc_auc_score\r\n",
        "roc_auc_score(y_train_5, y_scores)"
      ],
      "execution_count": 29,
      "outputs": [
        {
          "output_type": "execute_result",
          "data": {
            "text/plain": [
              "0.9604938554008616"
            ]
          },
          "metadata": {
            "tags": []
          },
          "execution_count": 29
        }
      ]
    },
    {
      "cell_type": "markdown",
      "metadata": {
        "id": "Vc0qqj1we-xM"
      },
      "source": [
        "PR(정밀도/재현율) 곡선과 ROC 곡선 중에서 어떤 것을 써야할지 궁금할 때는 다음과 같은 기준으로 선택하도록 해보자.\r\n",
        "1. 양성 클래스가 드물 떄 : PR곡선\r\n",
        "2. 거짓 음성보다 거짓 양성이 더 중요할 때 : PR곡선\r\n",
        "3. 그 밖 : ROC 곡선"
      ]
    },
    {
      "cell_type": "markdown",
      "metadata": {
        "id": "eGJ-KAK7fwj4"
      },
      "source": [
        "마지막으로, RandomForestClassifier와 SGDClassifier의 ROC곡선과 ROC AUC 점수를 비교해보도록 하자."
      ]
    },
    {
      "cell_type": "code",
      "metadata": {
        "id": "ZWpb8dp7f4hU"
      },
      "source": [
        "from sklearn.ensemble import RandomForestClassifier\r\n",
        "\r\n",
        "forest_clf = RandomForestClassifier(random_state = 42)\r\n",
        "y_probas_forest = cross_val_predict(forest_clf, X_train, y_train_5, cv = 3,\r\n",
        "                                    method = 'predict_proba')\r\n",
        "# predict_proba는 앞서 설명한 decision_function()(label이 아닌 점수 반환)의 역활을 RandomForest에서 한다.\r\n",
        "# 샘플이 행, 클래스가 열, 샘플이 주어진 클래서에 속할 확률을 담은 배열을 반환한다."
      ],
      "execution_count": 30,
      "outputs": []
    },
    {
      "cell_type": "code",
      "metadata": {
        "id": "am1OF1OmgdTt"
      },
      "source": [
        "y_scores_forest = y_probas_forest[:, 1] # 양성 클래스에 대한 확률을 점수로 사용한다.\r\n",
        "fpr_forest, tpr_forest, threholds_forest = roc_curve(y_train_5, y_scores_forest)"
      ],
      "execution_count": 31,
      "outputs": []
    },
    {
      "cell_type": "code",
      "metadata": {
        "id": "XUvY8FMyhnv3"
      },
      "source": [
        "def plot_roc_curve(fpr, tpr, label = None) :\r\n",
        "  plt.plot(fpr, tpr, linewidth = 2, label = label)\r\n",
        "  plt.plot([0,1], [0, 1], 'k--')\r\n",
        "  plt.xlabel('거짓 양성 비율(FPR)')\r\n",
        "  plt.ylabel('진짜 양성 비율(TPR)(재현율)')"
      ],
      "execution_count": 32,
      "outputs": []
    },
    {
      "cell_type": "code",
      "metadata": {
        "colab": {
          "base_uri": "https://localhost:8080/",
          "height": 1000
        },
        "id": "FzsAILawhB9q",
        "outputId": "72cc43a6-3282-471f-f1be-a9119529f620"
      },
      "source": [
        "plt.plot(fpr, tpr, 'b:', label = 'SGD')\r\n",
        "plt.plot(fpr_forest, tpr_forest, linewidth = 2, label = '랜덤 포레스트')\r\n",
        "plt.plot([0,1], [0, 1], 'k--')\r\n",
        "plt.xlabel('거짓 양성 비율(FPR)')\r\n",
        "plt.ylabel('진짜 양성 비율(TPR)(재현율)')\r\n",
        "plt.legend()\r\n",
        "plt.show()"
      ],
      "execution_count": 33,
      "outputs": [
        {
          "output_type": "stream",
          "text": [
            "/usr/local/lib/python3.6/dist-packages/matplotlib/backends/backend_agg.py:214: RuntimeWarning: Glyph 44144 missing from current font.\n",
            "  font.set_text(s, 0.0, flags=flags)\n",
            "/usr/local/lib/python3.6/dist-packages/matplotlib/backends/backend_agg.py:214: RuntimeWarning: Glyph 51667 missing from current font.\n",
            "  font.set_text(s, 0.0, flags=flags)\n",
            "/usr/local/lib/python3.6/dist-packages/matplotlib/backends/backend_agg.py:214: RuntimeWarning: Glyph 50577 missing from current font.\n",
            "  font.set_text(s, 0.0, flags=flags)\n",
            "/usr/local/lib/python3.6/dist-packages/matplotlib/backends/backend_agg.py:214: RuntimeWarning: Glyph 49457 missing from current font.\n",
            "  font.set_text(s, 0.0, flags=flags)\n",
            "/usr/local/lib/python3.6/dist-packages/matplotlib/backends/backend_agg.py:214: RuntimeWarning: Glyph 48708 missing from current font.\n",
            "  font.set_text(s, 0.0, flags=flags)\n",
            "/usr/local/lib/python3.6/dist-packages/matplotlib/backends/backend_agg.py:214: RuntimeWarning: Glyph 50984 missing from current font.\n",
            "  font.set_text(s, 0.0, flags=flags)\n",
            "/usr/local/lib/python3.6/dist-packages/matplotlib/backends/backend_agg.py:214: RuntimeWarning: Glyph 51652 missing from current font.\n",
            "  font.set_text(s, 0.0, flags=flags)\n",
            "/usr/local/lib/python3.6/dist-packages/matplotlib/backends/backend_agg.py:214: RuntimeWarning: Glyph 51676 missing from current font.\n",
            "  font.set_text(s, 0.0, flags=flags)\n",
            "/usr/local/lib/python3.6/dist-packages/matplotlib/backends/backend_agg.py:214: RuntimeWarning: Glyph 51116 missing from current font.\n",
            "  font.set_text(s, 0.0, flags=flags)\n",
            "/usr/local/lib/python3.6/dist-packages/matplotlib/backends/backend_agg.py:214: RuntimeWarning: Glyph 54788 missing from current font.\n",
            "  font.set_text(s, 0.0, flags=flags)\n",
            "/usr/local/lib/python3.6/dist-packages/matplotlib/backends/backend_agg.py:214: RuntimeWarning: Glyph 47004 missing from current font.\n",
            "  font.set_text(s, 0.0, flags=flags)\n",
            "/usr/local/lib/python3.6/dist-packages/matplotlib/backends/backend_agg.py:214: RuntimeWarning: Glyph 45924 missing from current font.\n",
            "  font.set_text(s, 0.0, flags=flags)\n",
            "/usr/local/lib/python3.6/dist-packages/matplotlib/backends/backend_agg.py:214: RuntimeWarning: Glyph 54252 missing from current font.\n",
            "  font.set_text(s, 0.0, flags=flags)\n",
            "/usr/local/lib/python3.6/dist-packages/matplotlib/backends/backend_agg.py:214: RuntimeWarning: Glyph 47112 missing from current font.\n",
            "  font.set_text(s, 0.0, flags=flags)\n",
            "/usr/local/lib/python3.6/dist-packages/matplotlib/backends/backend_agg.py:214: RuntimeWarning: Glyph 49828 missing from current font.\n",
            "  font.set_text(s, 0.0, flags=flags)\n",
            "/usr/local/lib/python3.6/dist-packages/matplotlib/backends/backend_agg.py:214: RuntimeWarning: Glyph 53944 missing from current font.\n",
            "  font.set_text(s, 0.0, flags=flags)\n",
            "/usr/local/lib/python3.6/dist-packages/matplotlib/backends/backend_agg.py:183: RuntimeWarning: Glyph 44144 missing from current font.\n",
            "  font.set_text(s, 0, flags=flags)\n",
            "/usr/local/lib/python3.6/dist-packages/matplotlib/backends/backend_agg.py:183: RuntimeWarning: Glyph 51667 missing from current font.\n",
            "  font.set_text(s, 0, flags=flags)\n",
            "/usr/local/lib/python3.6/dist-packages/matplotlib/backends/backend_agg.py:183: RuntimeWarning: Glyph 50577 missing from current font.\n",
            "  font.set_text(s, 0, flags=flags)\n",
            "/usr/local/lib/python3.6/dist-packages/matplotlib/backends/backend_agg.py:183: RuntimeWarning: Glyph 49457 missing from current font.\n",
            "  font.set_text(s, 0, flags=flags)\n",
            "/usr/local/lib/python3.6/dist-packages/matplotlib/backends/backend_agg.py:183: RuntimeWarning: Glyph 48708 missing from current font.\n",
            "  font.set_text(s, 0, flags=flags)\n",
            "/usr/local/lib/python3.6/dist-packages/matplotlib/backends/backend_agg.py:183: RuntimeWarning: Glyph 50984 missing from current font.\n",
            "  font.set_text(s, 0, flags=flags)\n",
            "/usr/local/lib/python3.6/dist-packages/matplotlib/backends/backend_agg.py:183: RuntimeWarning: Glyph 51652 missing from current font.\n",
            "  font.set_text(s, 0, flags=flags)\n",
            "/usr/local/lib/python3.6/dist-packages/matplotlib/backends/backend_agg.py:183: RuntimeWarning: Glyph 51676 missing from current font.\n",
            "  font.set_text(s, 0, flags=flags)\n",
            "/usr/local/lib/python3.6/dist-packages/matplotlib/backends/backend_agg.py:183: RuntimeWarning: Glyph 51116 missing from current font.\n",
            "  font.set_text(s, 0, flags=flags)\n",
            "/usr/local/lib/python3.6/dist-packages/matplotlib/backends/backend_agg.py:183: RuntimeWarning: Glyph 54788 missing from current font.\n",
            "  font.set_text(s, 0, flags=flags)\n",
            "/usr/local/lib/python3.6/dist-packages/matplotlib/backends/backend_agg.py:183: RuntimeWarning: Glyph 47004 missing from current font.\n",
            "  font.set_text(s, 0, flags=flags)\n",
            "/usr/local/lib/python3.6/dist-packages/matplotlib/backends/backend_agg.py:183: RuntimeWarning: Glyph 45924 missing from current font.\n",
            "  font.set_text(s, 0, flags=flags)\n",
            "/usr/local/lib/python3.6/dist-packages/matplotlib/backends/backend_agg.py:183: RuntimeWarning: Glyph 54252 missing from current font.\n",
            "  font.set_text(s, 0, flags=flags)\n",
            "/usr/local/lib/python3.6/dist-packages/matplotlib/backends/backend_agg.py:183: RuntimeWarning: Glyph 47112 missing from current font.\n",
            "  font.set_text(s, 0, flags=flags)\n",
            "/usr/local/lib/python3.6/dist-packages/matplotlib/backends/backend_agg.py:183: RuntimeWarning: Glyph 49828 missing from current font.\n",
            "  font.set_text(s, 0, flags=flags)\n",
            "/usr/local/lib/python3.6/dist-packages/matplotlib/backends/backend_agg.py:183: RuntimeWarning: Glyph 53944 missing from current font.\n",
            "  font.set_text(s, 0, flags=flags)\n"
          ],
          "name": "stderr"
        },
        {
          "output_type": "display_data",
          "data": {
            "image/png": "[encoded data removed]",
            "text/plain": [
              "<Figure size 432x288 with 1 Axes>"
            ]
          },
          "metadata": {
            "tags": [],
            "image/png": {
              "width": 385,
              "height": 261
            },
            "needs_background": "light"
          }
        }
      ]
    },
    {
      "cell_type": "markdown",
      "metadata": {
        "id": "G7nk8VHbhKdS"
      },
      "source": [
        "ROC 곡선을 비교했을 때 랜덤 포레스트를 이용한 것이 왼쪽 위 모서리에 더 가까운 것으로 보아 성능이 훨씬 좋음을 알 수 있다. 당연히 ROC AUC 점수도 높다."
      ]
    },
    {
      "cell_type": "code",
      "metadata": {
        "colab": {
          "base_uri": "https://localhost:8080/"
        },
        "id": "ABBYwR4nis14",
        "outputId": "d541134d-98f6-437a-c31d-ea67705862a0"
      },
      "source": [
        "roc_auc_score(y_train_5, y_scores_forest)"
      ],
      "execution_count": 34,
      "outputs": [
        {
          "output_type": "execute_result",
          "data": {
            "text/plain": [
              "0.9983436731328145"
            ]
          },
          "metadata": {
            "tags": []
          },
          "execution_count": 34
        }
      ]
    },
    {
      "cell_type": "markdown",
      "metadata": {
        "id": "Ar3jEtU_iw9c"
      },
      "source": [
        "# 3.4 다중 분류\r\n"
      ]
    },
    {
      "cell_type": "markdown",
      "metadata": {
        "id": "qKN3NDN0i2wk"
      },
      "source": [
        "* Multiclass classifier : 둘 이상의 클래스를 구별할 수 있다.\r\n",
        "\r\n",
        "* OvR(One versus the Rest) : 여러 개의 이진 분류기를 훈련시켜 여러 클래스를 구별할 수 있다. 이미지의 경우 각 분류기의 점수 중 가장 높은 클래스로 선택하는 방법이다.\r\n",
        "* OvO(One versus One) : 모든 조합(0과1, 0과2, 1과2 etc)을 비교해가면서 모든 클래스들을 각각 비교해서 가장 많이 양성으로 분류된 클래스를 선택한다. 주요 장점으로는 각 분류기의 훈련에 전체 훈련 세트 중 구별할 두 클래스에 해당하는 샘플만 필요하다는 것이다."
      ]
    },
    {
      "cell_type": "markdown",
      "metadata": {
        "id": "EqIT-iOgu7ou"
      },
      "source": [
        "일부 알고리즘(ex, SVM)은 Training Set의 크기에 민감해서 작은 Training Set에서 많은 분류기를 훈련시키는 쪽이 빨라 OvO를 선호하나 대부분의 이진분류에서는 OvR을 선호한다."
      ]
    },
    {
      "cell_type": "markdown",
      "metadata": {
        "id": "br5FkQzcvSG4"
      },
      "source": [
        "다음의 코드를 사용하여 SVC를 테스트 해보도록 하자."
      ]
    },
    {
      "cell_type": "code",
      "metadata": {
        "colab": {
          "base_uri": "https://localhost:8080/"
        },
        "id": "IBxtCQj9vpi-",
        "outputId": "cf13eade-5293-43ea-8d6c-04c68425b2b2"
      },
      "source": [
        "from sklearn.svm import SVC\r\n",
        "\r\n",
        "svm_clf = SVC()\r\n",
        "svm_clf.fit(X_train, y_train)\r\n",
        "svm_clf.predict([some_digit])\r\n",
        "# SVM 내부에서는 OvO전략으로 총 45개(0~9 classification 총 10개)의 이진 분류기를 훈련시키고\r\n",
        "# 각각의 결정 점수를 얻어 점수가 가장 높은 클래스를 선택하는 것이다."
      ],
      "execution_count": 35,
      "outputs": [
        {
          "output_type": "execute_result",
          "data": {
            "text/plain": [
              "array([5], dtype=uint8)"
            ]
          },
          "metadata": {
            "tags": []
          },
          "execution_count": 35
        }
      ]
    },
    {
      "cell_type": "code",
      "metadata": {
        "colab": {
          "base_uri": "https://localhost:8080/"
        },
        "id": "8-vUAZqbv2bD",
        "outputId": "f8803456-61a2-4abe-e3bd-414364affc53"
      },
      "source": [
        "some_digit_scores = svm_clf.decision_function([some_digit])\r\n",
        "some_digit_scores\r\n",
        "# decision_function()을 호출하면 샘플 당 10개의 점수를 반환한다."
      ],
      "execution_count": 36,
      "outputs": [
        {
          "output_type": "execute_result",
          "data": {
            "text/plain": [
              "array([[ 1.72501977,  2.72809088,  7.2510018 ,  8.3076379 , -0.31087254,\n",
              "         9.3132482 ,  1.70975103,  2.76765202,  6.23049537,  4.84771048]])"
            ]
          },
          "metadata": {
            "tags": []
          },
          "execution_count": 36
        }
      ]
    },
    {
      "cell_type": "code",
      "metadata": {
        "colab": {
          "base_uri": "https://localhost:8080/"
        },
        "id": "IYEveIbLwqYC",
        "outputId": "d7eb4a77-edb0-47e1-f882-23ac6bedd026"
      },
      "source": [
        "print(np.argmax(some_digit_scores))\r\n",
        "print(svm_clf.classes_)\r\n",
        "print(svm_clf.classes_[5])\r\n",
        "# Training을 할 때, classes_에 타깃 클래스 리스트를 정렬하여 저장한다."
      ],
      "execution_count": 37,
      "outputs": [
        {
          "output_type": "stream",
          "text": [
            "5\n",
            "[0 1 2 3 4 5 6 7 8 9]\n",
            "5\n"
          ],
          "name": "stdout"
        }
      ]
    },
    {
      "cell_type": "markdown",
      "metadata": {
        "id": "-OqL2a85w0BG"
      },
      "source": [
        "사이킷런에서 OvO나 OvR을 사용하도록 강제하려면 `OneVsOneClassifier`나 `OneVsRestClassifier`를 사용하면 된다. SVC기반으로 OvR을 사용하는 코드를 간단히 살펴보도록  하자."
      ]
    },
    {
      "cell_type": "code",
      "metadata": {
        "colab": {
          "base_uri": "https://localhost:8080/"
        },
        "id": "RBU9StFaxSI8",
        "outputId": "238aa9fe-5e0f-4a77-ab3b-6ab27eade1d9"
      },
      "source": [
        "from sklearn.multiclass import OneVsRestClassifier\r\n",
        "ovr_clf = OneVsRestClassifier(SVC())\r\n",
        "ovr_clf.fit(X_train, y_train)\r\n",
        "print(ovr_clf.predict([some_digit]))\r\n",
        "print(len(ovr_clf.estimators_))"
      ],
      "execution_count": 39,
      "outputs": [
        {
          "output_type": "stream",
          "text": [
            "[5]\n",
            "10\n"
          ],
          "name": "stdout"
        }
      ]
    },
    {
      "cell_type": "markdown",
      "metadata": {
        "id": "DTrWw2YAxldc"
      },
      "source": [
        "SGDClassifier이나 RandomForestClassifier를 훈련시키는 것 역시 간단하며 위의 방법과 동일하다. SGD의 경우 직접 다중 클래스로 분류할 수 있기  때문에 별도로  OvR이나 OvO를 적용할 필요가 없다.  \r\n",
        "\r\n",
        "SGDClassifier를 이용해서 각 클래스마다 어떤 값을 부여받았는지 확인해보도록 하자."
      ]
    },
    {
      "cell_type": "code",
      "metadata": {
        "colab": {
          "base_uri": "https://localhost:8080/"
        },
        "id": "dC7slQq2yKmt",
        "outputId": "54be6d07-a6a0-405e-f52b-672e88fda04a"
      },
      "source": [
        "sgd_clf.fit(X_train, y_train)\r\n",
        "sgd_clf.predict([some_digit])\r\n",
        "\r\n",
        "sgd_clf.decision_function([some_digit])\r\n",
        "# decision_function()을 이용하면 클래스마다 점수가 어떻게 부여받았는지 확인할 수 있다."
      ],
      "execution_count": 40,
      "outputs": [
        {
          "output_type": "execute_result",
          "data": {
            "text/plain": [
              "array([[-31893.03095419, -34419.69069632,  -9530.63950739,\n",
              "          1823.73154031, -22320.14822878,  -1385.80478895,\n",
              "        -26188.91070951, -16147.51323997,  -4604.35491274,\n",
              "        -12050.767298  ]])"
            ]
          },
          "metadata": {
            "tags": []
          },
          "execution_count": 40
        }
      ]
    },
    {
      "cell_type": "markdown",
      "metadata": {
        "id": "s0Ukh6PvygVf"
      },
      "source": [
        "`cross_val_score()`를 이용하여 분류기를 평가해보자. 그리고 Scaling을 해서 간단하게 정확도를 조금 더 올려보도록 하자."
      ]
    },
    {
      "cell_type": "code",
      "metadata": {
        "colab": {
          "base_uri": "https://localhost:8080/"
        },
        "id": "s-Zh4lJdy1Og",
        "outputId": "5d0cc231-0756-4a73-8fc1-0b81550b4189"
      },
      "source": [
        "cross_val_score(sgd_clf, X_train, y_train, cv =3, scoring = 'accuracy')"
      ],
      "execution_count": 41,
      "outputs": [
        {
          "output_type": "execute_result",
          "data": {
            "text/plain": [
              "array([0.87365, 0.85835, 0.8689 ])"
            ]
          },
          "metadata": {
            "tags": []
          },
          "execution_count": 41
        }
      ]
    },
    {
      "cell_type": "code",
      "metadata": {
        "colab": {
          "base_uri": "https://localhost:8080/"
        },
        "id": "xA1Zd-cCy56O",
        "outputId": "5bed3a25-2233-4c0d-9380-da037306605f"
      },
      "source": [
        "from sklearn.preprocessing import StandardScaler\r\n",
        "scaler = StandardScaler()\r\n",
        "X_train_scaled = scaler.fit_transform(X_train.astype(np.float64))\r\n",
        "cross_val_score(sgd_clf, X_train_scaled, y_train, cv = 3, scoring = 'accuracy')"
      ],
      "execution_count": 43,
      "outputs": [
        {
          "output_type": "execute_result",
          "data": {
            "text/plain": [
              "array([0.8983, 0.891 , 0.9018])"
            ]
          },
          "metadata": {
            "tags": []
          },
          "execution_count": 43
        }
      ]
    },
    {
      "cell_type": "markdown",
      "metadata": {
        "id": "tJqTP-IdzMQ_"
      },
      "source": [
        "# 3.5 에러 분석\r\n",
        "모델의 성능을 향상시킬 수 있는 한가지 방법은 에러의 종류를 분석하는 것이다."
      ]
    },
    {
      "cell_type": "markdown",
      "metadata": {
        "id": "lroIeif3zxFD"
      },
      "source": [
        "먼저, 오차 행렬을 살펴보기 위하여 `cross_val_predict()`를 활용하여 예측값을 만든 후  `confusion_matrix()`를 이용하여 호출하도록 하자."
      ]
    },
    {
      "cell_type": "code",
      "metadata": {
        "id": "5EO2fLdTz-7J"
      },
      "source": [
        "y_train_pred = cross_val_predict(sgd_clf, X_train_scaled, y_train, cv = 3,)\r\n",
        "conf_mx = confusion_matrix(y_train, y_train_pred)\r\n",
        "conf_mx"
      ],
      "execution_count": null,
      "outputs": []
    },
    {
      "cell_type": "code",
      "metadata": {
        "id": "sDkDKu1R0H2N"
      },
      "source": [
        "plt.matshow(conf_mx, cmap = plt.cm.gray)\r\n",
        "plt.show()\r\n",
        "# matshow()함수를 이용하면 숫자출력을 이미지로 표현할 수 있다.\r\n",
        "# 배열에서 가장 큰 값은 흰색으로 가장 작은 값은 검은색으로 정규화되어 그려진다."
      ],
      "execution_count": null,
      "outputs": []
    },
    {
      "cell_type": "markdown",
      "metadata": {
        "id": "33-uLYGX0Tbm"
      },
      "source": [
        "그래프의 에러 부분에 초점을 맞추기 위해서 오차 행렬의 각 값을 대응디는 클래스의 이미지 개수로 나누어 에러 비율을 비교하도록 하자.(절대 개수로 비교하면 이미지가 많은 클래스가 상대적으로 나쁘게 보이므로 앞서 말한 방식으로 진행하도록 한다.)"
      ]
    },
    {
      "cell_type": "code",
      "metadata": {
        "id": "OJd3wVX_0rbv"
      },
      "source": [
        "row_sums = conf_mx.sum(axis = 1, keepdims = True)\r\n",
        "norm_conf_mx = conf_mx / row_sums"
      ],
      "execution_count": null,
      "outputs": []
    },
    {
      "cell_type": "code",
      "metadata": {
        "id": "YMfRQEkK1XBR"
      },
      "source": [
        "np.fill_diagonal(norm_conf_mx, 0)\r\n",
        "# 주대각선만 0으로 채운 후 배열을 시각적으로 나타내보도록 한다.\r\n",
        "plt.matshow(norm_conf_mx, cmap = plt.cm.gray)\r\n",
        "plt.show()\r\n",
        "# 행은 실제 클래스를 열은 예측한 클래스를 나타낸다는 사실을 기억하자."
      ],
      "execution_count": null,
      "outputs": []
    },
    {
      "cell_type": "markdown",
      "metadata": {
        "id": "n5KqQXQG1qYw"
      },
      "source": [
        "위에서 볼 수 있듯이 오차 행렬은 반드시 대칭인 것은 아니다,  \r\n",
        "\r\n",
        "오차 행렬을 분석하면 분류기의 성능 향상 방안에 대한 통찰을 얻을 수 있다.  \r\n",
        "위의 그림에서 볼 수 있듯이 8의 경우 잘못 분류되는 것을 줄이는 방안쪽으로 개선방향을 정할 수 있다. 또는 8을 더 잘 분류할 수 있도록 동심원을 세는 알고리즘 같은 것들을 특성으로 추가할 수도 있다.  \r\n",
        "\r\n",
        "Error Analysis의 경우 분류기가 무슨 일을 하고 있고, 왜 잘못되었는지에 대한 통찰을 얻을 수 있다는 장점이 있지만 더 어렵고 시간이 오래걸린다는 단점이 있다.  "
      ]
    },
    {
      "cell_type": "markdown",
      "metadata": {
        "id": "1E012FrE84xW"
      },
      "source": [
        "# 3.6 다중 레이블 분류\r\n",
        "지금까지는 각 샘플이 하나의 클래스에만 할당되었다. 하지만 분류기가 샘플마다 여러개의 클래스를 출력해야 할 떄도 있다. 예를 들어, 얼굴을 인식하여 꼬리표를 출력해주는 것이 이러한 것이다.  \r\n",
        "이런 것들을 **다중 레이블 분류(Multilabel Classification)**이라고 한다.  \r\n",
        "다음의 간단한 예를 통해 이해를 돕도록 하자."
      ]
    },
    {
      "cell_type": "code",
      "metadata": {
        "id": "He58fWMM9hDd"
      },
      "source": [
        "from sklearn.neighbors import KNeighborsClassifier\r\n",
        "\r\n",
        "y_train_large = (y_train >= 7)\r\n",
        "y_train_odd = (y_train % 2 == 1)\r\n",
        "y_multilabel = np.c_[y_train_large, y_train_odd]\r\n",
        "# 두 개의 타깃 레이블이 담긴 y_multilabel을 만든다.\r\n",
        "\r\n",
        "knn_clf = KNeighborsClassifier()\r\n",
        "knn_clf.fit(X_train, y_multilabel)\r\n",
        "\r\n",
        "knn_clf.predict([some_digit]) # some_digit은 5를 나타내므로 7보다 큰지 그리고 홀수인지를 나타내는 Output값이 나타날 것이다."
      ],
      "execution_count": null,
      "outputs": []
    },
    {
      "cell_type": "markdown",
      "metadata": {
        "id": "EomoNRWy9zK0"
      },
      "source": [
        "다중 레이블 분류기 역시 많은 방법들로 평가할 수 있고 이역시 프로젝트에 따라 다른 지표들을 사용하게 된다. 여기서는 간단하게 앞서 사용했던 F1 Score를 사용해보도록 하자."
      ]
    },
    {
      "cell_type": "code",
      "metadata": {
        "id": "EmkDNZ_X-XvQ"
      },
      "source": [
        "y_train_knn_pred = cross_val_predict(knn_clf, X_train, y_multilabel, cv = 3)\r\n",
        "f1_score(y_multilabel, y_train_knn_pred, average = 'macro')\r\n",
        "# f1_score에서 average를 macro로 준 것은 모든 레이블의 가중치를 동일하게 가정한 것이다.\r\n",
        "# average = 'weighted'로 주면 가중치를 더 많이 줄 수도 있다."
      ],
      "execution_count": null,
      "outputs": []
    },
    {
      "cell_type": "markdown",
      "metadata": {
        "id": "ysYwqdgh-vD6"
      },
      "source": [
        "# 3.7 다중 출력 분류\r\n",
        "다중 출력 분류의 경우 다중 레이블 분류에서 한 레이블이 다중 클래스가 될 수 있도록 일반화 한 것이다."
      ]
    }
  ]
}