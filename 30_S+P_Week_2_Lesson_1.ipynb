{
  "nbformat": 4,
  "nbformat_minor": 0,
  "metadata": {
    "colab": {
      "name": "30. S+P Week 2 Lesson 1.ipynb",
      "private_outputs": true,
      "provenance": [],
      "collapsed_sections": [],
      "authorship_tag": "ABX9TyOd15nzU6BLugIPmCMtzw6S",
      "include_colab_link": true
    },
    "kernelspec": {
      "name": "python3",
      "display_name": "Python 3"
    }
  },
  "cells": [
    {
      "cell_type": "markdown",
      "metadata": {
        "id": "view-in-github",
        "colab_type": "text"
      },
      "source": [
        "<a href=\"https://colab.research.google.com/github/jjonhwa/DeepLearning.AI-TensorFlow/blob/main/30_S%2BP_Week_2_Lesson_1.ipynb\" target=\"_parent\"><img src=\"https://colab.research.google.com/assets/colab-badge.svg\" alt=\"Open In Colab\"/></a>"
      ]
    },
    {
      "cell_type": "code",
      "metadata": {
        "id": "p-oZ-xarERXd"
      },
      "source": [
        "import tensorflow as tf\r\n",
        "import numpy as np\r\n",
        "import matplotlib.pyplot as plt\r\n",
        "%matplotlib inline"
      ],
      "execution_count": null,
      "outputs": []
    },
    {
      "cell_type": "code",
      "metadata": {
        "id": "-To8n-j-KJhS"
      },
      "source": [
        "dataset = tf.data.Dataset.range(10)\r\n",
        "\r\n",
        "for val in dataset :\r\n",
        "  print(val.numpy())"
      ],
      "execution_count": null,
      "outputs": []
    },
    {
      "cell_type": "code",
      "metadata": {
        "id": "O2e4bpNPKPoy"
      },
      "source": [
        "dataset = tf.data.Dataset.range(10)\r\n",
        "dataset = dataset.window(5, shift = 1) # dataset을 5개씩 한 묶음으로 한칸씩 움직인다.\r\n",
        "\r\n",
        "for window_dataset in dataset :\r\n",
        "  for val in window_dataset :\r\n",
        "    print(val.numpy(), end = ' ')\r\n",
        "  print()"
      ],
      "execution_count": null,
      "outputs": []
    },
    {
      "cell_type": "code",
      "metadata": {
        "id": "xV-EoCl1KmED"
      },
      "source": [
        "dataset = tf.data.Dataset.range(10)\r\n",
        "dataset = dataset.window(5, shift = 1, drop_remainder = True) # drop_remainder : 5개 이하로 남아있으면 drop한다.\r\n",
        "\r\n",
        "for window_dataset in dataset :\r\n",
        "  for val in window_dataset :\r\n",
        "    print(val.numpy(), end = \" \")\r\n",
        "  print()"
      ],
      "execution_count": null,
      "outputs": []
    },
    {
      "cell_type": "code",
      "metadata": {
        "id": "VjGOsDuZLIA6"
      },
      "source": [
        "dataset = tf.data.Dataset.range(10)\r\n",
        "dataset = dataset.window(5, shift = 1, drop_remainder = True)\r\n",
        "dataset = dataset.flat_map(lambda window : window.batch(5)) # 각 윈도우들을 다시 5개씩 batch해준다.\r\n",
        "\r\n",
        "for window in dataset : \r\n",
        "  print(window.numpy())"
      ],
      "execution_count": null,
      "outputs": []
    },
    {
      "cell_type": "code",
      "metadata": {
        "id": "7gu_TfdbLofE"
      },
      "source": [
        "dataset = tf.data.Dataset.range(10)\r\n",
        "dataset = dataset.window(5, shift = 1, drop_remainder = True)\r\n",
        "dataset = dataset.flat_map(lambda window : window.batch(5))\r\n",
        "dataset = dataset.map(lambda window: (window[:-1], window[-1:])) # 윈도우의 [:-1]값과 [-1:]값을 매핑시켜서 세트로 묶는다.\r\n",
        "\r\n",
        "for x,y in dataset :\r\n",
        "  print(x.numpy(), y.numpy())"
      ],
      "execution_count": null,
      "outputs": []
    },
    {
      "cell_type": "code",
      "metadata": {
        "id": "DSTuMyacMj5j"
      },
      "source": [
        "dataset = tf.data.Dataset.range(10)\r\n",
        "dataset = dataset.window(5, shift = 1, drop_remainder = True)\r\n",
        "dataset = dataset.flat_map(lambda window : window.batch(5))\r\n",
        "dataset = dataset.map(lambda window : (window[:-1], window[-1:]))\r\n",
        "dataset = dataset.shuffle(buffer_size = 10) # 데이터의 크가가 10이여서 10만큼으로 size를 주고 섞어준다.\r\n",
        "\r\n",
        "for x, y in dataset :\r\n",
        "  print(x.numpy(), y.numpy())"
      ],
      "execution_count": null,
      "outputs": []
    },
    {
      "cell_type": "code",
      "metadata": {
        "id": "biBaNeSZFl6o"
      },
      "source": [
        "dataset = tf.data.Dataset.range(10)\r\n",
        "dataset = dataset.window(5, shift = 1, drop_remainder = True)\r\n",
        "dataset = dataset.flat_map(lambda window : window.batch(5))\r\n",
        "dataset = dataset.map(lambda window : (window[:-1], window[-1:]))\r\n",
        "dataset = dataset.shuffle(buffer_size = 10)\r\n",
        "dataset = dataset.batch(3).prefetch(1) # prefetch는 현재 요소를 처리하는 동안 나중에 처리할 요소들에 대해 준비할 수 있게하여 지연 시간과 처리량을 향상시켜준다.\r\n",
        "\r\n",
        "for x,y in dataset :\r\n",
        "  print('x=', x.numpy())\r\n",
        "  print('y=', y.numpy())"
      ],
      "execution_count": null,
      "outputs": []
    },
    {
      "cell_type": "code",
      "metadata": {
        "id": "dPaocfNeLnj0"
      },
      "source": [
        ""
      ],
      "execution_count": null,
      "outputs": []
    }
  ]
}