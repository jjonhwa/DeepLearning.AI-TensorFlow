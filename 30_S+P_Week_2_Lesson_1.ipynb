{
  "nbformat": 4,
  "nbformat_minor": 0,
  "metadata": {
    "colab": {
      "name": "30. S+P Week 2 Lesson 1.ipynb",
      "provenance": [],
      "collapsed_sections": [],
      "authorship_tag": "ABX9TyOd15nzU6BLugIPmCMtzw6S",
      "include_colab_link": true
    },
    "kernelspec": {
      "name": "python3",
      "display_name": "Python 3"
    }
  },
  "cells": [
    {
      "cell_type": "markdown",
      "metadata": {
        "id": "view-in-github",
        "colab_type": "text"
      },
      "source": [
        "<a href=\"https://colab.research.google.com/github/jjonhwa/DeepLearning.AI-TensorFlow/blob/main/30_S%2BP_Week_2_Lesson_1.ipynb\" target=\"_parent\"><img src=\"https://colab.research.google.com/assets/colab-badge.svg\" alt=\"Open In Colab\"/></a>"
      ]
    },
    {
      "cell_type": "code",
      "metadata": {
        "id": "p-oZ-xarERXd"
      },
      "source": [
        "import tensorflow as tf\r\n",
        "import numpy as np\r\n",
        "import matplotlib.pyplot as plt\r\n",
        "%matplotlib inline"
      ],
      "execution_count": 44,
      "outputs": []
    },
    {
      "cell_type": "code",
      "metadata": {
        "colab": {
          "base_uri": "https://localhost:8080/"
        },
        "id": "-To8n-j-KJhS",
        "outputId": "a7d237f5-1905-4798-8f2b-f3c52135a70b"
      },
      "source": [
        "dataset = tf.data.Dataset.range(10)\r\n",
        "\r\n",
        "for val in dataset :\r\n",
        "  print(val.numpy())"
      ],
      "execution_count": 46,
      "outputs": [
        {
          "output_type": "stream",
          "text": [
            "0\n",
            "1\n",
            "2\n",
            "3\n",
            "4\n",
            "5\n",
            "6\n",
            "7\n",
            "8\n",
            "9\n"
          ],
          "name": "stdout"
        }
      ]
    },
    {
      "cell_type": "code",
      "metadata": {
        "colab": {
          "base_uri": "https://localhost:8080/"
        },
        "id": "O2e4bpNPKPoy",
        "outputId": "3cbbf181-438f-43cf-cca0-8fc1c9c26aa9"
      },
      "source": [
        "dataset = tf.data.Dataset.range(10)\r\n",
        "dataset = dataset.window(5, shift = 1) # dataset을 5개씩 한 묶음으로 한칸씩 움직인다.\r\n",
        "\r\n",
        "for window_dataset in dataset :\r\n",
        "  for val in window_dataset :\r\n",
        "    print(val.numpy(), end = ' ')\r\n",
        "  print()"
      ],
      "execution_count": 48,
      "outputs": [
        {
          "output_type": "stream",
          "text": [
            "0 1 2 3 4 \n",
            "1 2 3 4 5 \n",
            "2 3 4 5 6 \n",
            "3 4 5 6 7 \n",
            "4 5 6 7 8 \n",
            "5 6 7 8 9 \n",
            "6 7 8 9 \n",
            "7 8 9 \n",
            "8 9 \n",
            "9 \n"
          ],
          "name": "stdout"
        }
      ]
    },
    {
      "cell_type": "code",
      "metadata": {
        "colab": {
          "base_uri": "https://localhost:8080/"
        },
        "id": "xV-EoCl1KmED",
        "outputId": "edf21ed9-322c-43c4-908c-63901885ecfc"
      },
      "source": [
        "dataset = tf.data.Dataset.range(10)\r\n",
        "dataset = dataset.window(5, shift = 1, drop_remainder = True) # drop_remainder : 5개 이하로 남아있으면 drop한다.\r\n",
        "\r\n",
        "for window_dataset in dataset :\r\n",
        "  for val in window_dataset :\r\n",
        "    print(val.numpy(), end = \" \")\r\n",
        "  print()"
      ],
      "execution_count": 50,
      "outputs": [
        {
          "output_type": "stream",
          "text": [
            "0 1 2 3 4 \n",
            "1 2 3 4 5 \n",
            "2 3 4 5 6 \n",
            "3 4 5 6 7 \n",
            "4 5 6 7 8 \n",
            "5 6 7 8 9 \n"
          ],
          "name": "stdout"
        }
      ]
    },
    {
      "cell_type": "code",
      "metadata": {
        "colab": {
          "base_uri": "https://localhost:8080/"
        },
        "id": "VjGOsDuZLIA6",
        "outputId": "e504f4b4-3877-49c6-8f16-d4eaf62a6818"
      },
      "source": [
        "dataset = tf.data.Dataset.range(10)\r\n",
        "dataset = dataset.window(5, shift = 1, drop_remainder = True)\r\n",
        "dataset = dataset.flat_map(lambda window : window.batch(5)) # 각 윈도우들을 다시 5개씩 batch해준다.\r\n",
        "\r\n",
        "for window in dataset : \r\n",
        "  print(window.numpy())"
      ],
      "execution_count": 52,
      "outputs": [
        {
          "output_type": "stream",
          "text": [
            "[0 1 2 3 4]\n",
            "[1 2 3 4 5]\n",
            "[2 3 4 5 6]\n",
            "[3 4 5 6 7]\n",
            "[4 5 6 7 8]\n",
            "[5 6 7 8 9]\n"
          ],
          "name": "stdout"
        }
      ]
    },
    {
      "cell_type": "code",
      "metadata": {
        "colab": {
          "base_uri": "https://localhost:8080/"
        },
        "id": "7gu_TfdbLofE",
        "outputId": "d7de95d7-8ee2-47b3-86ee-195da91719cb"
      },
      "source": [
        "dataset = tf.data.Dataset.range(10)\r\n",
        "dataset = dataset.window(5, shift = 1, drop_remainder = True)\r\n",
        "dataset = dataset.flat_map(lambda window : window.batch(5))\r\n",
        "dataset = dataset.map(lambda window: (window[:-1], window[-1:])) # 윈도우의 [:-1]값과 [-1:]값을 매핑시켜서 세트로 묶는다.\r\n",
        "\r\n",
        "for x,y in dataset :\r\n",
        "  print(x.numpy(), y.numpy())"
      ],
      "execution_count": 55,
      "outputs": [
        {
          "output_type": "stream",
          "text": [
            "[0 1 2 3] [4]\n",
            "[1 2 3 4] [5]\n",
            "[2 3 4 5] [6]\n",
            "[3 4 5 6] [7]\n",
            "[4 5 6 7] [8]\n",
            "[5 6 7 8] [9]\n"
          ],
          "name": "stdout"
        }
      ]
    },
    {
      "cell_type": "code",
      "metadata": {
        "colab": {
          "base_uri": "https://localhost:8080/"
        },
        "id": "DSTuMyacMj5j",
        "outputId": "b73aff28-0fc5-4c79-e97c-2b59ffd8cb7c"
      },
      "source": [
        "dataset = tf.data.Dataset.range(10)\r\n",
        "dataset = dataset.window(5, shift = 1, drop_remainder = True)\r\n",
        "dataset = dataset.flat_map(lambda window : window.batch(5))\r\n",
        "dataset = dataset.map(lambda window : (window[:-1], window[-1:]))\r\n",
        "dataset = dataset.shuffle(buffer_size = 10) # 데이터의 크가가 10이여서 10만큼으로 size를 주고 섞어준다.\r\n",
        "\r\n",
        "for x, y in dataset :\r\n",
        "  print(x.numpy(), y.numpy())"
      ],
      "execution_count": 56,
      "outputs": [
        {
          "output_type": "stream",
          "text": [
            "[2 3 4 5] [6]\n",
            "[3 4 5 6] [7]\n",
            "[0 1 2 3] [4]\n",
            "[4 5 6 7] [8]\n",
            "[1 2 3 4] [5]\n",
            "[5 6 7 8] [9]\n"
          ],
          "name": "stdout"
        }
      ]
    },
    {
      "cell_type": "code",
      "metadata": {
        "colab": {
          "base_uri": "https://localhost:8080/"
        },
        "id": "biBaNeSZFl6o",
        "outputId": "c862116c-78b7-447f-da78-1a256a604dc8"
      },
      "source": [
        "dataset = tf.data.Dataset.range(10)\r\n",
        "dataset = dataset.window(5, shift = 1, drop_remainder = True)\r\n",
        "dataset = dataset.flat_map(lambda window : window.batch(5))\r\n",
        "dataset = dataset.map(lambda window : (window[:-1], window[-1:]))\r\n",
        "dataset = dataset.shuffle(buffer_size = 10)\r\n",
        "dataset = dataset.batch(3).prefetch(1) # prefetch는 현재 요소를 처리하는 동안 나중에 처리할 요소들에 대해 준비할 수 있게하여 지연 시간과 처리량을 향상시켜준다.\r\n",
        "\r\n",
        "for x,y in dataset :\r\n",
        "  print('x=', x.numpy())\r\n",
        "  print('y=', y.numpy())"
      ],
      "execution_count": 58,
      "outputs": [
        {
          "output_type": "stream",
          "text": [
            "x= [[2 3 4 5]\n",
            " [1 2 3 4]\n",
            " [3 4 5 6]]\n",
            "y= [[6]\n",
            " [5]\n",
            " [7]]\n",
            "x= [[5 6 7 8]\n",
            " [4 5 6 7]\n",
            " [0 1 2 3]]\n",
            "y= [[9]\n",
            " [8]\n",
            " [4]]\n"
          ],
          "name": "stdout"
        }
      ]
    },
    {
      "cell_type": "code",
      "metadata": {
        "id": "dPaocfNeLnj0"
      },
      "source": [
        ""
      ],
      "execution_count": null,
      "outputs": []
    }
  ]
}