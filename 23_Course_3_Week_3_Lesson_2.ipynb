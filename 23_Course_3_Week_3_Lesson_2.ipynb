{
  "nbformat": 4,
  "nbformat_minor": 0,
  "metadata": {
    "colab": {
      "name": "23. Course 3 - Week 3 - Lesson 2.ipynb",
      "provenance": [],
      "collapsed_sections": [],
      "authorship_tag": "ABX9TyMbMflVRkKwo5bGdCDYS0fE",
      "include_colab_link": true
    },
    "kernelspec": {
      "name": "python3",
      "display_name": "Python 3"
    },
    "accelerator": "TPU"
  },
  "cells": [
    {
      "cell_type": "markdown",
      "metadata": {
        "id": "view-in-github",
        "colab_type": "text"
      },
      "source": [
        "<a href=\"https://colab.research.google.com/github/jjonhwa/DeepLearning.AI-TensorFlow/blob/main/23_Course_3_Week_3_Lesson_2.ipynb\" target=\"_parent\"><img src=\"https://colab.research.google.com/assets/colab-badge.svg\" alt=\"Open In Colab\"/></a>"
      ]
    },
    {
      "cell_type": "code",
      "metadata": {
        "id": "A1Nbzsf-dE8q"
      },
      "source": [
        "import numpy as np\r\n",
        "\r\n",
        "import json\r\n",
        "import tensorflow as tf\r\n",
        "\r\n",
        "from tensorflow.keras.preprocessing.text import Tokenizer\r\n",
        "from tensorflow.keras.preprocessing.sequence import pad_sequences"
      ],
      "execution_count": 2,
      "outputs": []
    },
    {
      "cell_type": "code",
      "metadata": {
        "colab": {
          "base_uri": "https://localhost:8080/"
        },
        "id": "_I7uNxmQdVvk",
        "outputId": "ccf2542c-3800-45e9-e40d-bfc0f3cb83f4"
      },
      "source": [
        "!wget --no-check-certificate \\\r\n",
        "https://storage.googleapis.com/laurencemoroney-blog.appspot.com/sarcasm.json \\\r\n",
        "-O /tmp/sarcasm.json"
      ],
      "execution_count": 3,
      "outputs": [
        {
          "output_type": "stream",
          "text": [
            "--2021-01-09 05:01:45--  https://storage.googleapis.com/laurencemoroney-blog.appspot.com/sarcasm.json\n",
            "Resolving storage.googleapis.com (storage.googleapis.com)... 172.217.212.128, 172.217.214.128, 108.177.111.128, ...\n",
            "Connecting to storage.googleapis.com (storage.googleapis.com)|172.217.212.128|:443... connected.\n",
            "HTTP request sent, awaiting response... 200 OK\n",
            "Length: 5643545 (5.4M) [application/json]\n",
            "Saving to: ‘/tmp/sarcasm.json’\n",
            "\n",
            "\r/tmp/sarcasm.json     0%[                    ]       0  --.-KB/s               \r/tmp/sarcasm.json   100%[===================>]   5.38M  --.-KB/s    in 0.07s   \n",
            "\n",
            "2021-01-09 05:01:45 (76.5 MB/s) - ‘/tmp/sarcasm.json’ saved [5643545/5643545]\n",
            "\n"
          ],
          "name": "stdout"
        }
      ]
    },
    {
      "cell_type": "code",
      "metadata": {
        "id": "9qlVhYcUdjEv"
      },
      "source": [
        "vocab_size = 1000\r\n",
        "embedding_dim = 16\r\n",
        "max_length = 120\r\n",
        "trunc_type = 'post'\r\n",
        "padding_type = 'post'\r\n",
        "oov_tok = '<OOV>'\r\n",
        "training_size = 20000"
      ],
      "execution_count": 4,
      "outputs": []
    },
    {
      "cell_type": "code",
      "metadata": {
        "id": "Flm9fLUUduh7"
      },
      "source": [
        "with open('/tmp/sarcasm.json', 'r') as f :\r\n",
        "  datastore = json.load(f)\r\n",
        "\r\n",
        "sentences = []\r\n",
        "labels = []\r\n",
        "urls = []\r\n",
        "\r\n",
        "for item in datastore :\r\n",
        "  sentences.append(item['headline'])\r\n",
        "  labels.append(item['is_sarcastic'])"
      ],
      "execution_count": 5,
      "outputs": []
    },
    {
      "cell_type": "code",
      "metadata": {
        "id": "Xb2Plq4weGEm"
      },
      "source": [
        "training_sentences = sentences[:training_size]\r\n",
        "testing_sentences = sentences[training_size :]\r\n",
        "\r\n",
        "training_labels = labels[:training_size]\r\n",
        "testing_labels = labels[training_size : ]\r\n",
        "\r\n",
        "tokenizer = Tokenizer(num_words = vocab_size, oov_token = oov_tok)\r\n",
        "tokenizer.fit_on_texts(sentences)\r\n",
        "word_index = tokenizer.word_index\r\n",
        "\r\n",
        "training_sequences = tokenizer.texts_to_sequences(training_sentences)\r\n",
        "padded = pad_sequences(training_sequences, maxlen = max_length, truncating = trunc_type, padding = padding_type)\r\n",
        "\r\n",
        "testing_sequences = tokenizer.texts_to_sequences(testing_sentences)\r\n",
        "testing_padded = pad_sequences(testing_sequences, maxlen = max_length, truncating = trunc_type, padding = padding_type)\r\n",
        "\r\n",
        "training_labels = np.array(training_labels)\r\n",
        "testing_labels = np.array(testing_labels)"
      ],
      "execution_count": 6,
      "outputs": []
    },
    {
      "cell_type": "markdown",
      "metadata": {
        "id": "zLwHcCRViv0y"
      },
      "source": [
        "# Sarcasm with Bidirectional LSTM"
      ]
    },
    {
      "cell_type": "code",
      "metadata": {
        "colab": {
          "base_uri": "https://localhost:8080/"
        },
        "id": "vn1PBVPJfmA0",
        "outputId": "b4b2a409-333f-4fc6-9f01-ef2b04576a15"
      },
      "source": [
        "model = tf.keras.Sequential([\r\n",
        "    tf.keras.layers.Embedding(vocab_size, embedding_dim, input_length = max_length),\r\n",
        "    tf.keras.layers.Bidirectional(tf.keras.layers.LSTM(32)),\r\n",
        "    tf.keras.layers.Dense(24, activation = 'relu'),\r\n",
        "    tf.keras.layers.Dense(1, activation = 'sigmoid')\r\n",
        "])\r\n",
        "\r\n",
        "model.compile(loss = 'binary_crossentropy',\r\n",
        "              optimizer = 'adam',\r\n",
        "              metrics = ['acc'])\r\n",
        "\r\n",
        "model.summary()"
      ],
      "execution_count": 7,
      "outputs": [
        {
          "output_type": "stream",
          "text": [
            "Model: \"sequential\"\n",
            "_________________________________________________________________\n",
            "Layer (type)                 Output Shape              Param #   \n",
            "=================================================================\n",
            "embedding (Embedding)        (None, 120, 16)           16000     \n",
            "_________________________________________________________________\n",
            "bidirectional (Bidirectional (None, 64)                12544     \n",
            "_________________________________________________________________\n",
            "dense (Dense)                (None, 24)                1560      \n",
            "_________________________________________________________________\n",
            "dense_1 (Dense)              (None, 1)                 25        \n",
            "=================================================================\n",
            "Total params: 30,129\n",
            "Trainable params: 30,129\n",
            "Non-trainable params: 0\n",
            "_________________________________________________________________\n"
          ],
          "name": "stdout"
        }
      ]
    },
    {
      "cell_type": "code",
      "metadata": {
        "colab": {
          "base_uri": "https://localhost:8080/"
        },
        "id": "n_6omMbKgmd4",
        "outputId": "672026a7-af5d-453b-ecc6-b7a79389d86b"
      },
      "source": [
        "num_epochs = 20\r\n",
        "history = model.fit(\r\n",
        "    padded,\r\n",
        "    training_labels,\r\n",
        "    epochs = num_epochs,\r\n",
        "    validation_data = (testing_padded, testing_labels)\r\n",
        ")"
      ],
      "execution_count": 8,
      "outputs": [
        {
          "output_type": "stream",
          "text": [
            "Epoch 1/20\n",
            "625/625 [==============================] - 36s 53ms/step - loss: 0.5531 - acc: 0.7019 - val_loss: 0.3815 - val_acc: 0.8234\n",
            "Epoch 2/20\n",
            "625/625 [==============================] - 33s 52ms/step - loss: 0.3492 - acc: 0.8379 - val_loss: 0.3691 - val_acc: 0.8304\n",
            "Epoch 3/20\n",
            "625/625 [==============================] - 33s 52ms/step - loss: 0.3183 - acc: 0.8588 - val_loss: 0.3674 - val_acc: 0.8343\n",
            "Epoch 4/20\n",
            "625/625 [==============================] - 33s 53ms/step - loss: 0.3065 - acc: 0.8637 - val_loss: 0.3733 - val_acc: 0.8326\n",
            "Epoch 5/20\n",
            "625/625 [==============================] - 33s 52ms/step - loss: 0.2977 - acc: 0.8683 - val_loss: 0.3797 - val_acc: 0.8287\n",
            "Epoch 6/20\n",
            "625/625 [==============================] - 32s 52ms/step - loss: 0.2887 - acc: 0.8734 - val_loss: 0.3726 - val_acc: 0.8363\n",
            "Epoch 7/20\n",
            "625/625 [==============================] - 33s 52ms/step - loss: 0.2736 - acc: 0.8816 - val_loss: 0.3788 - val_acc: 0.8299\n",
            "Epoch 8/20\n",
            "625/625 [==============================] - 33s 52ms/step - loss: 0.2728 - acc: 0.8814 - val_loss: 0.3761 - val_acc: 0.8356\n",
            "Epoch 9/20\n",
            "625/625 [==============================] - 33s 53ms/step - loss: 0.2548 - acc: 0.8899 - val_loss: 0.3763 - val_acc: 0.8325\n",
            "Epoch 10/20\n",
            "625/625 [==============================] - 33s 52ms/step - loss: 0.2565 - acc: 0.8904 - val_loss: 0.4023 - val_acc: 0.8290\n",
            "Epoch 11/20\n",
            "625/625 [==============================] - 33s 52ms/step - loss: 0.2390 - acc: 0.8985 - val_loss: 0.3955 - val_acc: 0.8332\n",
            "Epoch 12/20\n",
            "625/625 [==============================] - 33s 52ms/step - loss: 0.2405 - acc: 0.8958 - val_loss: 0.4128 - val_acc: 0.8319\n",
            "Epoch 13/20\n",
            "625/625 [==============================] - 33s 53ms/step - loss: 0.2297 - acc: 0.9064 - val_loss: 0.4347 - val_acc: 0.8267\n",
            "Epoch 14/20\n",
            "625/625 [==============================] - 33s 53ms/step - loss: 0.2276 - acc: 0.9016 - val_loss: 0.4342 - val_acc: 0.8246\n",
            "Epoch 15/20\n",
            "625/625 [==============================] - 33s 53ms/step - loss: 0.2218 - acc: 0.9063 - val_loss: 0.4304 - val_acc: 0.8310\n",
            "Epoch 16/20\n",
            "625/625 [==============================] - 33s 53ms/step - loss: 0.2093 - acc: 0.9140 - val_loss: 0.4689 - val_acc: 0.8192\n",
            "Epoch 17/20\n",
            "625/625 [==============================] - 33s 53ms/step - loss: 0.2086 - acc: 0.9116 - val_loss: 0.5024 - val_acc: 0.8205\n",
            "Epoch 18/20\n",
            "625/625 [==============================] - 33s 53ms/step - loss: 0.2030 - acc: 0.9174 - val_loss: 0.4604 - val_acc: 0.8243\n",
            "Epoch 19/20\n",
            "625/625 [==============================] - 33s 53ms/step - loss: 0.1907 - acc: 0.9229 - val_loss: 0.5071 - val_acc: 0.8161\n",
            "Epoch 20/20\n",
            "625/625 [==============================] - 33s 53ms/step - loss: 0.1911 - acc: 0.9234 - val_loss: 0.5267 - val_acc: 0.8205\n"
          ],
          "name": "stdout"
        }
      ]
    },
    {
      "cell_type": "code",
      "metadata": {
        "colab": {
          "base_uri": "https://localhost:8080/",
          "height": 573
        },
        "id": "qfNwU148g3w7",
        "outputId": "98064355-7c0a-4b9b-e715-58edf4ce9762"
      },
      "source": [
        "import matplotlib.pyplot as plt\r\n",
        "%matplotlib inline\r\n",
        "\r\n",
        "def plot_graphs(history, string) :\r\n",
        "  plt.plot(history.history[string])\r\n",
        "  plt.plot(history.history['val_'+string])\r\n",
        "  plt.xlabel('Epochs')\r\n",
        "  plt.ylabel(string)\r\n",
        "  plt.legend([string, 'val_'+string])\r\n",
        "  plt.title('Training & Validation {}'.format(string))\r\n",
        "  plt.show()\r\n",
        "\r\n",
        "plot_graphs(history, 'acc')\r\n",
        "plot_graphs(history, 'loss')"
      ],
      "execution_count": 11,
      "outputs": [
        {
          "output_type": "display_data",
          "data": {
            "image/png": "[encoded data removed]",
            "text/plain": [
              "<Figure size 432x288 with 1 Axes>"
            ]
          },
          "metadata": {
            "tags": [],
            "needs_background": "light"
          }
        },
        {
          "output_type": "display_data",
          "data": {
            "image/png": "[encoded data removed]",
            "text/plain": [
              "<Figure size 432x288 with 1 Axes>"
            ]
          },
          "metadata": {
            "tags": [],
            "needs_background": "light"
          }
        }
      ]
    },
    {
      "cell_type": "markdown",
      "metadata": {
        "id": "Oyq72X8viu6P"
      },
      "source": [
        "# Sarcasm with 1D Convolutional Layer"
      ]
    },
    {
      "cell_type": "code",
      "metadata": {
        "colab": {
          "base_uri": "https://localhost:8080/"
        },
        "id": "B1nPhZUBi57R",
        "outputId": "8e7a2321-7ec4-4610-a2d5-c3b9445fea9b"
      },
      "source": [
        "model_sub = tf.keras.Sequential([\r\n",
        "  tf.keras.layers.Embedding(vocab_size, embedding_dim, input_length = max_length),\r\n",
        "  tf.keras.layers.Conv1D(128, 5, activation = 'relu'),\r\n",
        "  tf.keras.layers.GlobalMaxPooling1D(),\r\n",
        "  tf.keras.layers.Dense(24, activation = 'relu'),\r\n",
        "  tf.keras.layers.Dense(1, activation = 'sigmoid')                                 \r\n",
        "])\r\n",
        "\r\n",
        "model_sub.compile(optimizer = 'adam',\r\n",
        "                  loss = 'binary_crossentropy',\r\n",
        "                  metrics = ['acc'])\r\n",
        "\r\n",
        "model_sub.summary()"
      ],
      "execution_count": 16,
      "outputs": [
        {
          "output_type": "stream",
          "text": [
            "Model: \"sequential_1\"\n",
            "_________________________________________________________________\n",
            "Layer (type)                 Output Shape              Param #   \n",
            "=================================================================\n",
            "embedding_4 (Embedding)      (None, 120, 16)           16000     \n",
            "_________________________________________________________________\n",
            "conv1d_3 (Conv1D)            (None, 116, 128)          10368     \n",
            "_________________________________________________________________\n",
            "global_max_pooling1d_1 (Glob (None, 128)               0         \n",
            "_________________________________________________________________\n",
            "dense_3 (Dense)              (None, 24)                3096      \n",
            "_________________________________________________________________\n",
            "dense_4 (Dense)              (None, 1)                 25        \n",
            "=================================================================\n",
            "Total params: 29,489\n",
            "Trainable params: 29,489\n",
            "Non-trainable params: 0\n",
            "_________________________________________________________________\n"
          ],
          "name": "stdout"
        }
      ]
    },
    {
      "cell_type": "code",
      "metadata": {
        "colab": {
          "base_uri": "https://localhost:8080/"
        },
        "id": "RkKcXYp0jfb9",
        "outputId": "4ef59003-26c0-4701-9902-5c63cedf257d"
      },
      "source": [
        "history_sub = model_sub.fit(\r\n",
        "    padded,\r\n",
        "    training_labels,\r\n",
        "    epochs = num_epochs,\r\n",
        "    validation_data = (testing_padded, testing_labels)\r\n",
        ")"
      ],
      "execution_count": 17,
      "outputs": [
        {
          "output_type": "stream",
          "text": [
            "Epoch 1/20\n",
            "625/625 [==============================] - 9s 13ms/step - loss: 0.5700 - acc: 0.6701 - val_loss: 0.4001 - val_acc: 0.8185\n",
            "Epoch 2/20\n",
            "625/625 [==============================] - 8s 13ms/step - loss: 0.3540 - acc: 0.8410 - val_loss: 0.3879 - val_acc: 0.8228\n",
            "Epoch 3/20\n",
            "625/625 [==============================] - 8s 13ms/step - loss: 0.3205 - acc: 0.8619 - val_loss: 0.3866 - val_acc: 0.8246\n",
            "Epoch 4/20\n",
            "625/625 [==============================] - 8s 13ms/step - loss: 0.2836 - acc: 0.8797 - val_loss: 0.4028 - val_acc: 0.8249\n",
            "Epoch 5/20\n",
            "625/625 [==============================] - 8s 13ms/step - loss: 0.2582 - acc: 0.8927 - val_loss: 0.4171 - val_acc: 0.8180\n",
            "Epoch 6/20\n",
            "625/625 [==============================] - 8s 13ms/step - loss: 0.2273 - acc: 0.9094 - val_loss: 0.4539 - val_acc: 0.8182\n",
            "Epoch 7/20\n",
            "625/625 [==============================] - 8s 13ms/step - loss: 0.1955 - acc: 0.9215 - val_loss: 0.4772 - val_acc: 0.8150\n",
            "Epoch 8/20\n",
            "625/625 [==============================] - 8s 13ms/step - loss: 0.1670 - acc: 0.9383 - val_loss: 0.5286 - val_acc: 0.8092\n",
            "Epoch 9/20\n",
            "625/625 [==============================] - 8s 13ms/step - loss: 0.1490 - acc: 0.9431 - val_loss: 0.5966 - val_acc: 0.8070\n",
            "Epoch 10/20\n",
            "625/625 [==============================] - 8s 13ms/step - loss: 0.1185 - acc: 0.9571 - val_loss: 0.6373 - val_acc: 0.8004\n",
            "Epoch 11/20\n",
            "625/625 [==============================] - 8s 13ms/step - loss: 0.1039 - acc: 0.9642 - val_loss: 0.7261 - val_acc: 0.7983\n",
            "Epoch 12/20\n",
            "625/625 [==============================] - 8s 13ms/step - loss: 0.0877 - acc: 0.9701 - val_loss: 0.7989 - val_acc: 0.8021\n",
            "Epoch 13/20\n",
            "625/625 [==============================] - 8s 13ms/step - loss: 0.0797 - acc: 0.9712 - val_loss: 0.8620 - val_acc: 0.7948\n",
            "Epoch 14/20\n",
            "625/625 [==============================] - 8s 13ms/step - loss: 0.0659 - acc: 0.9771 - val_loss: 0.9801 - val_acc: 0.7927\n",
            "Epoch 15/20\n",
            "625/625 [==============================] - 8s 13ms/step - loss: 0.0573 - acc: 0.9806 - val_loss: 1.0422 - val_acc: 0.7953\n",
            "Epoch 16/20\n",
            "625/625 [==============================] - 8s 13ms/step - loss: 0.0519 - acc: 0.9829 - val_loss: 1.0899 - val_acc: 0.7964\n",
            "Epoch 17/20\n",
            "625/625 [==============================] - 8s 13ms/step - loss: 0.0462 - acc: 0.9843 - val_loss: 1.1832 - val_acc: 0.7924\n",
            "Epoch 18/20\n",
            "625/625 [==============================] - 8s 13ms/step - loss: 0.0438 - acc: 0.9857 - val_loss: 1.2662 - val_acc: 0.7883\n",
            "Epoch 19/20\n",
            "625/625 [==============================] - 8s 13ms/step - loss: 0.0402 - acc: 0.9850 - val_loss: 1.3884 - val_acc: 0.7900\n",
            "Epoch 20/20\n",
            "625/625 [==============================] - 8s 13ms/step - loss: 0.0395 - acc: 0.9864 - val_loss: 1.3797 - val_acc: 0.7959\n"
          ],
          "name": "stdout"
        }
      ]
    },
    {
      "cell_type": "code",
      "metadata": {
        "colab": {
          "base_uri": "https://localhost:8080/",
          "height": 573
        },
        "id": "orxE4uAejqMO",
        "outputId": "7d234e16-eb2f-4283-ad2c-1869cd522df3"
      },
      "source": [
        "plot_graphs(history_sub, 'acc')\r\n",
        "plot_graphs(history_sub, 'loss')"
      ],
      "execution_count": 18,
      "outputs": [
        {
          "output_type": "display_data",
          "data": {
            "image/png": "[encoded data removed]",
            "text/plain": [
              "<Figure size 432x288 with 1 Axes>"
            ]
          },
          "metadata": {
            "tags": [],
            "needs_background": "light"
          }
        },
        {
          "output_type": "display_data",
          "data": {
            "image/png": "[encoded data removed]",
            "text/plain": [
              "<Figure size 432x288 with 1 Axes>"
            ]
          },
          "metadata": {
            "tags": [],
            "needs_background": "light"
          }
        }
      ]
    },
    {
      "cell_type": "code",
      "metadata": {
        "id": "DMwcMo5Iog3q"
      },
      "source": [
        ""
      ],
      "execution_count": null,
      "outputs": []
    }
  ]
}