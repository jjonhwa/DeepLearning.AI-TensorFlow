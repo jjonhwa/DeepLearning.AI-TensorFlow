{
  "nbformat": 4,
  "nbformat_minor": 0,
  "metadata": {
    "colab": {
      "name": "12. Exercise_4_Multi_class_classifier_Question-FINAL.ipynb",
      "provenance": [],
      "collapsed_sections": [],
      "authorship_tag": "ABX9TyOzMenIR3Dvtdu1Cg8N6Kfd",
      "include_colab_link": true
    },
    "kernelspec": {
      "name": "python3",
      "display_name": "Python 3"
    },
    "accelerator": "GPU"
  },
  "cells": [
    {
      "cell_type": "markdown",
      "metadata": {
        "id": "view-in-github",
        "colab_type": "text"
      },
      "source": [
        "<a href=\"https://colab.research.google.com/github/jjonhwa/DeepLearning.AI-TensorFlow/blob/main/12_Exercise_4_Multi_class_classifier_Question_FINAL.ipynb\" target=\"_parent\"><img src=\"https://colab.research.google.com/assets/colab-badge.svg\" alt=\"Open In Colab\"/></a>"
      ]
    },
    {
      "cell_type": "code",
      "metadata": {
        "id": "oLxIvpsKLOD1"
      },
      "source": [
        "import csv\r\n",
        "import numpy as np\r\n",
        "import tensorflow as tf\r\n",
        "from tensorflow.keras.preprocessing.image import ImageDataGenerator\r\n",
        "from os import getcwd\r\n",
        "from google.colab import files\r\n",
        "import os\r\n",
        "import zipfile\r\n",
        "import shutil"
      ],
      "execution_count": 1,
      "outputs": []
    },
    {
      "cell_type": "code",
      "metadata": {
        "colab": {
          "base_uri": "https://localhost:8080/"
        },
        "id": "OZkgRtirQl-0",
        "outputId": "78a9db9f-2d1f-4f5c-b112-727b3d2bb75f"
      },
      "source": [
        "from google.colab import drive\r\n",
        "drive.mount('/content/drive')"
      ],
      "execution_count": 2,
      "outputs": [
        {
          "output_type": "stream",
          "text": [
            "Mounted at /content/drive\n"
          ],
          "name": "stdout"
        }
      ]
    },
    {
      "cell_type": "code",
      "metadata": {
        "id": "SKxZPErfQjK1"
      },
      "source": [
        "dataset = f'/content/drive/MyDrive/Colab Notebooks/DeepLearning.AI TensorFlow Developer/data/sign_mnist.zip'\r\n",
        "shutil.rmtree('/tmp')\r\n",
        "\r\n",
        "local_zip = dataset\r\n",
        "zip_ref = zipfile.ZipFile(local_zip, 'r')\r\n",
        "zip_ref.extractall('/tmp')\r\n",
        "zip_ref.close()"
      ],
      "execution_count": 10,
      "outputs": []
    },
    {
      "cell_type": "code",
      "metadata": {
        "id": "jmEtn_u7LcSG"
      },
      "source": [
        "def get_data(filename) :\r\n",
        "\r\n",
        "  with open(filename) as training_file :\r\n",
        "    read = csv.reader(training_file, delimiter = ',')\r\n",
        "    first_line = True\r\n",
        "    temp_images = []\r\n",
        "    temp_labels = []\r\n",
        "\r\n",
        "    for row in read :\r\n",
        "      if first_line : \r\n",
        "        first_line = False\r\n",
        "      else :\r\n",
        "        temp_labels.append(row[0])\r\n",
        "        images_data = row[1:785]\r\n",
        "        as_array = np.array_split(images_data, 28)\r\n",
        "        temp_images.append(as_array)\r\n",
        "\r\n",
        "    images = np.array(temp_images).astype('float')\r\n",
        "    labels = np.array(temp_labels).astype('float')\r\n",
        "\r\n",
        "  return images, labels"
      ],
      "execution_count": 11,
      "outputs": []
    },
    {
      "cell_type": "code",
      "metadata": {
        "colab": {
          "base_uri": "https://localhost:8080/"
        },
        "id": "Nu6sjGSpPcb2",
        "outputId": "fcbf4f52-02e5-4521-dbea-8be950e1be00"
      },
      "source": [
        "path_sign_mnist_train = f\"/tmp/sign_mnist_train.csv\"\r\n",
        "path_sign_mnist_test = f\"/tmp/sign_mnist_test.csv\"\r\n",
        "training_images, training_labels = get_data(path_sign_mnist_train)\r\n",
        "testing_images, testing_labels = get_data(path_sign_mnist_test)\r\n",
        "\r\n",
        "print(training_images.shape)\r\n",
        "print(training_labels.shape)\r\n",
        "print(testing_images.shape)\r\n",
        "print(testing_labels.shape)"
      ],
      "execution_count": 12,
      "outputs": [
        {
          "output_type": "stream",
          "text": [
            "(27455, 28, 28)\n",
            "(27455,)\n",
            "(7172, 28, 28)\n",
            "(7172,)\n"
          ],
          "name": "stdout"
        }
      ]
    },
    {
      "cell_type": "code",
      "metadata": {
        "colab": {
          "base_uri": "https://localhost:8080/"
        },
        "id": "T1E0qVwwUfPl",
        "outputId": "fc29fda4-38de-4f19-e547-0d5f81ddad1f"
      },
      "source": [
        "training_images = np.expand_dims(training_images, axis = 3)\r\n",
        "testing_images = np.expand_dims(testing_images, axis = 3)\r\n",
        "\r\n",
        "train_datagen = ImageDataGenerator(\r\n",
        "    rescale = 1. / 255,\r\n",
        "    rotation_range = 40,\r\n",
        "    width_shift_range = .2,\r\n",
        "    height_shift_range = .2,\r\n",
        "    shear_range = .2,\r\n",
        "    zoom_range = .2,\r\n",
        "    horizontal_flip = True,\r\n",
        "    fill_mode = 'nearest'\r\n",
        ")\r\n",
        "validation_datagen = ImageDataGenerator(rescale = 1. /255)\r\n",
        "\r\n",
        "train_generator = train_datagen.flow(\r\n",
        "    training_images,\r\n",
        "    training_labels,\r\n",
        "    batch_size = 32\r\n",
        "    )\r\n",
        "validation_generator = validation_datagen.flow(\r\n",
        "    testing_images,\r\n",
        "    testing_labels,\r\n",
        "    batch_size = 32\r\n",
        ")\r\n",
        "\r\n",
        "print(training_images.shape)\r\n",
        "print(testing_images.shape)"
      ],
      "execution_count": 13,
      "outputs": [
        {
          "output_type": "stream",
          "text": [
            "(27455, 28, 28, 1)\n",
            "(7172, 28, 28, 1)\n"
          ],
          "name": "stdout"
        }
      ]
    },
    {
      "cell_type": "code",
      "metadata": {
        "colab": {
          "base_uri": "https://localhost:8080/"
        },
        "id": "Iucwmq5tWM_t",
        "outputId": "47ca8e4b-a4a6-43d5-a351-ead705c1e097"
      },
      "source": [
        "model = tf.keras.models.Sequential([\r\n",
        "      tf.keras.layers.Conv2D(32, (3,3), activation = 'relu', input_shape = (28, 28, 1)),\r\n",
        "      tf.keras.layers.MaxPooling2D(2,2),\r\n",
        "      \r\n",
        "      tf.keras.layers.Conv2D(64, (3,3), activation = 'relu'),\r\n",
        "      tf.keras.layers.MaxPooling2D(2,2),\r\n",
        "     \r\n",
        "      tf.keras.layers.Flatten(),\r\n",
        "      tf.keras.layers.Dropout(.1),\r\n",
        "      tf.keras.layers.Dense(512, activation = 'relu'),\r\n",
        "    tf.keras.layers.Dense(25, activation = 'softmax')\r\n",
        "])\r\n",
        "      \r\n",
        "model.summary()\r\n",
        "model.compile(\r\n",
        "    optimizer = 'rmsprop',\r\n",
        "    loss = 'sparse_categorical_crossentropy',\r\n",
        "    metrics = ['acc']\r\n",
        ")"
      ],
      "execution_count": 19,
      "outputs": [
        {
          "output_type": "stream",
          "text": [
            "Model: \"sequential_7\"\n",
            "_________________________________________________________________\n",
            "Layer (type)                 Output Shape              Param #   \n",
            "=================================================================\n",
            "conv2d_24 (Conv2D)           (None, 26, 26, 32)        320       \n",
            "_________________________________________________________________\n",
            "max_pooling2d_24 (MaxPooling (None, 13, 13, 32)        0         \n",
            "_________________________________________________________________\n",
            "conv2d_25 (Conv2D)           (None, 11, 11, 64)        18496     \n",
            "_________________________________________________________________\n",
            "max_pooling2d_25 (MaxPooling (None, 5, 5, 64)          0         \n",
            "_________________________________________________________________\n",
            "flatten_7 (Flatten)          (None, 1600)              0         \n",
            "_________________________________________________________________\n",
            "dropout_7 (Dropout)          (None, 1600)              0         \n",
            "_________________________________________________________________\n",
            "dense_14 (Dense)             (None, 512)               819712    \n",
            "_________________________________________________________________\n",
            "dense_15 (Dense)             (None, 25)                12825     \n",
            "=================================================================\n",
            "Total params: 851,353\n",
            "Trainable params: 851,353\n",
            "Non-trainable params: 0\n",
            "_________________________________________________________________\n"
          ],
          "name": "stdout"
        }
      ]
    },
    {
      "cell_type": "code",
      "metadata": {
        "id": "dffOxtkdZgYb"
      },
      "source": [
        "class myCallback(tf.keras.callbacks.Callback):\r\n",
        "    def on_epoch_end(self,epoch,logs={}):\r\n",
        "        if(logs.get('acc')>0.999):\r\n",
        "            print('\\n Reached 99.9% accuracy!')\r\n",
        "            self.model.stop_training=True\r\n",
        "\r\n",
        "callbacks = myCallback()"
      ],
      "execution_count": 26,
      "outputs": []
    },
    {
      "cell_type": "code",
      "metadata": {
        "colab": {
          "base_uri": "https://localhost:8080/"
        },
        "id": "QCf9HOQKW4WL",
        "outputId": "ed2398c9-40d6-4b47-9af0-bcaf3125b750"
      },
      "source": [
        "history = model.fit_generator(\r\n",
        "    train_generator,\r\n",
        "    steps_per_epoch = len(train_generator)/2,\r\n",
        "    epochs = 20,\r\n",
        "    validation_data = validation_generator,\r\n",
        "    validation_steps = len(validation_generator)/2,\r\n",
        "    verbose = 1,\r\n",
        "    callbacks = [callbacks]\r\n",
        ")"
      ],
      "execution_count": 28,
      "outputs": [
        {
          "output_type": "stream",
          "text": [
            "Epoch 1/20\n",
            " 11/429 [..............................] - ETA: 4s - loss: 0.7712 - acc: 0.7670"
          ],
          "name": "stdout"
        },
        {
          "output_type": "stream",
          "text": [
            "/usr/local/lib/python3.6/dist-packages/tensorflow/python/keras/engine/training.py:1844: UserWarning: `Model.fit_generator` is deprecated and will be removed in a future version. Please use `Model.fit`, which supports generators.\n",
            "  warnings.warn('`Model.fit_generator` is deprecated and '\n"
          ],
          "name": "stderr"
        },
        {
          "output_type": "stream",
          "text": [
            "429/429 [==============================] - 5s 11ms/step - loss: 0.7550 - acc: 0.7544 - val_loss: 0.3646 - val_acc: 0.8836\n",
            "Epoch 2/20\n",
            "429/429 [==============================] - 5s 11ms/step - loss: 0.7272 - acc: 0.7593 - val_loss: 0.4367 - val_acc: 0.8446\n",
            "Epoch 3/20\n",
            "429/429 [==============================] - 5s 11ms/step - loss: 0.6756 - acc: 0.7740 - val_loss: 0.3262 - val_acc: 0.8872\n",
            "Epoch 4/20\n",
            "429/429 [==============================] - 5s 12ms/step - loss: 0.6476 - acc: 0.7904 - val_loss: 0.2213 - val_acc: 0.9237\n",
            "Epoch 5/20\n",
            "429/429 [==============================] - 5s 12ms/step - loss: 0.6092 - acc: 0.7994 - val_loss: 0.2178 - val_acc: 0.9179\n",
            "Epoch 6/20\n",
            "429/429 [==============================] - 5s 12ms/step - loss: 0.5809 - acc: 0.8119 - val_loss: 0.2245 - val_acc: 0.9226\n",
            "Epoch 7/20\n",
            "429/429 [==============================] - 5s 12ms/step - loss: 0.5666 - acc: 0.8155 - val_loss: 0.2009 - val_acc: 0.9347\n",
            "Epoch 8/20\n",
            "429/429 [==============================] - 5s 11ms/step - loss: 0.5319 - acc: 0.8235 - val_loss: 0.1661 - val_acc: 0.9463\n",
            "Epoch 9/20\n",
            "429/429 [==============================] - 5s 12ms/step - loss: 0.5066 - acc: 0.8341 - val_loss: 0.1564 - val_acc: 0.9419\n",
            "Epoch 10/20\n",
            "429/429 [==============================] - 5s 12ms/step - loss: 0.4844 - acc: 0.8395 - val_loss: 0.1588 - val_acc: 0.9436\n",
            "Epoch 11/20\n",
            "429/429 [==============================] - 5s 12ms/step - loss: 0.4596 - acc: 0.8477 - val_loss: 0.1623 - val_acc: 0.9477\n",
            "Epoch 12/20\n",
            "429/429 [==============================] - 5s 11ms/step - loss: 0.4580 - acc: 0.8530 - val_loss: 0.1046 - val_acc: 0.9621\n",
            "Epoch 13/20\n",
            "429/429 [==============================] - 5s 11ms/step - loss: 0.4424 - acc: 0.8565 - val_loss: 0.1406 - val_acc: 0.9477\n",
            "Epoch 14/20\n",
            "429/429 [==============================] - 5s 11ms/step - loss: 0.4356 - acc: 0.8550 - val_loss: 0.1382 - val_acc: 0.9508\n",
            "Epoch 15/20\n",
            "429/429 [==============================] - 5s 11ms/step - loss: 0.4308 - acc: 0.8572 - val_loss: 0.1886 - val_acc: 0.9364\n",
            "Epoch 16/20\n",
            "429/429 [==============================] - 5s 11ms/step - loss: 0.4155 - acc: 0.8636 - val_loss: 0.1617 - val_acc: 0.9428\n",
            "Epoch 17/20\n",
            "429/429 [==============================] - 5s 11ms/step - loss: 0.4002 - acc: 0.8698 - val_loss: 0.1043 - val_acc: 0.9627\n",
            "Epoch 18/20\n",
            "429/429 [==============================] - 5s 11ms/step - loss: 0.3999 - acc: 0.8687 - val_loss: 0.1342 - val_acc: 0.9513\n",
            "Epoch 19/20\n",
            "429/429 [==============================] - 5s 11ms/step - loss: 0.3949 - acc: 0.8738 - val_loss: 0.1144 - val_acc: 0.9610\n",
            "Epoch 20/20\n",
            "429/429 [==============================] - 5s 11ms/step - loss: 0.3793 - acc: 0.8759 - val_loss: 0.1128 - val_acc: 0.9624\n"
          ],
          "name": "stdout"
        }
      ]
    },
    {
      "cell_type": "code",
      "metadata": {
        "colab": {
          "base_uri": "https://localhost:8080/",
          "height": 545
        },
        "id": "VRJotcM9ZKiH",
        "outputId": "c1e0a73c-96d4-4360-d9c0-5c071edebe76"
      },
      "source": [
        "import matplotlib.pyplot as plt\r\n",
        "%matplotlib inline\r\n",
        "\r\n",
        "acc = history.history['acc']\r\n",
        "val_acc = history.history['val_acc']\r\n",
        "loss = history.history['loss']\r\n",
        "val_loss = history.history['val_loss']\r\n",
        "\r\n",
        "epochs = range(len(acc))\r\n",
        "\r\n",
        "plt.plot(epochs, acc, 'r', label = 'Training Accuracy')\r\n",
        "plt.plot(epochs, val_acc, 'b', label = 'Validation Accuracy')\r\n",
        "plt.title('Training & Validation Accuracy')\r\n",
        "plt.legend()\r\n",
        "\r\n",
        "plt.figure()\r\n",
        "plt.plot(epochs, loss, 'r', label = 'Training Loss')\r\n",
        "plt.plot(epochs, val_loss, 'b', label = 'Validation Loss')\r\n",
        "plt.title('Training & Validation Loss')\r\n",
        "plt.legend()\r\n",
        "\r\n",
        "plt.show()"
      ],
      "execution_count": 29,
      "outputs": [
        {
          "output_type": "display_data",
          "data": {
            "image/png": "[encoded data removed]",
            "text/plain": [
              "<Figure size 432x288 with 1 Axes>"
            ]
          },
          "metadata": {
            "tags": [],
            "needs_background": "light"
          }
        },
        {
          "output_type": "display_data",
          "data": {
            "image/png": "[encoded data removed]",
            "text/plain": [
              "<Figure size 432x288 with 1 Axes>"
            ]
          },
          "metadata": {
            "tags": [],
            "needs_background": "light"
          }
        }
      ]
    },
    {
      "cell_type": "code",
      "metadata": {
        "id": "yMbfP1Sxayp8"
      },
      "source": [
        ""
      ],
      "execution_count": null,
      "outputs": []
    }
  ]
}