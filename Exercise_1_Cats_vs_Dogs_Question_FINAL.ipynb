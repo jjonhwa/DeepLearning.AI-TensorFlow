{
  "nbformat": 4,
  "nbformat_minor": 0,
  "metadata": {
    "colab": {
      "name": "Exercise_1_Cats_vs_Dogs_Question-FINAL.ipynb",
      "provenance": [],
      "collapsed_sections": [],
      "authorship_tag": "ABX9TyMU7bDVeY3aHTTFSaTeKEba",
      "include_colab_link": true
    },
    "kernelspec": {
      "name": "python3",
      "display_name": "Python 3"
    }
  },
  "cells": [
    {
      "cell_type": "markdown",
      "metadata": {
        "id": "view-in-github",
        "colab_type": "text"
      },
      "source": [
        "<a href=\"https://colab.research.google.com/github/jjonhwa/DeepLearning.AI-TensorFlow/blob/main/Exercise_1_Cats_vs_Dogs_Question_FINAL.ipynb\" target=\"_parent\"><img src=\"https://colab.research.google.com/assets/colab-badge.svg\" alt=\"Open In Colab\"/></a>"
      ]
    },
    {
      "cell_type": "code",
      "metadata": {
        "id": "4EMMow0ALgEq"
      },
      "source": [
        "import os\r\n",
        "import zipfile\r\n",
        "import random\r\n",
        "import tensorflow as tf\r\n",
        "import shutil\r\n",
        "from tensorflow.keras.optimizers import RMSprop\r\n",
        "from tensorflow.keras.preprocessing.image import ImageDataGenerator\r\n",
        "from shutil import copyfile\r\n",
        "from os import getcwd"
      ],
      "execution_count": 114,
      "outputs": []
    },
    {
      "cell_type": "code",
      "metadata": {
        "colab": {
          "base_uri": "https://localhost:8080/"
        },
        "id": "QOUJ1JulLhJG",
        "outputId": "7c36582c-57cc-464b-9426-a1d4dd2cf33a"
      },
      "source": [
        "from google.colab import drive\r\n",
        "drive.mount('/content/drive')"
      ],
      "execution_count": 115,
      "outputs": [
        {
          "output_type": "stream",
          "text": [
            "Drive already mounted at /content/drive; to attempt to forcibly remount, call drive.mount(\"/content/drive\", force_remount=True).\n"
          ],
          "name": "stdout"
        }
      ]
    },
    {
      "cell_type": "code",
      "metadata": {
        "colab": {
          "base_uri": "https://localhost:8080/"
        },
        "id": "e0JIJOhCOH6L",
        "outputId": "30c670c7-4621-42d0-d96e-8130870cf2d9"
      },
      "source": [
        "print(os.getcwd()); print(os.listdir())"
      ],
      "execution_count": 116,
      "outputs": [
        {
          "output_type": "stream",
          "text": [
            "/content\n",
            "['.config', 'drive', 'sample_data']\n"
          ],
          "name": "stdout"
        }
      ]
    },
    {
      "cell_type": "code",
      "metadata": {
        "colab": {
          "base_uri": "https://localhost:8080/"
        },
        "id": "fK3xPyFTONWx",
        "outputId": "58f7e80d-c6eb-4793-d770-19c688c07b4e"
      },
      "source": [
        "os.listdir('/content/drive/MyDrive/Colab Notebooks/DeepLearning.AI TensorFlow Developer/data')"
      ],
      "execution_count": 117,
      "outputs": [
        {
          "output_type": "execute_result",
          "data": {
            "text/plain": [
              "['cats-and-dogs.zip']"
            ]
          },
          "metadata": {
            "tags": []
          },
          "execution_count": 117
        }
      ]
    },
    {
      "cell_type": "code",
      "metadata": {
        "id": "aLVA7i3gLilI"
      },
      "source": [
        "path_cats_and_dogs = f'/content/drive/MyDrive/Colab Notebooks/DeepLearning.AI TensorFlow Developer/data/cats-and-dogs.zip'\r\n",
        "shutil.rmtree('/tmp')\r\n",
        "\r\n",
        "local_zip = path_cats_and_dogs\r\n",
        "zip_ref = zipfile.ZipFile(local_zip, 'r')\r\n",
        "zip_ref.extractall('/tmp')\r\n",
        "zip_ref.close()"
      ],
      "execution_count": 128,
      "outputs": []
    },
    {
      "cell_type": "code",
      "metadata": {
        "colab": {
          "base_uri": "https://localhost:8080/"
        },
        "id": "lUwSuOfnMb_R",
        "outputId": "9ba6196f-9c65-40b1-c0c4-112650b72cc3"
      },
      "source": [
        "print(len(os.listdir('/tmp/PetImages/Cat/')))\r\n",
        "print(len(os.listdir('/tmp/PetImages/Dog/')))"
      ],
      "execution_count": 129,
      "outputs": [
        {
          "output_type": "stream",
          "text": [
            "1500\n",
            "1500\n"
          ],
          "name": "stdout"
        }
      ]
    },
    {
      "cell_type": "code",
      "metadata": {
        "id": "Ma1BnLaLPBtc"
      },
      "source": [
        "try:\r\n",
        "    os.mkdir('/tmp/cats-v-dogs')\r\n",
        "    os.mkdir('/tmp/cats-v-dogs/training')\r\n",
        "    os.mkdir('/tmp/cats-v-dogs/testing')\r\n",
        "    os.mkdir('/tmp/cats-v-dogs/training/dogs')    \r\n",
        "    os.mkdir('/tmp/cats-v-dogs/training/cats')\r\n",
        "    os.mkdir('/tmp/cats-v-dogs/testing/dogs')\r\n",
        "    os.mkdir('/tmp/cats-v-dogs/testing/cats')\r\n",
        "except OSError:\r\n",
        "    pass"
      ],
      "execution_count": 130,
      "outputs": []
    },
    {
      "cell_type": "code",
      "metadata": {
        "id": "mKZSZiCQPVKy"
      },
      "source": [
        "def split_data(source, training, testing, split_size) :\r\n",
        "  dataset = []\r\n",
        "\r\n",
        "  for a in os.listdir(source) :\r\n",
        "    data = source + a\r\n",
        "\r\n",
        "    if (os.path.getsize(data) > 0) :\r\n",
        "      dataset.append(a)\r\n",
        "    else :\r\n",
        "      print('Skipped' + a)\r\n",
        "      print('Invalided file silze ! i.e Zero length')\r\n",
        "\r\n",
        "  train_len = int(len(dataset) * split_size)\r\n",
        "  test_len = int(len(dataset) - train_len)\r\n",
        "\r\n",
        "  shuffled_set = random.sample(dataset, len(dataset))\r\n",
        "\r\n",
        "  train_set = shuffled_set[0: train_len]\r\n",
        "  test_set = shuffled_set[-test_len :]\r\n",
        "\r\n",
        "  for a in train_set :\r\n",
        "    tmp_train_data = source + a\r\n",
        "    final_train_data = training + a\r\n",
        "    copyfile(tmp_train_data, final_train_data)\r\n",
        "\r\n",
        "  for a in test_set :\r\n",
        "    tmp_test_data = source + a\r\n",
        "    final_test_data = testing + a\r\n",
        "    copyfile(tmp_test_data, final_test_data)"
      ],
      "execution_count": 131,
      "outputs": []
    },
    {
      "cell_type": "code",
      "metadata": {
        "id": "1GI9Zgt8QfXM"
      },
      "source": [
        "main_dir = ['/tmp/PetImages/Cat/', '/tmp/PetImages/Dog/']\r\n",
        "training_dir = ['/tmp/cats-v-dogs/training/cats/', '/tmp/cats-v-dogs/training/dogs/']\r\n",
        "testing_dir = ['/tmp/cats-v-dogs/testing/cats/', '/tmp/cats-v-dogs/testing/dogs/']\r\n",
        "\r\n",
        "for i in range(len(main_dir)) :\r\n",
        "  split_data(main_dir[i], training_dir[i], testing_dir[i], .9)"
      ],
      "execution_count": 132,
      "outputs": []
    },
    {
      "cell_type": "code",
      "metadata": {
        "colab": {
          "base_uri": "https://localhost:8080/"
        },
        "id": "QZuvWL6hSjxM",
        "outputId": "b373c96b-5ee7-4dd5-c4ad-9e50105cb98d"
      },
      "source": [
        "print(len(os.listdir('/tmp/cats-v-dogs/training/cats/')))\r\n",
        "print(len(os.listdir('/tmp/cats-v-dogs/training/dogs/')))\r\n",
        "print(len(os.listdir('/tmp/cats-v-dogs/testing/cats/')))\r\n",
        "print(len(os.listdir('/tmp/cats-v-dogs/testing/cats/')))"
      ],
      "execution_count": 133,
      "outputs": [
        {
          "output_type": "stream",
          "text": [
            "1350\n",
            "1350\n",
            "150\n",
            "150\n"
          ],
          "name": "stdout"
        }
      ]
    },
    {
      "cell_type": "code",
      "metadata": {
        "id": "f2F0Ei4SXwb1"
      },
      "source": [
        "model = tf.keras.models.Sequential([\r\n",
        "  tf.keras.layers.Conv2D(16, (3,3), activation = 'relu', input_shape = (150, 150, 3)),\r\n",
        "  tf.keras.layers.MaxPooling2D(2,2),\r\n",
        "  tf.keras.layers.Conv2D(32, (3,3), activation = 'relu'),\r\n",
        "  tf.keras.layers.MaxPooling2D(2,2),\r\n",
        "  tf.keras.layers.Conv2D(64, (3,3), activation = 'relu'),\r\n",
        "  tf.keras.layers.MaxPooling2D(2,2),\r\n",
        "  tf.keras.layers.Flatten(),\r\n",
        "  tf.keras.layers.Dense(512, activation = 'relu'),\r\n",
        "  tf.keras.layers.Dense(1, activation = 'sigmoid'),\r\n",
        "])"
      ],
      "execution_count": 136,
      "outputs": []
    },
    {
      "cell_type": "code",
      "metadata": {
        "id": "MNm9eymTaXhj"
      },
      "source": [
        "model.compile(optimizer = RMSprop(lr = 0.001),\r\n",
        "              loss = 'binary_crossentropy',\r\n",
        "              metrics = ['acc'])"
      ],
      "execution_count": 151,
      "outputs": []
    },
    {
      "cell_type": "code",
      "metadata": {
        "colab": {
          "base_uri": "https://localhost:8080/"
        },
        "id": "Ef5XfYhFamV8",
        "outputId": "da7cb6f1-598c-4b79-db9c-fb965da2e342"
      },
      "source": [
        "TRAINING_DIR = '/tmp/cats-v-dogs/training'\r\n",
        "TESTING_DIR = '/tmp/cats-v-dogs/testing'\r\n",
        "\r\n",
        "train_datagen =ImageDataGenerator(rescale = 1. /255)\r\n",
        "test_datagen = ImageDataGenerator(rescale = 1. / 255)\r\n",
        "\r\n",
        "train_generator = train_datagen.flow_from_directory(\r\n",
        "    TRAINING_DIR,\r\n",
        "    target_size = (150, 150),\r\n",
        "    class_mode = 'binary',\r\n",
        "    batch_size = 20\r\n",
        ")\r\n",
        "\r\n",
        "validation_generator = test_datagen.flow_from_directory(\r\n",
        "    TESTING_DIR,\r\n",
        "    target_size = (150, 150),\r\n",
        "    class_mode = 'binary',\r\n",
        "    batch_size = 20\r\n",
        ")"
      ],
      "execution_count": 152,
      "outputs": [
        {
          "output_type": "stream",
          "text": [
            "Found 2700 images belonging to 2 classes.\n",
            "Found 300 images belonging to 2 classes.\n"
          ],
          "name": "stdout"
        }
      ]
    },
    {
      "cell_type": "code",
      "metadata": {
        "colab": {
          "base_uri": "https://localhost:8080/"
        },
        "id": "Kfn_XbMQcdrv",
        "outputId": "c5c37824-e3d1-4253-fa6a-d35ceb852af9"
      },
      "source": [
        "history = model.fit_generator(train_generator,\r\n",
        "                              epochs = 10,\r\n",
        "                              verbose = 1,\r\n",
        "                              validation_data = validation_generator)"
      ],
      "execution_count": 153,
      "outputs": [
        {
          "output_type": "stream",
          "text": [
            "/usr/local/lib/python3.6/dist-packages/tensorflow/python/keras/engine/training.py:1844: UserWarning: `Model.fit_generator` is deprecated and will be removed in a future version. Please use `Model.fit`, which supports generators.\n",
            "  warnings.warn('`Model.fit_generator` is deprecated and '\n"
          ],
          "name": "stderr"
        },
        {
          "output_type": "stream",
          "text": [
            "Epoch 1/10\n",
            "135/135 [==============================] - 67s 491ms/step - loss: 1.0115 - acc: 0.5354 - val_loss: 0.6157 - val_acc: 0.6267\n",
            "Epoch 2/10\n",
            "135/135 [==============================] - 66s 488ms/step - loss: 0.6244 - acc: 0.6663 - val_loss: 0.5489 - val_acc: 0.7400\n",
            "Epoch 3/10\n",
            "135/135 [==============================] - 66s 486ms/step - loss: 0.5183 - acc: 0.7465 - val_loss: 0.5154 - val_acc: 0.7667\n",
            "Epoch 4/10\n",
            "135/135 [==============================] - 65s 485ms/step - loss: 0.4281 - acc: 0.7986 - val_loss: 0.5771 - val_acc: 0.7433\n",
            "Epoch 5/10\n",
            "135/135 [==============================] - 65s 484ms/step - loss: 0.3694 - acc: 0.8265 - val_loss: 0.6072 - val_acc: 0.7733\n",
            "Epoch 6/10\n",
            "135/135 [==============================] - 66s 488ms/step - loss: 0.2524 - acc: 0.8957 - val_loss: 0.7540 - val_acc: 0.7400\n",
            "Epoch 7/10\n",
            "135/135 [==============================] - 66s 487ms/step - loss: 0.1740 - acc: 0.9349 - val_loss: 0.8038 - val_acc: 0.7667\n",
            "Epoch 8/10\n",
            "135/135 [==============================] - 66s 485ms/step - loss: 0.1189 - acc: 0.9603 - val_loss: 1.1664 - val_acc: 0.7333\n",
            "Epoch 9/10\n",
            "135/135 [==============================] - 65s 484ms/step - loss: 0.0748 - acc: 0.9791 - val_loss: 1.3382 - val_acc: 0.7400\n",
            "Epoch 10/10\n",
            "135/135 [==============================] - 66s 491ms/step - loss: 0.0546 - acc: 0.9827 - val_loss: 1.1910 - val_acc: 0.7233\n"
          ],
          "name": "stdout"
        }
      ]
    },
    {
      "cell_type": "code",
      "metadata": {
        "colab": {
          "base_uri": "https://localhost:8080/",
          "height": 581
        },
        "id": "5Cs-wjqCc0qE",
        "outputId": "22e8c461-18ee-4470-c87f-014836c932b0"
      },
      "source": [
        "import matplotlib.image as mpimg\r\n",
        "import matplotlib.pyplot as plt\r\n",
        "%matplotlib inline\r\n",
        "\r\n",
        "acc = history.history['acc']\r\n",
        "val_acc = history.history['val_acc']\r\n",
        "loss = history.history['loss']\r\n",
        "val_loss = history.history['val_loss']\r\n",
        "\r\n",
        "epochs = range(len(acc))\r\n",
        "\r\n",
        "plt.plot(epochs, acc, 'r', 'Training Accuracy')\r\n",
        "plt.plot(epochs, val_acc, 'b', 'Validation Accuracy')\r\n",
        "plt.title('Training And Validation Accuracy')\r\n",
        "plt.figure()\r\n",
        "\r\n",
        "plt.plot(epochs, loss, 'r', 'Training Loss')\r\n",
        "plt.plot(epochs, val_loss, 'r', 'Validation Loss')\r\n",
        "plt.title('Training And Validation Loss')\r\n",
        "plt.figure()"
      ],
      "execution_count": 154,
      "outputs": [
        {
          "output_type": "execute_result",
          "data": {
            "text/plain": [
              "<Figure size 432x288 with 0 Axes>"
            ]
          },
          "metadata": {
            "tags": []
          },
          "execution_count": 154
        },
        {
          "output_type": "display_data",
          "data": {
            "image/png": "[encoded data removed]",
            "text/plain": [
              "<Figure size 432x288 with 1 Axes>"
            ]
          },
          "metadata": {
            "tags": [],
            "needs_background": "light"
          }
        },
        {
          "output_type": "display_data",
          "data": {
            "image/png": "[encoded data removed]",
            "text/plain": [
              "<Figure size 432x288 with 1 Axes>"
            ]
          },
          "metadata": {
            "tags": [],
            "needs_background": "light"
          }
        },
        {
          "output_type": "display_data",
          "data": {
            "text/plain": [
              "<Figure size 432x288 with 0 Axes>"
            ]
          },
          "metadata": {
            "tags": []
          }
        }
      ]
    },
    {
      "cell_type": "code",
      "metadata": {
        "id": "6YLU5M_jdjh1"
      },
      "source": [
        ""
      ],
      "execution_count": null,
      "outputs": []
    }
  ]
}