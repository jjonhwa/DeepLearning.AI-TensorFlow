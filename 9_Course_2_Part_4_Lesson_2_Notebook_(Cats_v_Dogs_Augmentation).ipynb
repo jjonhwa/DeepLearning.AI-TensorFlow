{
  "nbformat": 4,
  "nbformat_minor": 0,
  "metadata": {
    "colab": {
      "name": "9. Course 2 - Part 4 - Lesson 2 - Notebook (Cats v Dogs Augmentation).ipynb",
      "provenance": [],
      "collapsed_sections": [],
      "authorship_tag": "ABX9TyON6fqH0WJFAPwgl8u8Wne3",
      "include_colab_link": true
    },
    "kernelspec": {
      "name": "python3",
      "display_name": "Python 3"
    },
    "accelerator": "GPU"
  },
  "cells": [
    {
      "cell_type": "markdown",
      "metadata": {
        "id": "view-in-github",
        "colab_type": "text"
      },
      "source": [
        "<a href=\"https://colab.research.google.com/github/jjonhwa/DeepLearning.AI-TensorFlow/blob/main/9_Course_2_Part_4_Lesson_2_Notebook_(Cats_v_Dogs_Augmentation).ipynb\" target=\"_parent\"><img src=\"https://colab.research.google.com/assets/colab-badge.svg\" alt=\"Open In Colab\"/></a>"
      ]
    },
    {
      "cell_type": "markdown",
      "metadata": {
        "id": "7SS-g4nPbnax"
      },
      "source": [
        "앞선 Cats-v-Dogs와 비슷하다. 여기서는 `loss`와 `accuracy`를 그래프에 plotting하기 위해 반복수를 늘리고 convolutional layer를 늘려서 실행하도록 하겠다."
      ]
    },
    {
      "cell_type": "code",
      "metadata": {
        "colab": {
          "base_uri": "https://localhost:8080/"
        },
        "id": "Df70pD38ccTk",
        "outputId": "a85f9434-9c27-4955-bf93-d1db20ce978a"
      },
      "source": [
        "!wget --no-check-certificate \\\r\n",
        "https://storage.googleapis.com/mledu-datasets/cats_and_dogs_filtered.zip \\\r\n",
        "-O /tmp/cats_and_dogs_filtered.zip"
      ],
      "execution_count": 1,
      "outputs": [
        {
          "output_type": "stream",
          "text": [
            "--2021-01-04 13:08:37--  https://storage.googleapis.com/mledu-datasets/cats_and_dogs_filtered.zip\n",
            "Resolving storage.googleapis.com (storage.googleapis.com)... 142.250.73.240, 172.253.115.128, 172.253.122.128, ...\n",
            "Connecting to storage.googleapis.com (storage.googleapis.com)|142.250.73.240|:443... connected.\n",
            "HTTP request sent, awaiting response... 200 OK\n",
            "Length: 68606236 (65M) [application/zip]\n",
            "Saving to: ‘/tmp/cats_and_dogs_filtered.zip’\n",
            "\n",
            "/tmp/cats_and_dogs_ 100%[===================>]  65.43M  71.0MB/s    in 0.9s    \n",
            "\n",
            "2021-01-04 13:08:38 (71.0 MB/s) - ‘/tmp/cats_and_dogs_filtered.zip’ saved [68606236/68606236]\n",
            "\n"
          ],
          "name": "stdout"
        }
      ]
    },
    {
      "cell_type": "code",
      "metadata": {
        "id": "KxrIDEpYdBVg"
      },
      "source": [
        "import os\r\n",
        "import zipfile\r\n",
        "import tensorflow as tf\r\n",
        "from tensorflow.keras.optimizers import RMSprop\r\n",
        "from tensorflow.keras.preprocessing.image import ImageDataGenerator"
      ],
      "execution_count": 2,
      "outputs": []
    },
    {
      "cell_type": "code",
      "metadata": {
        "id": "1crDHZ3Ld-s-"
      },
      "source": [
        "local_zip = '/tmp/cats_and_dogs_filtered.zip'\r\n",
        "zip_ref = zipfile.ZipFile(local_zip, 'r')\r\n",
        "zip_ref.extractall('/tmp')\r\n",
        "zip_ref.close()"
      ],
      "execution_count": 3,
      "outputs": []
    },
    {
      "cell_type": "code",
      "metadata": {
        "id": "IM1OH9_0eMap"
      },
      "source": [
        "base_dir = '/tmp/cats_and_dogs_filtered'\r\n",
        "train_dir = os.path.join(base_dir, 'train')\r\n",
        "validation_dir = os.path.join(base_dir, 'validation')\r\n",
        "\r\n",
        "train_cats_dir = os.path.join(train_dir, 'cats')\r\n",
        "train_dogs_dir = os.path.join(train_dir, 'dogs')\r\n",
        "validation_cats_dir = os.path.join(validation_dir, 'cats')\r\n",
        "validation_dogs_dir = os.path.join(validation_dir, 'dogs')"
      ],
      "execution_count": 4,
      "outputs": []
    },
    {
      "cell_type": "code",
      "metadata": {
        "id": "AGnBSxnRexeG"
      },
      "source": [
        "model = tf.keras.models.Sequential([\r\n",
        "    tf.keras.layers.Conv2D(32, (3,3), activation = 'relu', input_shape = (150, 150, 3)),\r\n",
        "    tf.keras.layers.MaxPooling2D(2,2),\r\n",
        "    tf.keras.layers.Conv2D(64, (3,3), activation = 'relu'),\r\n",
        "    tf.keras.layers.MaxPooling2D(2,2),\r\n",
        "    tf.keras.layers.Conv2D(128, (3,3), activation = 'relu'),\r\n",
        "    tf.keras.layers.MaxPooling2D(2,2),\r\n",
        "    tf.keras.layers.Conv2D(128, (3,3), activation = 'relu'),\r\n",
        "    tf.keras.layers.MaxPooling2D(2,2),\r\n",
        "    tf.keras.layers.Flatten(),\r\n",
        "    tf.keras.layers.Dense(512, activation = 'relu'),\r\n",
        "    tf.keras.layers.Dense(1, activation = 'sigmoid')\r\n",
        "])\r\n",
        "\r\n",
        "model.compile(optimizer = RMSprop(lr = 0.001),\r\n",
        "              loss = 'binary_crossentropy',\r\n",
        "              metrics = ['acc'])"
      ],
      "execution_count": 5,
      "outputs": []
    },
    {
      "cell_type": "code",
      "metadata": {
        "colab": {
          "base_uri": "https://localhost:8080/"
        },
        "id": "MM-Kfny7fgA8",
        "outputId": "858833cc-5447-4ee6-dab1-266f0e8ffc71"
      },
      "source": [
        "datagen = ImageDataGenerator(rescale = 1. / 255)\r\n",
        "\r\n",
        "train_generator = datagen.flow_from_directory(\r\n",
        "    train_dir,\r\n",
        "    target_size = (150, 150),\r\n",
        "    class_mode = 'binary',\r\n",
        "    batch_size = 20\r\n",
        ")\r\n",
        "\r\n",
        "validation_generator = datagen.flow_from_directory(\r\n",
        "    validation_dir,\r\n",
        "    target_size = (150, 150),\r\n",
        "    class_mode = 'binary',\r\n",
        "    batch_size = 20\r\n",
        ")"
      ],
      "execution_count": 6,
      "outputs": [
        {
          "output_type": "stream",
          "text": [
            "Found 2000 images belonging to 2 classes.\n",
            "Found 1000 images belonging to 2 classes.\n"
          ],
          "name": "stdout"
        }
      ]
    },
    {
      "cell_type": "code",
      "metadata": {
        "colab": {
          "base_uri": "https://localhost:8080/"
        },
        "id": "CGhimMo-gBQA",
        "outputId": "148afc23-668c-4a61-bc4e-39245967ff97"
      },
      "source": [
        "history = model.fit(\r\n",
        "    train_generator,\r\n",
        "    steps_per_epoch = 100, # 2000 images = batch_size * steps\r\n",
        "    epochs = 100,\r\n",
        "    validation_data = validation_generator,\r\n",
        "    validation_steps = 50, # 1000 images = batch_size * steps\r\n",
        "    verbose = 2\r\n",
        ")"
      ],
      "execution_count": 7,
      "outputs": [
        {
          "output_type": "stream",
          "text": [
            "Epoch 1/100\n",
            "100/100 - 16s - loss: 0.7543 - acc: 0.5505 - val_loss: 0.6760 - val_acc: 0.6280\n",
            "Epoch 2/100\n",
            "100/100 - 8s - loss: 0.6776 - acc: 0.5935 - val_loss: 0.6511 - val_acc: 0.6200\n",
            "Epoch 3/100\n",
            "100/100 - 8s - loss: 0.6178 - acc: 0.6665 - val_loss: 0.6083 - val_acc: 0.6890\n",
            "Epoch 4/100\n",
            "100/100 - 8s - loss: 0.5719 - acc: 0.7040 - val_loss: 0.6695 - val_acc: 0.6790\n",
            "Epoch 5/100\n",
            "100/100 - 8s - loss: 0.5282 - acc: 0.7375 - val_loss: 0.5871 - val_acc: 0.6970\n",
            "Epoch 6/100\n",
            "100/100 - 8s - loss: 0.4875 - acc: 0.7690 - val_loss: 0.5728 - val_acc: 0.7120\n",
            "Epoch 7/100\n",
            "100/100 - 8s - loss: 0.4314 - acc: 0.7885 - val_loss: 0.6594 - val_acc: 0.6950\n",
            "Epoch 8/100\n",
            "100/100 - 8s - loss: 0.3892 - acc: 0.8215 - val_loss: 0.6876 - val_acc: 0.7170\n",
            "Epoch 9/100\n",
            "100/100 - 8s - loss: 0.3415 - acc: 0.8465 - val_loss: 0.7053 - val_acc: 0.7250\n",
            "Epoch 10/100\n",
            "100/100 - 8s - loss: 0.2789 - acc: 0.8745 - val_loss: 0.8710 - val_acc: 0.7330\n",
            "Epoch 11/100\n",
            "100/100 - 8s - loss: 0.2357 - acc: 0.9095 - val_loss: 1.0222 - val_acc: 0.7350\n",
            "Epoch 12/100\n",
            "100/100 - 8s - loss: 0.1848 - acc: 0.9295 - val_loss: 1.0408 - val_acc: 0.7290\n",
            "Epoch 13/100\n",
            "100/100 - 8s - loss: 0.1446 - acc: 0.9475 - val_loss: 1.2365 - val_acc: 0.7260\n",
            "Epoch 14/100\n",
            "100/100 - 8s - loss: 0.1138 - acc: 0.9560 - val_loss: 1.2936 - val_acc: 0.7330\n",
            "Epoch 15/100\n",
            "100/100 - 8s - loss: 0.1114 - acc: 0.9670 - val_loss: 1.6296 - val_acc: 0.7420\n",
            "Epoch 16/100\n",
            "100/100 - 8s - loss: 0.0836 - acc: 0.9675 - val_loss: 1.3215 - val_acc: 0.7350\n",
            "Epoch 17/100\n",
            "100/100 - 8s - loss: 0.0909 - acc: 0.9700 - val_loss: 1.3759 - val_acc: 0.7400\n",
            "Epoch 18/100\n",
            "100/100 - 8s - loss: 0.0613 - acc: 0.9820 - val_loss: 1.8375 - val_acc: 0.7390\n",
            "Epoch 19/100\n",
            "100/100 - 8s - loss: 0.0776 - acc: 0.9760 - val_loss: 1.6972 - val_acc: 0.7160\n",
            "Epoch 20/100\n",
            "100/100 - 8s - loss: 0.0451 - acc: 0.9850 - val_loss: 2.9742 - val_acc: 0.7210\n",
            "Epoch 21/100\n",
            "100/100 - 8s - loss: 0.0460 - acc: 0.9870 - val_loss: 2.7511 - val_acc: 0.6950\n",
            "Epoch 22/100\n",
            "100/100 - 8s - loss: 0.0719 - acc: 0.9775 - val_loss: 1.9774 - val_acc: 0.7110\n",
            "Epoch 23/100\n",
            "100/100 - 8s - loss: 0.0685 - acc: 0.9825 - val_loss: 2.4157 - val_acc: 0.7390\n",
            "Epoch 24/100\n",
            "100/100 - 8s - loss: 0.0412 - acc: 0.9905 - val_loss: 6.1061 - val_acc: 0.6810\n",
            "Epoch 25/100\n",
            "100/100 - 8s - loss: 0.0885 - acc: 0.9815 - val_loss: 2.0046 - val_acc: 0.7230\n",
            "Epoch 26/100\n",
            "100/100 - 8s - loss: 0.0651 - acc: 0.9835 - val_loss: 1.9090 - val_acc: 0.7380\n",
            "Epoch 27/100\n",
            "100/100 - 8s - loss: 0.0494 - acc: 0.9860 - val_loss: 2.4241 - val_acc: 0.7420\n",
            "Epoch 28/100\n",
            "100/100 - 8s - loss: 0.0479 - acc: 0.9840 - val_loss: 2.4808 - val_acc: 0.7280\n",
            "Epoch 29/100\n",
            "100/100 - 8s - loss: 0.0360 - acc: 0.9930 - val_loss: 4.1633 - val_acc: 0.6980\n",
            "Epoch 30/100\n",
            "100/100 - 8s - loss: 0.0490 - acc: 0.9875 - val_loss: 2.5377 - val_acc: 0.7250\n",
            "Epoch 31/100\n",
            "100/100 - 8s - loss: 0.0714 - acc: 0.9845 - val_loss: 3.2815 - val_acc: 0.7280\n",
            "Epoch 32/100\n",
            "100/100 - 8s - loss: 0.0560 - acc: 0.9875 - val_loss: 2.2403 - val_acc: 0.7180\n",
            "Epoch 33/100\n",
            "100/100 - 8s - loss: 0.0227 - acc: 0.9950 - val_loss: 3.2720 - val_acc: 0.7490\n",
            "Epoch 34/100\n",
            "100/100 - 8s - loss: 0.0511 - acc: 0.9905 - val_loss: 3.5329 - val_acc: 0.6730\n",
            "Epoch 35/100\n",
            "100/100 - 8s - loss: 0.0766 - acc: 0.9865 - val_loss: 2.4901 - val_acc: 0.7240\n",
            "Epoch 36/100\n",
            "100/100 - 8s - loss: 5.3043e-04 - acc: 1.0000 - val_loss: 5.2835 - val_acc: 0.7320\n",
            "Epoch 37/100\n",
            "100/100 - 8s - loss: 0.1021 - acc: 0.9845 - val_loss: 2.6140 - val_acc: 0.7070\n",
            "Epoch 38/100\n",
            "100/100 - 8s - loss: 0.0315 - acc: 0.9930 - val_loss: 4.1367 - val_acc: 0.7110\n",
            "Epoch 39/100\n",
            "100/100 - 8s - loss: 0.0398 - acc: 0.9920 - val_loss: 3.6516 - val_acc: 0.6830\n",
            "Epoch 40/100\n",
            "100/100 - 8s - loss: 0.0471 - acc: 0.9925 - val_loss: 4.1686 - val_acc: 0.7170\n",
            "Epoch 41/100\n",
            "100/100 - 8s - loss: 0.0690 - acc: 0.9945 - val_loss: 3.6205 - val_acc: 0.7100\n",
            "Epoch 42/100\n",
            "100/100 - 8s - loss: 0.0734 - acc: 0.9885 - val_loss: 3.2788 - val_acc: 0.7140\n",
            "Epoch 43/100\n",
            "100/100 - 8s - loss: 0.0121 - acc: 0.9960 - val_loss: 4.5711 - val_acc: 0.7370\n",
            "Epoch 44/100\n",
            "100/100 - 8s - loss: 0.0466 - acc: 0.9880 - val_loss: 4.4551 - val_acc: 0.6990\n",
            "Epoch 45/100\n",
            "100/100 - 8s - loss: 0.0470 - acc: 0.9910 - val_loss: 3.8659 - val_acc: 0.7340\n",
            "Epoch 46/100\n",
            "100/100 - 8s - loss: 0.0276 - acc: 0.9925 - val_loss: 5.4231 - val_acc: 0.7110\n",
            "Epoch 47/100\n",
            "100/100 - 8s - loss: 0.0204 - acc: 0.9935 - val_loss: 4.9754 - val_acc: 0.7210\n",
            "Epoch 48/100\n",
            "100/100 - 8s - loss: 0.0546 - acc: 0.9905 - val_loss: 5.3810 - val_acc: 0.7200\n",
            "Epoch 49/100\n",
            "100/100 - 8s - loss: 0.0315 - acc: 0.9935 - val_loss: 6.1451 - val_acc: 0.7150\n",
            "Epoch 50/100\n",
            "100/100 - 8s - loss: 0.0571 - acc: 0.9915 - val_loss: 5.0148 - val_acc: 0.7320\n",
            "Epoch 51/100\n",
            "100/100 - 8s - loss: 0.0281 - acc: 0.9955 - val_loss: 3.9133 - val_acc: 0.7060\n",
            "Epoch 52/100\n",
            "100/100 - 8s - loss: 0.1599 - acc: 0.9805 - val_loss: 3.8421 - val_acc: 0.7250\n",
            "Epoch 53/100\n",
            "100/100 - 8s - loss: 0.0316 - acc: 0.9955 - val_loss: 3.6497 - val_acc: 0.7010\n",
            "Epoch 54/100\n",
            "100/100 - 8s - loss: 0.0484 - acc: 0.9885 - val_loss: 4.7634 - val_acc: 0.6980\n",
            "Epoch 55/100\n",
            "100/100 - 8s - loss: 0.0291 - acc: 0.9945 - val_loss: 6.6519 - val_acc: 0.7310\n",
            "Epoch 56/100\n",
            "100/100 - 8s - loss: 0.0190 - acc: 0.9960 - val_loss: 9.0077 - val_acc: 0.6430\n",
            "Epoch 57/100\n",
            "100/100 - 8s - loss: 0.0740 - acc: 0.9885 - val_loss: 5.6918 - val_acc: 0.7170\n",
            "Epoch 58/100\n",
            "100/100 - 8s - loss: 0.0870 - acc: 0.9915 - val_loss: 6.1123 - val_acc: 0.7080\n",
            "Epoch 59/100\n",
            "100/100 - 8s - loss: 0.0677 - acc: 0.9890 - val_loss: 5.3539 - val_acc: 0.7090\n",
            "Epoch 60/100\n",
            "100/100 - 8s - loss: 0.0041 - acc: 0.9980 - val_loss: 8.7775 - val_acc: 0.7320\n",
            "Epoch 61/100\n",
            "100/100 - 8s - loss: 0.0498 - acc: 0.9950 - val_loss: 7.2634 - val_acc: 0.7350\n",
            "Epoch 62/100\n",
            "100/100 - 8s - loss: 0.0204 - acc: 0.9975 - val_loss: 4.8858 - val_acc: 0.6840\n",
            "Epoch 63/100\n",
            "100/100 - 8s - loss: 0.0913 - acc: 0.9840 - val_loss: 4.9778 - val_acc: 0.7360\n",
            "Epoch 64/100\n",
            "100/100 - 8s - loss: 1.3904e-04 - acc: 1.0000 - val_loss: 6.0218 - val_acc: 0.7460\n",
            "Epoch 65/100\n",
            "100/100 - 8s - loss: 0.1396 - acc: 0.9895 - val_loss: 6.2675 - val_acc: 0.7040\n",
            "Epoch 66/100\n",
            "100/100 - 8s - loss: 0.0135 - acc: 0.9980 - val_loss: 7.4391 - val_acc: 0.7210\n",
            "Epoch 67/100\n",
            "100/100 - 8s - loss: 0.0988 - acc: 0.9890 - val_loss: 5.7662 - val_acc: 0.7190\n",
            "Epoch 68/100\n",
            "100/100 - 8s - loss: 1.6027e-04 - acc: 1.0000 - val_loss: 15.4821 - val_acc: 0.6890\n",
            "Epoch 69/100\n",
            "100/100 - 8s - loss: 0.0935 - acc: 0.9900 - val_loss: 5.9200 - val_acc: 0.7380\n",
            "Epoch 70/100\n",
            "100/100 - 8s - loss: 0.0928 - acc: 0.9940 - val_loss: 5.1968 - val_acc: 0.7160\n",
            "Epoch 71/100\n",
            "100/100 - 8s - loss: 0.0230 - acc: 0.9955 - val_loss: 5.0950 - val_acc: 0.6680\n",
            "Epoch 72/100\n",
            "100/100 - 8s - loss: 0.0492 - acc: 0.9915 - val_loss: 8.0614 - val_acc: 0.7080\n",
            "Epoch 73/100\n",
            "100/100 - 8s - loss: 0.0939 - acc: 0.9935 - val_loss: 9.9624 - val_acc: 0.7320\n",
            "Epoch 74/100\n",
            "100/100 - 8s - loss: 0.0234 - acc: 0.9960 - val_loss: 7.9117 - val_acc: 0.7420\n",
            "Epoch 75/100\n",
            "100/100 - 8s - loss: 0.0437 - acc: 0.9945 - val_loss: 10.7939 - val_acc: 0.7170\n",
            "Epoch 76/100\n",
            "100/100 - 8s - loss: 0.0879 - acc: 0.9910 - val_loss: 3.6807 - val_acc: 0.7010\n",
            "Epoch 77/100\n",
            "100/100 - 8s - loss: 0.0762 - acc: 0.9895 - val_loss: 5.7964 - val_acc: 0.7050\n",
            "Epoch 78/100\n",
            "100/100 - 8s - loss: 0.0231 - acc: 0.9950 - val_loss: 8.9382 - val_acc: 0.7290\n",
            "Epoch 79/100\n",
            "100/100 - 8s - loss: 0.0039 - acc: 0.9985 - val_loss: 8.1293 - val_acc: 0.7250\n",
            "Epoch 80/100\n",
            "100/100 - 8s - loss: 0.0210 - acc: 0.9970 - val_loss: 10.2191 - val_acc: 0.7190\n",
            "Epoch 81/100\n",
            "100/100 - 8s - loss: 0.0627 - acc: 0.9900 - val_loss: 6.9062 - val_acc: 0.7210\n",
            "Epoch 82/100\n",
            "100/100 - 8s - loss: 0.0156 - acc: 0.9945 - val_loss: 6.2372 - val_acc: 0.7180\n",
            "Epoch 83/100\n",
            "100/100 - 8s - loss: 0.0370 - acc: 0.9940 - val_loss: 7.8195 - val_acc: 0.7030\n",
            "Epoch 84/100\n",
            "100/100 - 8s - loss: 0.0334 - acc: 0.9950 - val_loss: 8.9818 - val_acc: 0.7240\n",
            "Epoch 85/100\n",
            "100/100 - 8s - loss: 0.0209 - acc: 0.9965 - val_loss: 8.0341 - val_acc: 0.7220\n",
            "Epoch 86/100\n",
            "100/100 - 8s - loss: 0.0992 - acc: 0.9905 - val_loss: 9.4772 - val_acc: 0.7090\n",
            "Epoch 87/100\n",
            "100/100 - 8s - loss: 0.0713 - acc: 0.9915 - val_loss: 9.7219 - val_acc: 0.7130\n",
            "Epoch 88/100\n",
            "100/100 - 8s - loss: 0.0268 - acc: 0.9970 - val_loss: 11.7161 - val_acc: 0.7220\n",
            "Epoch 89/100\n",
            "100/100 - 8s - loss: 0.0230 - acc: 0.9970 - val_loss: 10.6702 - val_acc: 0.7270\n",
            "Epoch 90/100\n",
            "100/100 - 8s - loss: 0.0324 - acc: 0.9940 - val_loss: 10.0767 - val_acc: 0.6960\n",
            "Epoch 91/100\n",
            "100/100 - 8s - loss: 0.0266 - acc: 0.9955 - val_loss: 12.6998 - val_acc: 0.6910\n",
            "Epoch 92/100\n",
            "100/100 - 8s - loss: 0.0555 - acc: 0.9940 - val_loss: 10.1452 - val_acc: 0.7180\n",
            "Epoch 93/100\n",
            "100/100 - 8s - loss: 0.0555 - acc: 0.9940 - val_loss: 9.0399 - val_acc: 0.7070\n",
            "Epoch 94/100\n",
            "100/100 - 8s - loss: 8.5271e-07 - acc: 1.0000 - val_loss: 9.1521 - val_acc: 0.7190\n",
            "Epoch 95/100\n",
            "100/100 - 8s - loss: 0.0028 - acc: 0.9990 - val_loss: 13.9152 - val_acc: 0.7280\n",
            "Epoch 96/100\n",
            "100/100 - 8s - loss: 0.0400 - acc: 0.9955 - val_loss: 8.3995 - val_acc: 0.7180\n",
            "Epoch 97/100\n",
            "100/100 - 8s - loss: 4.5766e-07 - acc: 1.0000 - val_loss: 9.4576 - val_acc: 0.7140\n",
            "Epoch 98/100\n",
            "100/100 - 8s - loss: 2.1491e-09 - acc: 1.0000 - val_loss: 10.3469 - val_acc: 0.7220\n",
            "Epoch 99/100\n",
            "100/100 - 8s - loss: 7.4046e-11 - acc: 1.0000 - val_loss: 10.8648 - val_acc: 0.7260\n",
            "Epoch 100/100\n",
            "100/100 - 8s - loss: 6.4289e-12 - acc: 1.0000 - val_loss: 10.9265 - val_acc: 0.7270\n"
          ],
          "name": "stdout"
        }
      ]
    },
    {
      "cell_type": "code",
      "metadata": {
        "colab": {
          "base_uri": "https://localhost:8080/",
          "height": 545
        },
        "id": "_DzhE45VgXfs",
        "outputId": "a1b52a94-b4a1-4b4e-801b-06b12ed9a33c"
      },
      "source": [
        "import matplotlib.pyplot as plt\r\n",
        "\r\n",
        "acc = history.history['acc']\r\n",
        "val_acc = history.history['val_acc']\r\n",
        "loss = history.history['loss']\r\n",
        "val_loss = history.history['val_loss']\r\n",
        "\r\n",
        "epochs = range(len(acc))\r\n",
        "\r\n",
        "plt.plot(epochs, acc, 'bo', label = 'Training Accuracy')\r\n",
        "plt.plot(epochs, val_acc, 'b', label = 'Validation Accuracy')\r\n",
        "plt.title('Training And Validation Accuracy')\r\n",
        "plt.legend()\r\n",
        "\r\n",
        "plt.figure()\r\n",
        "\r\n",
        "plt.plot(epochs, loss, 'bo', label = 'Training Loss')\r\n",
        "plt.plot(epochs, val_loss, 'b', label = 'Validation Loss')\r\n",
        "plt.title('Training And Validation Loss')\r\n",
        "plt.legend()\r\n",
        "\r\n",
        "plt.show()"
      ],
      "execution_count": 9,
      "outputs": [
        {
          "output_type": "display_data",
          "data": {
            "image/png": "[encoded data removed]",
            "text/plain": [
              "<Figure size 432x288 with 1 Axes>"
            ]
          },
          "metadata": {
            "tags": [],
            "needs_background": "light"
          }
        },
        {
          "output_type": "display_data",
          "data": {
            "image/png": "[encoded data removed]",
            "text/plain": [
              "<Figure size 432x288 with 1 Axes>"
            ]
          },
          "metadata": {
            "tags": [],
            "needs_background": "light"
          }
        }
      ]
    },
    {
      "cell_type": "markdown",
      "metadata": {
        "id": "d7GeBWsphXo8"
      },
      "source": [
        "* 100의 반복결과 Training Accuracy는 100퍼센트에 가까워지는 반면 Validation Accuracy는 7~80%에 머물러 있음을 알 수 있다.  \r\n",
        "* 이는 Training Data에 Overfitting되어있음을 알 수 있다.(알고 있는 데이터에 대해서는 잘 작동하지만 알지 못한 데이터에 대해서는 잘 작동하지 않음을 의미한다.)\r\n",
        "* 'Overfitting'을 방지하기 위한 방법으로 'Data Augmentation'을 해보도록하자.(주어진 데이터를 'rotate', 'squash'등을 이용하여 변형시켜 training data로 사용하는 것이다.)\r\n"
      ]
    },
    {
      "cell_type": "markdown",
      "metadata": {
        "id": "JEB8_Ks-iQc_"
      },
      "source": [
        "'Data Augmentation'은 `ImageDataGenerator`를 이용하여 간단하게 코딩할 수 있다. 다음과 같다."
      ]
    },
    {
      "cell_type": "markdown",
      "metadata": {
        "id": "fr2VnYxmicw4"
      },
      "source": [
        "```\r\n",
        "train_datagen = ImageDataGenerator(\r\n",
        "  rotation_range = 40,\r\n",
        "  width_shift_range = 0.2,\r\n",
        "  heigth_shift_range = 0.2,\r\n",
        "  shear_range = 0.2,\r\n",
        "  zoom_range = 0.2,\r\n",
        "  horizontal_flip = True,\r\n",
        "  fill_mode = 'nearest')\r\n",
        "```\r\n"
      ]
    },
    {
      "cell_type": "markdown",
      "metadata": {
        "id": "VPRIzuC3i4FH"
      },
      "source": [
        "다음은 Augmentaion을 할 때 사용하는 대표적인 options들이다. 알아두도록 하자.\r\n",
        "\r\n",
        "* rotation_range : 0~180값으로 임의로 회전을 줄 수 있다.\r\n",
        "* width_shift & height_shift : 수직 또는 수평으로 임의로 움직일 수 있다.\r\n",
        "* shear_range : 임의로 shearing transformation시킬 수 있다.\r\n",
        "* zoom_range : 임의로 image를 확대 할 수 있다.\r\n",
        "* horizontal_flip : 수평으로 뒤집을 때 사용한다.(좌우반전)\r\n",
        "* fill_mode : 회전, 폭/높이 이동 후에 나타나는 빈 셀을 채울 때 사용한다."
      ]
    },
    {
      "cell_type": "code",
      "metadata": {
        "colab": {
          "base_uri": "https://localhost:8080/"
        },
        "id": "jn2VZ0B4kZXE",
        "outputId": "4b76366a-e235-4371-8703-977b289f81fd"
      },
      "source": [
        "!wget --no-check-certificate \\\r\n",
        "https://storage.googleapis.com/mledu-datasets/cats_and_dogs_filtered.zip \\\r\n",
        "-O /tmp/cats_and_dogs_filtered.zip"
      ],
      "execution_count": 10,
      "outputs": [
        {
          "output_type": "stream",
          "text": [
            "--2021-01-04 13:26:31--  https://storage.googleapis.com/mledu-datasets/cats_and_dogs_filtered.zip\n",
            "Resolving storage.googleapis.com (storage.googleapis.com)... 172.217.13.240, 172.217.12.240, 172.217.5.240, ...\n",
            "Connecting to storage.googleapis.com (storage.googleapis.com)|172.217.13.240|:443... connected.\n",
            "HTTP request sent, awaiting response... 200 OK\n",
            "Length: 68606236 (65M) [application/zip]\n",
            "Saving to: ‘/tmp/cats_and_dogs_filtered.zip’\n",
            "\n",
            "/tmp/cats_and_dogs_ 100%[===================>]  65.43M   128MB/s    in 0.5s    \n",
            "\n",
            "2021-01-04 13:26:32 (128 MB/s) - ‘/tmp/cats_and_dogs_filtered.zip’ saved [68606236/68606236]\n",
            "\n"
          ],
          "name": "stdout"
        }
      ]
    },
    {
      "cell_type": "code",
      "metadata": {
        "id": "dQQb0aUlk-Zw"
      },
      "source": [
        "import os\r\n",
        "import zipfile\r\n",
        "import tensorflow as tf\r\n",
        "from tensorflow.keras.optimizers import RMSprop\r\n",
        "from tensorflow.keras.preprocessing.image import ImageDataGenerator"
      ],
      "execution_count": 12,
      "outputs": []
    },
    {
      "cell_type": "code",
      "metadata": {
        "id": "i38XKVZslJZJ"
      },
      "source": [
        "local_zip = '/tmp/cats_and_dogs_filtered.zip'\r\n",
        "zip_ref = zipfile.ZipFile(local_zip, 'r')\r\n",
        "zip_ref.extractall('/tmp')\r\n",
        "zip_ref.close()\r\n",
        "\r\n",
        "base_dir = '/tmp/cats_and_dogs_filtered'\r\n",
        "train_dir = os.path.join(base_dir, 'train')\r\n",
        "validation_dir = os.path.join(base_dir, 'validation')\r\n",
        "\r\n",
        "train_cats_dir = os.path.join(train_dir, 'cats')\r\n",
        "train_dogs_dir = os.path.join(train_dir, 'dogs')\r\n",
        "validation_cats_dir = os.path.join(validation_dir, 'cats')\r\n",
        "validation_dogs_dir = os.path.join(validation_dir, 'dogs')"
      ],
      "execution_count": 14,
      "outputs": []
    },
    {
      "cell_type": "code",
      "metadata": {
        "id": "NOY8XKKZl0DF"
      },
      "source": [
        "model = tf.keras.models.Sequential([\r\n",
        "    tf.keras.layers.Conv2D(32, (3,3), activation = 'relu', input_shape = (150, 150, 3)),\r\n",
        "    tf.keras.layers.MaxPooling2D(2,2),\r\n",
        "    tf.keras.layers.Conv2D(64, (3,3), activation = 'relu'),\r\n",
        "    tf.keras.layers.MaxPooling2D(2,2),\r\n",
        "    tf.keras.layers.Conv2D(128, (3,3), activation = 'relu'),\r\n",
        "    tf.keras.layers.MaxPooling2D(2,2),\r\n",
        "    tf.keras.layers.Conv2D(128, (3,3), activation = 'relu'),\r\n",
        "    tf.keras.layers.MaxPooling2D(2,2),\r\n",
        "    tf.keras.layers.Flatten(),\r\n",
        "    tf.keras.layers.Dense(512, activation = 'relu'),\r\n",
        "    tf.keras.layers.Dense(1,activation = 'sigmoid'),\r\n",
        "])\r\n",
        "\r\n",
        "model.compile(optimizer = RMSprop(lr = .001),\r\n",
        "              loss = 'binary_crossentropy',\r\n",
        "              metrics = ['acc'])"
      ],
      "execution_count": 16,
      "outputs": []
    },
    {
      "cell_type": "code",
      "metadata": {
        "colab": {
          "base_uri": "https://localhost:8080/"
        },
        "id": "0Dunyf6bmpgh",
        "outputId": "adc740c0-3823-44c3-ab2e-208d9dcb3993"
      },
      "source": [
        "train_datagen = ImageDataGenerator(\r\n",
        "    rescale = 1. /255,\r\n",
        "    rotation_range = 40,\r\n",
        "    width_shift_range = .2,\r\n",
        "    height_shift_range = .2,\r\n",
        "    shear_range = .2,\r\n",
        "    zoom_range = .2,\r\n",
        "    horizontal_flip = True,\r\n",
        "    fill_mode = 'nearest'\r\n",
        ")\r\n",
        "validation_datagen = ImageDataGenerator(rescale = 1. /255)\r\n",
        "\r\n",
        "train_generator = train_datagen.flow_from_directory(\r\n",
        "    train_dir,\r\n",
        "    target_size = (150, 150),\r\n",
        "    class_mode = 'binary',\r\n",
        "    batch_size = 20\r\n",
        ")\r\n",
        "validation_generator = validation_datagen.flow_from_directory(\r\n",
        "    validation_dir,\r\n",
        "    target_size = (150, 150),\r\n",
        "    class_mode = 'binary',\r\n",
        "    batch_size = 20\r\n",
        ")"
      ],
      "execution_count": 17,
      "outputs": [
        {
          "output_type": "stream",
          "text": [
            "Found 2000 images belonging to 2 classes.\n",
            "Found 1000 images belonging to 2 classes.\n"
          ],
          "name": "stdout"
        }
      ]
    },
    {
      "cell_type": "code",
      "metadata": {
        "colab": {
          "base_uri": "https://localhost:8080/"
        },
        "id": "Tznl1fqCn3n_",
        "outputId": "58dff5b0-df42-4fdf-880f-9d928acd1257"
      },
      "source": [
        "history = model.fit(\r\n",
        "    train_generator,\r\n",
        "    steps_per_epoch = 100,\r\n",
        "    epochs = 100,\r\n",
        "    validation_data = validation_generator,\r\n",
        "    validation_steps = 50,\r\n",
        "    verbose = 2\r\n",
        ")"
      ],
      "execution_count": 18,
      "outputs": [
        {
          "output_type": "stream",
          "text": [
            "Epoch 1/100\n",
            "100/100 - 17s - loss: 0.7860 - acc: 0.5220 - val_loss: 0.6867 - val_acc: 0.5020\n",
            "Epoch 2/100\n",
            "100/100 - 16s - loss: 0.6889 - acc: 0.5425 - val_loss: 0.6518 - val_acc: 0.6150\n",
            "Epoch 3/100\n",
            "100/100 - 16s - loss: 0.6704 - acc: 0.6005 - val_loss: 0.6607 - val_acc: 0.5700\n",
            "Epoch 4/100\n",
            "100/100 - 16s - loss: 0.6655 - acc: 0.6255 - val_loss: 0.6149 - val_acc: 0.6700\n",
            "Epoch 5/100\n",
            "100/100 - 16s - loss: 0.6602 - acc: 0.6355 - val_loss: 0.5904 - val_acc: 0.6790\n",
            "Epoch 6/100\n",
            "100/100 - 16s - loss: 0.6322 - acc: 0.6530 - val_loss: 0.7355 - val_acc: 0.5810\n",
            "Epoch 7/100\n",
            "100/100 - 16s - loss: 0.6369 - acc: 0.6575 - val_loss: 0.5348 - val_acc: 0.7290\n",
            "Epoch 8/100\n",
            "100/100 - 16s - loss: 0.6306 - acc: 0.6555 - val_loss: 0.5403 - val_acc: 0.7130\n",
            "Epoch 9/100\n",
            "100/100 - 16s - loss: 0.6133 - acc: 0.6805 - val_loss: 0.5428 - val_acc: 0.7360\n",
            "Epoch 10/100\n",
            "100/100 - 17s - loss: 0.6062 - acc: 0.6715 - val_loss: 0.5765 - val_acc: 0.6900\n",
            "Epoch 11/100\n",
            "100/100 - 16s - loss: 0.5949 - acc: 0.6800 - val_loss: 0.5586 - val_acc: 0.7440\n",
            "Epoch 12/100\n",
            "100/100 - 16s - loss: 0.6082 - acc: 0.6880 - val_loss: 0.5816 - val_acc: 0.6890\n",
            "Epoch 13/100\n",
            "100/100 - 17s - loss: 0.5916 - acc: 0.6985 - val_loss: 0.5297 - val_acc: 0.7400\n",
            "Epoch 14/100\n",
            "100/100 - 17s - loss: 0.5688 - acc: 0.7065 - val_loss: 0.7358 - val_acc: 0.6660\n",
            "Epoch 15/100\n",
            "100/100 - 16s - loss: 0.5714 - acc: 0.7100 - val_loss: 0.5238 - val_acc: 0.7320\n",
            "Epoch 16/100\n",
            "100/100 - 17s - loss: 0.5616 - acc: 0.7210 - val_loss: 0.5226 - val_acc: 0.7540\n",
            "Epoch 17/100\n",
            "100/100 - 17s - loss: 0.5740 - acc: 0.7070 - val_loss: 0.5291 - val_acc: 0.7210\n",
            "Epoch 18/100\n",
            "100/100 - 17s - loss: 0.5831 - acc: 0.7110 - val_loss: 0.4700 - val_acc: 0.7780\n",
            "Epoch 19/100\n",
            "100/100 - 17s - loss: 0.5442 - acc: 0.7320 - val_loss: 0.4789 - val_acc: 0.7740\n",
            "Epoch 20/100\n",
            "100/100 - 17s - loss: 0.5488 - acc: 0.7400 - val_loss: 0.4765 - val_acc: 0.7760\n",
            "Epoch 21/100\n",
            "100/100 - 17s - loss: 0.5489 - acc: 0.7305 - val_loss: 0.5729 - val_acc: 0.7140\n",
            "Epoch 22/100\n",
            "100/100 - 16s - loss: 0.5233 - acc: 0.7430 - val_loss: 0.5547 - val_acc: 0.7250\n",
            "Epoch 23/100\n",
            "100/100 - 17s - loss: 0.5528 - acc: 0.7400 - val_loss: 0.4705 - val_acc: 0.7720\n",
            "Epoch 24/100\n",
            "100/100 - 16s - loss: 0.5251 - acc: 0.7505 - val_loss: 0.4975 - val_acc: 0.7540\n",
            "Epoch 25/100\n",
            "100/100 - 16s - loss: 0.5307 - acc: 0.7555 - val_loss: 0.4525 - val_acc: 0.7910\n",
            "Epoch 26/100\n",
            "100/100 - 16s - loss: 0.5261 - acc: 0.7435 - val_loss: 0.4644 - val_acc: 0.7650\n",
            "Epoch 27/100\n",
            "100/100 - 16s - loss: 0.5146 - acc: 0.7580 - val_loss: 0.4440 - val_acc: 0.8010\n",
            "Epoch 28/100\n",
            "100/100 - 16s - loss: 0.5186 - acc: 0.7450 - val_loss: 0.5386 - val_acc: 0.7650\n",
            "Epoch 29/100\n",
            "100/100 - 17s - loss: 0.5001 - acc: 0.7425 - val_loss: 0.4185 - val_acc: 0.8010\n",
            "Epoch 30/100\n",
            "100/100 - 16s - loss: 0.5142 - acc: 0.7690 - val_loss: 0.4222 - val_acc: 0.8000\n",
            "Epoch 31/100\n",
            "100/100 - 16s - loss: 0.5009 - acc: 0.7595 - val_loss: 0.4732 - val_acc: 0.7690\n",
            "Epoch 32/100\n",
            "100/100 - 16s - loss: 0.4974 - acc: 0.7645 - val_loss: 0.4490 - val_acc: 0.7920\n",
            "Epoch 33/100\n",
            "100/100 - 16s - loss: 0.5057 - acc: 0.7590 - val_loss: 0.4741 - val_acc: 0.7720\n",
            "Epoch 34/100\n",
            "100/100 - 16s - loss: 0.4845 - acc: 0.7780 - val_loss: 0.4549 - val_acc: 0.7840\n",
            "Epoch 35/100\n",
            "100/100 - 16s - loss: 0.4790 - acc: 0.7715 - val_loss: 0.4240 - val_acc: 0.8050\n",
            "Epoch 36/100\n",
            "100/100 - 16s - loss: 0.4965 - acc: 0.7645 - val_loss: 0.4354 - val_acc: 0.8090\n",
            "Epoch 37/100\n",
            "100/100 - 16s - loss: 0.4728 - acc: 0.7800 - val_loss: 0.4369 - val_acc: 0.8000\n",
            "Epoch 38/100\n",
            "100/100 - 16s - loss: 0.4993 - acc: 0.7700 - val_loss: 0.5454 - val_acc: 0.7580\n",
            "Epoch 39/100\n",
            "100/100 - 16s - loss: 0.4599 - acc: 0.7905 - val_loss: 0.5115 - val_acc: 0.8010\n",
            "Epoch 40/100\n",
            "100/100 - 16s - loss: 0.4751 - acc: 0.7770 - val_loss: 0.4286 - val_acc: 0.8080\n",
            "Epoch 41/100\n",
            "100/100 - 16s - loss: 0.4731 - acc: 0.7930 - val_loss: 0.4260 - val_acc: 0.8010\n",
            "Epoch 42/100\n",
            "100/100 - 16s - loss: 0.4521 - acc: 0.7855 - val_loss: 0.4828 - val_acc: 0.7840\n",
            "Epoch 43/100\n",
            "100/100 - 16s - loss: 0.4549 - acc: 0.7840 - val_loss: 0.4467 - val_acc: 0.8270\n",
            "Epoch 44/100\n",
            "100/100 - 16s - loss: 0.4549 - acc: 0.7920 - val_loss: 0.4546 - val_acc: 0.8030\n",
            "Epoch 45/100\n",
            "100/100 - 16s - loss: 0.4768 - acc: 0.7815 - val_loss: 0.4444 - val_acc: 0.8040\n",
            "Epoch 46/100\n",
            "100/100 - 16s - loss: 0.4636 - acc: 0.7945 - val_loss: 0.4493 - val_acc: 0.7960\n",
            "Epoch 47/100\n",
            "100/100 - 16s - loss: 0.4690 - acc: 0.7785 - val_loss: 0.4545 - val_acc: 0.8190\n",
            "Epoch 48/100\n",
            "100/100 - 16s - loss: 0.4568 - acc: 0.7950 - val_loss: 0.4650 - val_acc: 0.7940\n",
            "Epoch 49/100\n",
            "100/100 - 16s - loss: 0.4642 - acc: 0.8070 - val_loss: 0.4695 - val_acc: 0.7770\n",
            "Epoch 50/100\n",
            "100/100 - 16s - loss: 0.4545 - acc: 0.7965 - val_loss: 0.4467 - val_acc: 0.7930\n",
            "Epoch 51/100\n",
            "100/100 - 16s - loss: 0.4480 - acc: 0.8050 - val_loss: 0.4130 - val_acc: 0.8230\n",
            "Epoch 52/100\n",
            "100/100 - 16s - loss: 0.4546 - acc: 0.7975 - val_loss: 0.5347 - val_acc: 0.7730\n",
            "Epoch 53/100\n",
            "100/100 - 16s - loss: 0.4575 - acc: 0.7940 - val_loss: 0.4583 - val_acc: 0.8000\n",
            "Epoch 54/100\n",
            "100/100 - 16s - loss: 0.4647 - acc: 0.8075 - val_loss: 0.5143 - val_acc: 0.7360\n",
            "Epoch 55/100\n",
            "100/100 - 16s - loss: 0.4403 - acc: 0.8015 - val_loss: 0.4753 - val_acc: 0.8160\n",
            "Epoch 56/100\n",
            "100/100 - 16s - loss: 0.4626 - acc: 0.8005 - val_loss: 0.8491 - val_acc: 0.7490\n",
            "Epoch 57/100\n",
            "100/100 - 16s - loss: 0.4411 - acc: 0.8005 - val_loss: 0.4457 - val_acc: 0.8340\n",
            "Epoch 58/100\n",
            "100/100 - 16s - loss: 0.5938 - acc: 0.7950 - val_loss: 0.4119 - val_acc: 0.8160\n",
            "Epoch 59/100\n",
            "100/100 - 16s - loss: 0.4310 - acc: 0.8120 - val_loss: 0.4159 - val_acc: 0.8180\n",
            "Epoch 60/100\n",
            "100/100 - 16s - loss: 0.4559 - acc: 0.7960 - val_loss: 0.4547 - val_acc: 0.7940\n",
            "Epoch 61/100\n",
            "100/100 - 16s - loss: 0.4288 - acc: 0.8180 - val_loss: 0.4073 - val_acc: 0.8340\n",
            "Epoch 62/100\n",
            "100/100 - 16s - loss: 0.4540 - acc: 0.7935 - val_loss: 2.1730 - val_acc: 0.5710\n",
            "Epoch 63/100\n",
            "100/100 - 16s - loss: 0.4545 - acc: 0.7990 - val_loss: 0.4019 - val_acc: 0.8260\n",
            "Epoch 64/100\n",
            "100/100 - 16s - loss: 0.4303 - acc: 0.8150 - val_loss: 1.0803 - val_acc: 0.7240\n",
            "Epoch 65/100\n",
            "100/100 - 16s - loss: 0.4440 - acc: 0.8105 - val_loss: 0.4234 - val_acc: 0.8200\n",
            "Epoch 66/100\n",
            "100/100 - 16s - loss: 0.4099 - acc: 0.8135 - val_loss: 0.4050 - val_acc: 0.8210\n",
            "Epoch 67/100\n",
            "100/100 - 17s - loss: 0.4156 - acc: 0.8190 - val_loss: 0.5081 - val_acc: 0.7720\n",
            "Epoch 68/100\n",
            "100/100 - 16s - loss: 0.4265 - acc: 0.8165 - val_loss: 0.4133 - val_acc: 0.8340\n",
            "Epoch 69/100\n",
            "100/100 - 16s - loss: 0.4255 - acc: 0.8195 - val_loss: 0.5012 - val_acc: 0.8350\n",
            "Epoch 70/100\n",
            "100/100 - 16s - loss: 0.4247 - acc: 0.8165 - val_loss: 0.4462 - val_acc: 0.7990\n",
            "Epoch 71/100\n",
            "100/100 - 16s - loss: 0.4456 - acc: 0.8110 - val_loss: 0.4250 - val_acc: 0.8240\n",
            "Epoch 72/100\n",
            "100/100 - 16s - loss: 0.4356 - acc: 0.8085 - val_loss: 0.4917 - val_acc: 0.7890\n",
            "Epoch 73/100\n",
            "100/100 - 16s - loss: 0.4241 - acc: 0.8160 - val_loss: 0.4066 - val_acc: 0.8360\n",
            "Epoch 74/100\n",
            "100/100 - 16s - loss: 0.4293 - acc: 0.8205 - val_loss: 0.4189 - val_acc: 0.8220\n",
            "Epoch 75/100\n",
            "100/100 - 16s - loss: 0.4412 - acc: 0.8010 - val_loss: 0.4101 - val_acc: 0.8350\n",
            "Epoch 76/100\n",
            "100/100 - 16s - loss: 0.4016 - acc: 0.8255 - val_loss: 1.1592 - val_acc: 0.7350\n",
            "Epoch 77/100\n",
            "100/100 - 16s - loss: 0.4265 - acc: 0.8270 - val_loss: 0.4553 - val_acc: 0.7860\n",
            "Epoch 78/100\n",
            "100/100 - 16s - loss: 0.4059 - acc: 0.8235 - val_loss: 0.4616 - val_acc: 0.8180\n",
            "Epoch 79/100\n",
            "100/100 - 16s - loss: 0.4285 - acc: 0.8170 - val_loss: 0.4457 - val_acc: 0.8300\n",
            "Epoch 80/100\n",
            "100/100 - 16s - loss: 0.4242 - acc: 0.8240 - val_loss: 0.5633 - val_acc: 0.8140\n",
            "Epoch 81/100\n",
            "100/100 - 16s - loss: 0.4680 - acc: 0.8100 - val_loss: 0.5357 - val_acc: 0.7930\n",
            "Epoch 82/100\n",
            "100/100 - 16s - loss: 0.4323 - acc: 0.8040 - val_loss: 0.4767 - val_acc: 0.8260\n",
            "Epoch 83/100\n",
            "100/100 - 16s - loss: 0.4286 - acc: 0.8110 - val_loss: 0.4407 - val_acc: 0.8350\n",
            "Epoch 84/100\n",
            "100/100 - 16s - loss: 0.4179 - acc: 0.8145 - val_loss: 0.4543 - val_acc: 0.7960\n",
            "Epoch 85/100\n",
            "100/100 - 16s - loss: 0.4180 - acc: 0.8200 - val_loss: 1.0815 - val_acc: 0.7380\n",
            "Epoch 86/100\n",
            "100/100 - 16s - loss: 0.4428 - acc: 0.8180 - val_loss: 0.4616 - val_acc: 0.8000\n",
            "Epoch 87/100\n",
            "100/100 - 16s - loss: 0.4164 - acc: 0.8215 - val_loss: 0.5070 - val_acc: 0.8330\n",
            "Epoch 88/100\n",
            "100/100 - 16s - loss: 0.4405 - acc: 0.8120 - val_loss: 0.4121 - val_acc: 0.8260\n",
            "Epoch 89/100\n",
            "100/100 - 16s - loss: 0.4054 - acc: 0.8205 - val_loss: 0.3937 - val_acc: 0.8470\n",
            "Epoch 90/100\n",
            "100/100 - 16s - loss: 0.4137 - acc: 0.8245 - val_loss: 0.4246 - val_acc: 0.8230\n",
            "Epoch 91/100\n",
            "100/100 - 16s - loss: 0.4118 - acc: 0.8190 - val_loss: 0.4986 - val_acc: 0.7710\n",
            "Epoch 92/100\n",
            "100/100 - 16s - loss: 0.3925 - acc: 0.8375 - val_loss: 0.4322 - val_acc: 0.8390\n",
            "Epoch 93/100\n",
            "100/100 - 16s - loss: 0.4055 - acc: 0.8220 - val_loss: 0.4236 - val_acc: 0.8250\n",
            "Epoch 94/100\n",
            "100/100 - 16s - loss: 0.4288 - acc: 0.8150 - val_loss: 0.4892 - val_acc: 0.8340\n",
            "Epoch 95/100\n",
            "100/100 - 16s - loss: 0.3982 - acc: 0.8265 - val_loss: 0.6652 - val_acc: 0.7150\n",
            "Epoch 96/100\n",
            "100/100 - 16s - loss: 0.4327 - acc: 0.8125 - val_loss: 0.3731 - val_acc: 0.8400\n",
            "Epoch 97/100\n",
            "100/100 - 16s - loss: 0.3986 - acc: 0.8455 - val_loss: 0.3792 - val_acc: 0.8400\n",
            "Epoch 98/100\n",
            "100/100 - 16s - loss: 0.4062 - acc: 0.8190 - val_loss: 0.4393 - val_acc: 0.8120\n",
            "Epoch 99/100\n",
            "100/100 - 16s - loss: 0.4101 - acc: 0.8235 - val_loss: 0.4281 - val_acc: 0.8410\n",
            "Epoch 100/100\n",
            "100/100 - 16s - loss: 0.4096 - acc: 0.8245 - val_loss: 0.5114 - val_acc: 0.7650\n"
          ],
          "name": "stdout"
        }
      ]
    },
    {
      "cell_type": "markdown",
      "metadata": {
        "id": "128XjTK5rVnC"
      },
      "source": [
        "여기서는 validation과 train에서 모두 정확도가 점차적으로 올라가는 것을 볼 수 있다.  \r\n",
        "다만, 참고해야 할 것은 Augmentation의 경우 무작위성을 바탕으로 Augmentate하는 것이기 떄문에 train데이터만 무작위성이 있고 validation data에는 없다면 Augmentation을 하는 것은 큰 의미가 없을 수 있다는 것을 명심하자!"
      ]
    },
    {
      "cell_type": "code",
      "metadata": {
        "colab": {
          "base_uri": "https://localhost:8080/",
          "height": 545
        },
        "id": "UGKk-DG7oGqP",
        "outputId": "d1746dba-d2c2-4b49-9439-df72ad229a62"
      },
      "source": [
        "import matplotlib.pyplot as plt\r\n",
        "\r\n",
        "acc = history.history['acc']\r\n",
        "val_acc = history.history['val_acc']\r\n",
        "loss = history.history['loss']\r\n",
        "val_loss = history.history['val_loss']\r\n",
        "\r\n",
        "epochs = range(len(acc))\r\n",
        "\r\n",
        "plt.plot(epochs, acc, 'bo', label = 'Training Accuracy')\r\n",
        "plt.plot(epochs, val_acc, 'b', label = 'Validation Accuracy')\r\n",
        "plt.title('Training And Validation Accuracy')\r\n",
        "plt.legend()\r\n",
        "\r\n",
        "plt.figure()\r\n",
        "\r\n",
        "plt.plot(epochs, loss, 'bo', label = 'Training Loss')\r\n",
        "plt.plot(epochs, val_loss, 'b', label = 'Validation Loss')\r\n",
        "plt.title('Training And Validation Loss')\r\n",
        "plt.legend()\r\n",
        "\r\n",
        "plt.show()"
      ],
      "execution_count": 22,
      "outputs": [
        {
          "output_type": "display_data",
          "data": {
            "image/png": "[encoded data removed]",
            "text/plain": [
              "<Figure size 432x288 with 1 Axes>"
            ]
          },
          "metadata": {
            "tags": [],
            "needs_background": "light"
          }
        },
        {
          "output_type": "display_data",
          "data": {
            "image/png": "[encoded data removed]",
            "text/plain": [
              "<Figure size 432x288 with 1 Axes>"
            ]
          },
          "metadata": {
            "tags": [],
            "needs_background": "light"
          }
        }
      ]
    }
  ]
}