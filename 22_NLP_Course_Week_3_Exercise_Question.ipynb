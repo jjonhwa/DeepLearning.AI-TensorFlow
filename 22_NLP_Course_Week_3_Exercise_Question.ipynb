{
  "nbformat": 4,
  "nbformat_minor": 0,
  "metadata": {
    "colab": {
      "name": "22. NLP Course - Week 3 Exercise Question.ipynb",
      "provenance": [],
      "collapsed_sections": [],
      "authorship_tag": "ABX9TyORySfUQJBMG2+vCVtwpGUP",
      "include_colab_link": true
    },
    "kernelspec": {
      "name": "python3",
      "display_name": "Python 3"
    }
  },
  "cells": [
    {
      "cell_type": "markdown",
      "metadata": {
        "id": "view-in-github",
        "colab_type": "text"
      },
      "source": [
        "<a href=\"https://colab.research.google.com/github/jjonhwa/DeepLearning.AI-TensorFlow/blob/main/22_NLP_Course_Week_3_Exercise_Question.ipynb\" target=\"_parent\"><img src=\"https://colab.research.google.com/assets/colab-badge.svg\" alt=\"Open In Colab\"/></a>"
      ]
    },
    {
      "cell_type": "code",
      "metadata": {
        "id": "V95p3zDVnI0i"
      },
      "source": [
        "import json\r\n",
        "import tensorflow as tf\r\n",
        "import csv\r\n",
        "import random\r\n",
        "import numpy as np\r\n",
        "\r\n",
        "from tensorflow.keras.preprocessing.text import Tokenizer\r\n",
        "from tensorflow.keras.preprocessing.sequence import pad_sequences\r\n",
        "from tensorflow.keras.utils import to_categorical\r\n",
        "from tensorflow.keras import regularizers"
      ],
      "execution_count": 2,
      "outputs": []
    },
    {
      "cell_type": "code",
      "metadata": {
        "id": "hEMCvt1FnYT0"
      },
      "source": [
        "embedding_dim = 100\r\n",
        "max_length = 16\r\n",
        "trunc_type = 'post'\r\n",
        "padding_type = 'post'\r\n",
        "oov_tok = '<OOV>'\r\n",
        "training_size = 160000\r\n",
        "test_portion = .1\r\n",
        "\r\n",
        "corpus = []"
      ],
      "execution_count": 32,
      "outputs": []
    },
    {
      "cell_type": "code",
      "metadata": {
        "colab": {
          "base_uri": "https://localhost:8080/"
        },
        "id": "hWE1no-NnvWG",
        "outputId": "9f0b3712-7a91-4375-fcd6-0287f05edb02"
      },
      "source": [
        "!wget --no-check-certificate \\\r\n",
        "https://storage.googleapis.com/laurencemoroney-blog.appspot.com/training_cleaned.csv \\\r\n",
        "-O /tmp/training_cleaned.csv"
      ],
      "execution_count": 33,
      "outputs": [
        {
          "output_type": "stream",
          "text": [
            "--2021-01-08 11:19:26--  https://storage.googleapis.com/laurencemoroney-blog.appspot.com/training_cleaned.csv\n",
            "Resolving storage.googleapis.com (storage.googleapis.com)... 74.125.28.128, 74.125.142.128, 74.125.20.128, ...\n",
            "Connecting to storage.googleapis.com (storage.googleapis.com)|74.125.28.128|:443... connected.\n",
            "HTTP request sent, awaiting response... 200 OK\n",
            "Length: 238942690 (228M) [application/octet-stream]\n",
            "Saving to: ‘/tmp/training_cleaned.csv’\n",
            "\n",
            "/tmp/training_clean 100%[===================>] 227.87M   183MB/s    in 1.2s    \n",
            "\n",
            "2021-01-08 11:19:28 (183 MB/s) - ‘/tmp/training_cleaned.csv’ saved [238942690/238942690]\n",
            "\n"
          ],
          "name": "stdout"
        }
      ]
    },
    {
      "cell_type": "code",
      "metadata": {
        "colab": {
          "base_uri": "https://localhost:8080/",
          "height": 204
        },
        "id": "ZilbQa3aoSgT",
        "outputId": "038eb33c-25cb-4ec8-8b70-6c7ce32ff368"
      },
      "source": [
        "import pandas as pd\r\n",
        "\r\n",
        "data = pd.read_csv('/tmp/training_cleaned.csv', header = None)\r\n",
        "data.head()"
      ],
      "execution_count": 35,
      "outputs": [
        {
          "output_type": "execute_result",
          "data": {
            "text/html": [
              "<div>\n",
              "<style scoped>\n",
              "    .dataframe tbody tr th:only-of-type {\n",
              "        vertical-align: middle;\n",
              "    }\n",
              "\n",
              "    .dataframe tbody tr th {\n",
              "        vertical-align: top;\n",
              "    }\n",
              "\n",
              "    .dataframe thead th {\n",
              "        text-align: right;\n",
              "    }\n",
              "</style>\n",
              "<table border=\"1\" class=\"dataframe\">\n",
              "  <thead>\n",
              "    <tr style=\"text-align: right;\">\n",
              "      <th></th>\n",
              "      <th>0</th>\n",
              "      <th>1</th>\n",
              "      <th>2</th>\n",
              "      <th>3</th>\n",
              "      <th>4</th>\n",
              "      <th>5</th>\n",
              "    </tr>\n",
              "  </thead>\n",
              "  <tbody>\n",
              "    <tr>\n",
              "      <th>0</th>\n",
              "      <td>0</td>\n",
              "      <td>1467810369</td>\n",
              "      <td>Mon Apr 06 22:19:45 PDT 2009</td>\n",
              "      <td>NO_QUERY</td>\n",
              "      <td>_TheSpecialOne_</td>\n",
              "      <td>@switchfoot http://twitpic.com/2y1zl - Awww, t...</td>\n",
              "    </tr>\n",
              "    <tr>\n",
              "      <th>1</th>\n",
              "      <td>0</td>\n",
              "      <td>1467810672</td>\n",
              "      <td>Mon Apr 06 22:19:49 PDT 2009</td>\n",
              "      <td>NO_QUERY</td>\n",
              "      <td>scotthamilton</td>\n",
              "      <td>is upset that he can't update his Facebook by ...</td>\n",
              "    </tr>\n",
              "    <tr>\n",
              "      <th>2</th>\n",
              "      <td>0</td>\n",
              "      <td>1467810917</td>\n",
              "      <td>Mon Apr 06 22:19:53 PDT 2009</td>\n",
              "      <td>NO_QUERY</td>\n",
              "      <td>mattycus</td>\n",
              "      <td>@Kenichan I dived many times for the ball. Man...</td>\n",
              "    </tr>\n",
              "    <tr>\n",
              "      <th>3</th>\n",
              "      <td>0</td>\n",
              "      <td>1467811184</td>\n",
              "      <td>Mon Apr 06 22:19:57 PDT 2009</td>\n",
              "      <td>NO_QUERY</td>\n",
              "      <td>ElleCTF</td>\n",
              "      <td>my whole body feels itchy and like its on fire</td>\n",
              "    </tr>\n",
              "    <tr>\n",
              "      <th>4</th>\n",
              "      <td>0</td>\n",
              "      <td>1467811193</td>\n",
              "      <td>Mon Apr 06 22:19:57 PDT 2009</td>\n",
              "      <td>NO_QUERY</td>\n",
              "      <td>Karoli</td>\n",
              "      <td>@nationwideclass no, it's not behaving at all....</td>\n",
              "    </tr>\n",
              "  </tbody>\n",
              "</table>\n",
              "</div>"
            ],
            "text/plain": [
              "   0  ...                                                  5\n",
              "0  0  ...  @switchfoot http://twitpic.com/2y1zl - Awww, t...\n",
              "1  0  ...  is upset that he can't update his Facebook by ...\n",
              "2  0  ...  @Kenichan I dived many times for the ball. Man...\n",
              "3  0  ...    my whole body feels itchy and like its on fire \n",
              "4  0  ...  @nationwideclass no, it's not behaving at all....\n",
              "\n",
              "[5 rows x 6 columns]"
            ]
          },
          "metadata": {
            "tags": []
          },
          "execution_count": 35
        }
      ]
    },
    {
      "cell_type": "code",
      "metadata": {
        "colab": {
          "base_uri": "https://localhost:8080/",
          "height": 80
        },
        "id": "2YHKWrMRp5HM",
        "outputId": "09be1399-549b-4f1e-f035-acdafc4bbcb4"
      },
      "source": [
        "data.tail(1)"
      ],
      "execution_count": 36,
      "outputs": [
        {
          "output_type": "execute_result",
          "data": {
            "text/html": [
              "<div>\n",
              "<style scoped>\n",
              "    .dataframe tbody tr th:only-of-type {\n",
              "        vertical-align: middle;\n",
              "    }\n",
              "\n",
              "    .dataframe tbody tr th {\n",
              "        vertical-align: top;\n",
              "    }\n",
              "\n",
              "    .dataframe thead th {\n",
              "        text-align: right;\n",
              "    }\n",
              "</style>\n",
              "<table border=\"1\" class=\"dataframe\">\n",
              "  <thead>\n",
              "    <tr style=\"text-align: right;\">\n",
              "      <th></th>\n",
              "      <th>0</th>\n",
              "      <th>1</th>\n",
              "      <th>2</th>\n",
              "      <th>3</th>\n",
              "      <th>4</th>\n",
              "      <th>5</th>\n",
              "    </tr>\n",
              "  </thead>\n",
              "  <tbody>\n",
              "    <tr>\n",
              "      <th>1599999</th>\n",
              "      <td>4</td>\n",
              "      <td>2193602129</td>\n",
              "      <td>Tue Jun 16 08:40:50 PDT 2009</td>\n",
              "      <td>NO_QUERY</td>\n",
              "      <td>RyanTrevMorris</td>\n",
              "      <td>happy #charitytuesday @theNSPCC @SparksCharity...</td>\n",
              "    </tr>\n",
              "  </tbody>\n",
              "</table>\n",
              "</div>"
            ],
            "text/plain": [
              "         0  ...                                                  5\n",
              "1599999  4  ...  happy #charitytuesday @theNSPCC @SparksCharity...\n",
              "\n",
              "[1 rows x 6 columns]"
            ]
          },
          "metadata": {
            "tags": []
          },
          "execution_count": 36
        }
      ]
    },
    {
      "cell_type": "code",
      "metadata": {
        "colab": {
          "base_uri": "https://localhost:8080/"
        },
        "id": "AixEBTUkoZgj",
        "outputId": "1b72485d-0fae-4fb3-b897-1f7df744efd4"
      },
      "source": [
        "data[0].unique()"
      ],
      "execution_count": 37,
      "outputs": [
        {
          "output_type": "execute_result",
          "data": {
            "text/plain": [
              "array([0, 4])"
            ]
          },
          "metadata": {
            "tags": []
          },
          "execution_count": 37
        }
      ]
    },
    {
      "cell_type": "code",
      "metadata": {
        "id": "9lC6mgcJom0Z"
      },
      "source": [
        "num_sentences = 0\r\n",
        "\r\n",
        "for i in range(len(data[0])) :\r\n",
        "\r\n",
        "  list_item = []\r\n",
        "  num_sentences = num_sentences + 1\r\n",
        "\r\n",
        "  list_item.append(data[data.columns[5]][i])\r\n",
        "  if data[data.columns[0]][i] == 4 :\r\n",
        "    list_item.append(1)\r\n",
        "  elif data[data.columns[0]][i] == 0 :\r\n",
        "    list_item.append(0)\r\n",
        "\r\n",
        "  corpus.append(list_item)"
      ],
      "execution_count": 38,
      "outputs": []
    },
    {
      "cell_type": "code",
      "metadata": {
        "colab": {
          "base_uri": "https://localhost:8080/"
        },
        "id": "BikFUgA-r-Lq",
        "outputId": "a87176b4-3bb2-4337-8d8a-937101abe50c"
      },
      "source": [
        "print(num_sentences)\r\n",
        "print(len(corpus))\r\n",
        "print(corpus[1])"
      ],
      "execution_count": 39,
      "outputs": [
        {
          "output_type": "stream",
          "text": [
            "1600000\n",
            "1600000\n",
            "[\"is upset that he can't update his Facebook by texting it... and might cry as a result  School today also. Blah!\", 0]\n"
          ],
          "name": "stdout"
        }
      ]
    },
    {
      "cell_type": "code",
      "metadata": {
        "id": "8yOeXrM6sW5U"
      },
      "source": [
        "sentences = []\r\n",
        "labels = []\r\n",
        "\r\n",
        "random.shuffle(corpus)\r\n",
        "\r\n",
        "for x in range(training_size) :\r\n",
        "  sentences.append(corpus[x][0])\r\n",
        "  labels.append(corpus[x][1])\r\n",
        "\r\n",
        "tokenizer = Tokenizer()\r\n",
        "tokenizer.fit_on_texts(sentences)\r\n",
        "\r\n",
        "word_index = tokenizer.word_index\r\n",
        "vocab_size = len(word_index)\r\n",
        "\r\n",
        "sequences = tokenizer.texts_to_sequences(sentences)\r\n",
        "padded = pad_sequences(sequences, padding = padding_type, truncating = trunc_type, maxlen = max_length)\r\n",
        "\r\n",
        "split = int(test_portion * training_size)\r\n",
        "\r\n",
        "test_sequences = padded[:split]\r\n",
        "training_sequences = padded[split:]\r\n",
        "test_labels = labels[:split]\r\n",
        "training_labels = labels[split:]"
      ],
      "execution_count": 43,
      "outputs": []
    },
    {
      "cell_type": "code",
      "metadata": {
        "colab": {
          "base_uri": "https://localhost:8080/"
        },
        "id": "NVdKw4cavem_",
        "outputId": "7622a0b8-7f75-4084-e038-d5c56b5b01a7"
      },
      "source": [
        "print(vocab_size)\r\n",
        "print(word_index['i'])"
      ],
      "execution_count": 44,
      "outputs": [
        {
          "output_type": "stream",
          "text": [
            "138342\n",
            "1\n"
          ],
          "name": "stdout"
        }
      ]
    },
    {
      "cell_type": "code",
      "metadata": {
        "colab": {
          "base_uri": "https://localhost:8080/"
        },
        "id": "awHA4Onpvth8",
        "outputId": "f7ab37d4-c30f-40de-a297-95211d81d441"
      },
      "source": [
        "# Note this is the 100 dimension version of GloVe from Stanford\r\n",
        "# I unzipped and hosted it on my site to make this notebook easier\r\n",
        "!wget --no-check-certificate \\\r\n",
        "    https://storage.googleapis.com/laurencemoroney-blog.appspot.com/glove.6B.100d.txt \\\r\n",
        "    -O /tmp/glove.6B.100d.txt\r\n",
        "embeddings_index = {};\r\n",
        "with open('/tmp/glove.6B.100d.txt') as f:\r\n",
        "    for line in f:\r\n",
        "        values = line.split();\r\n",
        "        word = values[0];\r\n",
        "        coefs = np.asarray(values[1:], dtype='float32');\r\n",
        "        embeddings_index[word] = coefs;\r\n",
        "\r\n",
        "embeddings_matrix = np.zeros((vocab_size+1, embedding_dim));\r\n",
        "for word, i in word_index.items():\r\n",
        "    embedding_vector = embeddings_index.get(word);\r\n",
        "    if embedding_vector is not None:\r\n",
        "        embeddings_matrix[i] = embedding_vector;"
      ],
      "execution_count": 45,
      "outputs": [
        {
          "output_type": "stream",
          "text": [
            "--2021-01-08 11:27:49--  https://storage.googleapis.com/laurencemoroney-blog.appspot.com/glove.6B.100d.txt\n",
            "Resolving storage.googleapis.com (storage.googleapis.com)... 74.125.195.128, 74.125.142.128, 74.125.20.128, ...\n",
            "Connecting to storage.googleapis.com (storage.googleapis.com)|74.125.195.128|:443... connected.\n",
            "HTTP request sent, awaiting response... 200 OK\n",
            "Length: 347116733 (331M) [text/plain]\n",
            "Saving to: ‘/tmp/glove.6B.100d.txt’\n",
            "\n",
            "/tmp/glove.6B.100d. 100%[===================>] 331.04M   183MB/s    in 1.8s    \n",
            "\n",
            "2021-01-08 11:27:51 (183 MB/s) - ‘/tmp/glove.6B.100d.txt’ saved [347116733/347116733]\n",
            "\n"
          ],
          "name": "stdout"
        }
      ]
    },
    {
      "cell_type": "code",
      "metadata": {
        "colab": {
          "base_uri": "https://localhost:8080/"
        },
        "id": "tWek0gS0wKtP",
        "outputId": "8df088b4-d380-44b8-877c-d0c2e844d663"
      },
      "source": [
        "print(len(embeddings_matrix))"
      ],
      "execution_count": 46,
      "outputs": [
        {
          "output_type": "stream",
          "text": [
            "138343\n"
          ],
          "name": "stdout"
        }
      ]
    },
    {
      "cell_type": "code",
      "metadata": {
        "colab": {
          "base_uri": "https://localhost:8080/"
        },
        "id": "TVol8L6uwOSy",
        "outputId": "593fa150-e7a0-490d-e025-59667422f02d"
      },
      "source": [
        "model = tf.keras.Sequential([\r\n",
        "    tf.keras.layers.Embedding(vocab_size+1, embedding_dim, input_length = max_length, weights = [embeddings_matrix], trainable = False),\r\n",
        "    tf.keras.layers.Bidirectional(tf.keras.layers.LSTM(64)),\r\n",
        "    tf.keras.layers.Dense(6, activation = 'relu'),\r\n",
        "    tf.keras.layers.Dense(1, activation = 'sigmoid')\r\n",
        "])\r\n",
        "\r\n",
        "model.compile(optimizer = 'adam',\r\n",
        "              loss = 'binary_crossentropy',\r\n",
        "              metrics = ['acc'])\r\n",
        "\r\n",
        "model.summary()"
      ],
      "execution_count": 47,
      "outputs": [
        {
          "output_type": "stream",
          "text": [
            "Model: \"sequential\"\n",
            "_________________________________________________________________\n",
            "Layer (type)                 Output Shape              Param #   \n",
            "=================================================================\n",
            "embedding (Embedding)        (None, 16, 100)           13834300  \n",
            "_________________________________________________________________\n",
            "bidirectional (Bidirectional (None, 128)               84480     \n",
            "_________________________________________________________________\n",
            "dense (Dense)                (None, 6)                 774       \n",
            "_________________________________________________________________\n",
            "dense_1 (Dense)              (None, 1)                 7         \n",
            "=================================================================\n",
            "Total params: 13,919,561\n",
            "Trainable params: 85,261\n",
            "Non-trainable params: 13,834,300\n",
            "_________________________________________________________________\n"
          ],
          "name": "stdout"
        }
      ]
    },
    {
      "cell_type": "code",
      "metadata": {
        "colab": {
          "base_uri": "https://localhost:8080/"
        },
        "id": "OeFW4R2Sw20z",
        "outputId": "a86a8d99-d0b4-4dde-dbd5-a3559552220f"
      },
      "source": [
        "num_epochs = 50\r\n",
        "\r\n",
        "history = model.fit(\r\n",
        "    training_sequences,\r\n",
        "    np.array(training_labels),\r\n",
        "    epochs = num_epochs,\r\n",
        "    validation_data = (test_sequences, np.array(test_labels))\r\n",
        ")\r\n",
        "\r\n",
        "print('Training Complete')"
      ],
      "execution_count": 49,
      "outputs": [
        {
          "output_type": "stream",
          "text": [
            "Epoch 1/50\n",
            "4500/4500 [==============================] - 61s 13ms/step - loss: 0.5659 - acc: 0.6980 - val_loss: 0.5268 - val_acc: 0.7266\n",
            "Epoch 2/50\n",
            "4500/4500 [==============================] - 57s 13ms/step - loss: 0.4887 - acc: 0.7622 - val_loss: 0.4881 - val_acc: 0.7619\n",
            "Epoch 3/50\n",
            "4500/4500 [==============================] - 58s 13ms/step - loss: 0.4636 - acc: 0.7778 - val_loss: 0.4818 - val_acc: 0.7663\n",
            "Epoch 4/50\n",
            "4500/4500 [==============================] - 58s 13ms/step - loss: 0.4362 - acc: 0.7949 - val_loss: 0.4798 - val_acc: 0.7701\n",
            "Epoch 5/50\n",
            "4500/4500 [==============================] - 58s 13ms/step - loss: 0.4166 - acc: 0.8049 - val_loss: 0.4830 - val_acc: 0.7721\n",
            "Epoch 6/50\n",
            "4500/4500 [==============================] - 59s 13ms/step - loss: 0.3948 - acc: 0.8188 - val_loss: 0.4936 - val_acc: 0.7662\n",
            "Epoch 7/50\n",
            "4500/4500 [==============================] - 58s 13ms/step - loss: 0.3753 - acc: 0.8293 - val_loss: 0.4998 - val_acc: 0.7655\n",
            "Epoch 8/50\n",
            "4500/4500 [==============================] - 58s 13ms/step - loss: 0.3514 - acc: 0.8428 - val_loss: 0.5150 - val_acc: 0.7624\n",
            "Epoch 9/50\n",
            "4500/4500 [==============================] - 58s 13ms/step - loss: 0.3336 - acc: 0.8528 - val_loss: 0.5314 - val_acc: 0.7572\n",
            "Epoch 10/50\n",
            "4500/4500 [==============================] - 59s 13ms/step - loss: 0.3118 - acc: 0.8641 - val_loss: 0.5690 - val_acc: 0.7578\n",
            "Epoch 11/50\n",
            "4500/4500 [==============================] - 59s 13ms/step - loss: 0.2957 - acc: 0.8705 - val_loss: 0.5957 - val_acc: 0.7558\n",
            "Epoch 12/50\n",
            "4500/4500 [==============================] - 58s 13ms/step - loss: 0.2746 - acc: 0.8821 - val_loss: 0.6286 - val_acc: 0.7507\n",
            "Epoch 13/50\n",
            "4500/4500 [==============================] - 58s 13ms/step - loss: 0.2570 - acc: 0.8907 - val_loss: 0.6831 - val_acc: 0.7481\n",
            "Epoch 14/50\n",
            "4500/4500 [==============================] - 58s 13ms/step - loss: 0.2456 - acc: 0.8961 - val_loss: 0.7145 - val_acc: 0.7459\n",
            "Epoch 15/50\n",
            "4500/4500 [==============================] - 57s 13ms/step - loss: 0.2298 - acc: 0.9023 - val_loss: 0.7297 - val_acc: 0.7424\n",
            "Epoch 16/50\n",
            "4500/4500 [==============================] - 58s 13ms/step - loss: 0.2156 - acc: 0.9092 - val_loss: 0.7584 - val_acc: 0.7417\n",
            "Epoch 17/50\n",
            "4500/4500 [==============================] - 57s 13ms/step - loss: 0.2035 - acc: 0.9147 - val_loss: 0.8100 - val_acc: 0.7419\n",
            "Epoch 18/50\n",
            "4500/4500 [==============================] - 58s 13ms/step - loss: 0.1930 - acc: 0.9188 - val_loss: 0.8496 - val_acc: 0.7391\n",
            "Epoch 19/50\n",
            "4500/4500 [==============================] - 58s 13ms/step - loss: 0.1856 - acc: 0.9216 - val_loss: 0.9090 - val_acc: 0.7371\n",
            "Epoch 20/50\n",
            "4500/4500 [==============================] - 58s 13ms/step - loss: 0.1737 - acc: 0.9282 - val_loss: 0.9199 - val_acc: 0.7364\n",
            "Epoch 21/50\n",
            "4500/4500 [==============================] - 59s 13ms/step - loss: 0.1669 - acc: 0.9302 - val_loss: 1.0385 - val_acc: 0.7367\n",
            "Epoch 22/50\n",
            "4500/4500 [==============================] - 58s 13ms/step - loss: 0.1588 - acc: 0.9342 - val_loss: 1.0369 - val_acc: 0.7371\n",
            "Epoch 23/50\n",
            "4500/4500 [==============================] - 58s 13ms/step - loss: 0.1510 - acc: 0.9367 - val_loss: 1.1310 - val_acc: 0.7390\n",
            "Epoch 24/50\n",
            "4500/4500 [==============================] - 58s 13ms/step - loss: 0.1450 - acc: 0.9390 - val_loss: 1.0746 - val_acc: 0.7349\n",
            "Epoch 25/50\n",
            "4500/4500 [==============================] - 59s 13ms/step - loss: 0.1408 - acc: 0.9410 - val_loss: 1.0846 - val_acc: 0.7339\n",
            "Epoch 26/50\n",
            "4500/4500 [==============================] - 58s 13ms/step - loss: 0.1386 - acc: 0.9427 - val_loss: 1.2186 - val_acc: 0.7325\n",
            "Epoch 27/50\n",
            "4500/4500 [==============================] - 58s 13ms/step - loss: 0.1270 - acc: 0.9473 - val_loss: 1.1904 - val_acc: 0.7314\n",
            "Epoch 28/50\n",
            "4500/4500 [==============================] - 58s 13ms/step - loss: 0.1227 - acc: 0.9491 - val_loss: 1.2120 - val_acc: 0.7330\n",
            "Epoch 29/50\n",
            "4500/4500 [==============================] - 58s 13ms/step - loss: 0.1203 - acc: 0.9504 - val_loss: 1.2405 - val_acc: 0.7321\n",
            "Epoch 30/50\n",
            "4500/4500 [==============================] - 58s 13ms/step - loss: 0.1131 - acc: 0.9527 - val_loss: 1.3429 - val_acc: 0.7333\n",
            "Epoch 31/50\n",
            "4500/4500 [==============================] - 58s 13ms/step - loss: 0.1139 - acc: 0.9525 - val_loss: 1.3079 - val_acc: 0.7297\n",
            "Epoch 32/50\n",
            "4500/4500 [==============================] - 58s 13ms/step - loss: 0.1094 - acc: 0.9547 - val_loss: 1.3571 - val_acc: 0.7319\n",
            "Epoch 33/50\n",
            "4500/4500 [==============================] - 57s 13ms/step - loss: 0.1049 - acc: 0.9571 - val_loss: 1.4207 - val_acc: 0.7299\n",
            "Epoch 34/50\n",
            "4500/4500 [==============================] - 57s 13ms/step - loss: 0.1040 - acc: 0.9574 - val_loss: 1.3696 - val_acc: 0.7318\n",
            "Epoch 35/50\n",
            "4500/4500 [==============================] - 58s 13ms/step - loss: 0.1012 - acc: 0.9590 - val_loss: 1.3233 - val_acc: 0.7276\n",
            "Epoch 36/50\n",
            "4500/4500 [==============================] - 58s 13ms/step - loss: 0.0974 - acc: 0.9599 - val_loss: 1.4673 - val_acc: 0.7295\n",
            "Epoch 37/50\n",
            "4500/4500 [==============================] - 58s 13ms/step - loss: 0.0943 - acc: 0.9616 - val_loss: 1.4407 - val_acc: 0.7321\n",
            "Epoch 38/50\n",
            "4500/4500 [==============================] - 58s 13ms/step - loss: 0.0940 - acc: 0.9620 - val_loss: 1.4725 - val_acc: 0.7302\n",
            "Epoch 39/50\n",
            "4500/4500 [==============================] - 58s 13ms/step - loss: 0.0906 - acc: 0.9636 - val_loss: 1.4766 - val_acc: 0.7261\n",
            "Epoch 40/50\n",
            "4500/4500 [==============================] - 58s 13ms/step - loss: 0.0901 - acc: 0.9622 - val_loss: 1.5220 - val_acc: 0.7344\n",
            "Epoch 41/50\n",
            "4500/4500 [==============================] - 58s 13ms/step - loss: 0.0877 - acc: 0.9640 - val_loss: 1.5075 - val_acc: 0.7297\n",
            "Epoch 42/50\n",
            "4500/4500 [==============================] - 57s 13ms/step - loss: 0.0863 - acc: 0.9660 - val_loss: 1.5191 - val_acc: 0.7259\n",
            "Epoch 43/50\n",
            "4500/4500 [==============================] - 58s 13ms/step - loss: 0.0848 - acc: 0.9663 - val_loss: 1.5341 - val_acc: 0.7292\n",
            "Epoch 44/50\n",
            "4500/4500 [==============================] - 57s 13ms/step - loss: 0.0847 - acc: 0.9658 - val_loss: 1.5598 - val_acc: 0.7306\n",
            "Epoch 45/50\n",
            "4500/4500 [==============================] - 58s 13ms/step - loss: 0.0827 - acc: 0.9670 - val_loss: 1.5952 - val_acc: 0.7293\n",
            "Epoch 46/50\n",
            "4500/4500 [==============================] - 57s 13ms/step - loss: 0.0812 - acc: 0.9670 - val_loss: 1.6496 - val_acc: 0.7294\n",
            "Epoch 47/50\n",
            "4500/4500 [==============================] - 57s 13ms/step - loss: 0.0799 - acc: 0.9672 - val_loss: 1.6336 - val_acc: 0.7276\n",
            "Epoch 48/50\n",
            "4500/4500 [==============================] - 57s 13ms/step - loss: 0.0786 - acc: 0.9687 - val_loss: 1.6379 - val_acc: 0.7256\n",
            "Epoch 49/50\n",
            "4500/4500 [==============================] - 57s 13ms/step - loss: 0.0760 - acc: 0.9702 - val_loss: 1.6517 - val_acc: 0.7284\n",
            "Epoch 50/50\n",
            "4500/4500 [==============================] - 57s 13ms/step - loss: 0.0780 - acc: 0.9689 - val_loss: 1.6671 - val_acc: 0.7278\n",
            "Training Complete\n"
          ],
          "name": "stdout"
        }
      ]
    },
    {
      "cell_type": "code",
      "metadata": {
        "colab": {
          "base_uri": "https://localhost:8080/",
          "height": 609
        },
        "id": "U68Ggw9zxLy9",
        "outputId": "7488b1b8-88c9-4dd1-8cc4-5ac6201ddcaf"
      },
      "source": [
        "import matplotlib.image  as mpimg\r\n",
        "import matplotlib.pyplot as plt\r\n",
        "\r\n",
        "#-----------------------------------------------------------\r\n",
        "# Retrieve a list of list results on training and test data\r\n",
        "# sets for each training epoch\r\n",
        "#-----------------------------------------------------------\r\n",
        "acc=history.history['acc']\r\n",
        "val_acc=history.history['val_acc']\r\n",
        "loss=history.history['loss']\r\n",
        "val_loss=history.history['val_loss']\r\n",
        "\r\n",
        "epochs=range(len(acc)) # Get number of epochs\r\n",
        "\r\n",
        "#------------------------------------------------\r\n",
        "# Plot training and validation accuracy per epoch\r\n",
        "#------------------------------------------------\r\n",
        "plt.plot(epochs, acc, 'r')\r\n",
        "plt.plot(epochs, val_acc, 'b')\r\n",
        "plt.title('Training and validation accuracy')\r\n",
        "plt.xlabel(\"Epochs\")\r\n",
        "plt.ylabel(\"Accuracy\")\r\n",
        "plt.legend([\"Accuracy\", \"Validation Accuracy\"])\r\n",
        "\r\n",
        "plt.figure()\r\n",
        "\r\n",
        "#------------------------------------------------\r\n",
        "# Plot training and validation loss per epoch\r\n",
        "#------------------------------------------------\r\n",
        "plt.plot(epochs, loss, 'r')\r\n",
        "plt.plot(epochs, val_loss, 'b')\r\n",
        "plt.title('Training and validation loss')\r\n",
        "plt.xlabel(\"Epochs\")\r\n",
        "plt.ylabel(\"Loss\")\r\n",
        "plt.legend([\"Loss\", \"Validation Loss\"])\r\n",
        "\r\n",
        "plt.figure()\r\n",
        "\r\n",
        "\r\n",
        "# Expected Output\r\n",
        "# A chart where the validation loss does not increase sharply!"
      ],
      "execution_count": 51,
      "outputs": [
        {
          "output_type": "execute_result",
          "data": {
            "text/plain": [
              "<Figure size 432x288 with 0 Axes>"
            ]
          },
          "metadata": {
            "tags": []
          },
          "execution_count": 51
        },
        {
          "output_type": "display_data",
          "data": {
            "image/png": "[encoded data removed]",
            "text/plain": [
              "<Figure size 432x288 with 1 Axes>"
            ]
          },
          "metadata": {
            "tags": [],
            "needs_background": "light"
          }
        },
        {
          "output_type": "display_data",
          "data": {
            "image/png": "[encoded data removed]",
            "text/plain": [
              "<Figure size 432x288 with 1 Axes>"
            ]
          },
          "metadata": {
            "tags": [],
            "needs_background": "light"
          }
        },
        {
          "output_type": "display_data",
          "data": {
            "text/plain": [
              "<Figure size 432x288 with 0 Axes>"
            ]
          },
          "metadata": {
            "tags": []
          }
        }
      ]
    },
    {
      "cell_type": "code",
      "metadata": {
        "id": "Aho8Gjo09yt-"
      },
      "source": [
        ""
      ],
      "execution_count": null,
      "outputs": []
    }
  ]
}