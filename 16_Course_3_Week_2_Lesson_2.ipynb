{
  "nbformat": 4,
  "nbformat_minor": 0,
  "metadata": {
    "colab": {
      "name": "16. Course 3 - Week 2 - Lesson 2.ipynb",
      "provenance": [],
      "collapsed_sections": [],
      "authorship_tag": "ABX9TyO832H5FXx0Q86SJ10i3ao0",
      "include_colab_link": true
    },
    "kernelspec": {
      "name": "python3",
      "display_name": "Python 3"
    },
    "accelerator": "GPU"
  },
  "cells": [
    {
      "cell_type": "markdown",
      "metadata": {
        "id": "view-in-github",
        "colab_type": "text"
      },
      "source": [
        "<a href=\"https://colab.research.google.com/github/jjonhwa/DeepLearning.AI-TensorFlow/blob/main/16_Course_3_Week_2_Lesson_2.ipynb\" target=\"_parent\"><img src=\"https://colab.research.google.com/assets/colab-badge.svg\" alt=\"Open In Colab\"/></a>"
      ]
    },
    {
      "cell_type": "code",
      "metadata": {
        "id": "NKZLjiY907P0"
      },
      "source": [
        "import json\r\n",
        "import tensorflow as tf\r\n",
        "\r\n",
        "from tensorflow.keras.preprocessing.text import Tokenizer\r\n",
        "from tensorflow.keras.preprocessing.sequence import pad_sequences"
      ],
      "execution_count": 1,
      "outputs": []
    },
    {
      "cell_type": "code",
      "metadata": {
        "id": "YjuKHbWX1F9_"
      },
      "source": [
        "vocab_size = 10000      \r\n",
        "embedding_dim = 16\r\n",
        "max_length = 100\r\n",
        "trunc_type = 'post'\r\n",
        "padding_type = 'post'\r\n",
        "oov_tok = '<OOV>'\r\n",
        "training_size = 20000"
      ],
      "execution_count": 2,
      "outputs": []
    },
    {
      "cell_type": "code",
      "metadata": {
        "colab": {
          "base_uri": "https://localhost:8080/"
        },
        "id": "_kS-MYs011ed",
        "outputId": "7e803b72-273b-4ebc-d9a4-1da1cf29029d"
      },
      "source": [
        "!wget --no-check-certificate \\\r\n",
        "https://storage.googleapis.com/laurencemoroney-blog.appspot.com/sarcasm.json \\\r\n",
        "-O /tmp/sarcasm.json"
      ],
      "execution_count": 3,
      "outputs": [
        {
          "output_type": "stream",
          "text": [
            "--2021-01-07 07:14:28--  https://storage.googleapis.com/laurencemoroney-blog.appspot.com/sarcasm.json\n",
            "Resolving storage.googleapis.com (storage.googleapis.com)... 64.233.188.128, 64.233.189.128, 108.177.97.128, ...\n",
            "Connecting to storage.googleapis.com (storage.googleapis.com)|64.233.188.128|:443... connected.\n",
            "HTTP request sent, awaiting response... 200 OK\n",
            "Length: 5643545 (5.4M) [application/json]\n",
            "Saving to: ‘/tmp/sarcasm.json’\n",
            "\n",
            "/tmp/sarcasm.json   100%[===================>]   5.38M  --.-KB/s    in 0.05s   \n",
            "\n",
            "2021-01-07 07:14:29 (107 MB/s) - ‘/tmp/sarcasm.json’ saved [5643545/5643545]\n",
            "\n"
          ],
          "name": "stdout"
        }
      ]
    },
    {
      "cell_type": "code",
      "metadata": {
        "id": "0QXdZOlm2Cjy"
      },
      "source": [
        "with open('/tmp/sarcasm.json', 'r') as f :\r\n",
        "  datastore = json.load(f)\r\n",
        "\r\n",
        "sentences = []\r\n",
        "labels = []\r\n",
        "\r\n",
        "for item in datastore :\r\n",
        "  sentences.append(item['headline'])\r\n",
        "  labels.append(item['is_sarcastic'])"
      ],
      "execution_count": 4,
      "outputs": []
    },
    {
      "cell_type": "code",
      "metadata": {
        "id": "ia0YkgJB2b74",
        "colab": {
          "base_uri": "https://localhost:8080/"
        },
        "outputId": "a88afcd4-9322-41db-de0a-78c201fdf6bd"
      },
      "source": [
        "training_sentences = sentences[0:training_size]\r\n",
        "testing_sentences = sentences[training_size :]\r\n",
        "\r\n",
        "training_labels = labels[0:training_size]\r\n",
        "testing_labels = labels[training_size :]\r\n",
        "\r\n",
        "print(len(training_sentences))"
      ],
      "execution_count": 5,
      "outputs": [
        {
          "output_type": "stream",
          "text": [
            "20000\n"
          ],
          "name": "stdout"
        }
      ]
    },
    {
      "cell_type": "code",
      "metadata": {
        "id": "xm887NJB25Tl"
      },
      "source": [
        "tokenizer = Tokenizer(num_words = vocab_size, oov_token = oov_tok)\r\n",
        "tokenizer.fit_on_texts(training_sentences)\r\n",
        "\r\n",
        "word_index = tokenizer.word_index\r\n",
        "\r\n",
        "training_sequences = tokenizer.texts_to_sequences(training_sentences)\r\n",
        "training_padded = pad_sequences(training_sequences, maxlen = max_length, padding = padding_type, truncating = trunc_type)\r\n",
        "\r\n",
        "testing_sequences = tokenizer.texts_to_sequences(testing_sentences)\r\n",
        "testing_padded = pad_sequences(testing_sequences, maxlen = max_length, padding = padding_type, truncating = trunc_type)"
      ],
      "execution_count": 6,
      "outputs": []
    },
    {
      "cell_type": "code",
      "metadata": {
        "id": "g5c50wOA4P2d"
      },
      "source": [
        "import numpy as np\r\n",
        "training_padded = np.array(training_padded)\r\n",
        "training_labels = np.array(training_labels)\r\n",
        "testing_padded = np.array(testing_padded)\r\n",
        "testing_labels = np.array(testing_labels)"
      ],
      "execution_count": 7,
      "outputs": []
    },
    {
      "cell_type": "code",
      "metadata": {
        "colab": {
          "base_uri": "https://localhost:8080/"
        },
        "id": "vlPkWV82uInw",
        "outputId": "3dac0f29-45b6-4fc3-d744-0b7043847604"
      },
      "source": [
        "model = tf.keras.Sequential([\r\n",
        "    tf.keras.layers.Embedding(vocab_size, embedding_dim, input_length = max_length),\r\n",
        "    tf.keras.layers.GlobalAveragePooling1D(),\r\n",
        "    tf.keras.layers.Dense(24, activation = 'relu'),\r\n",
        "    tf.keras.layers.Dense(1, activation = 'sigmoid')\r\n",
        "])\r\n",
        "\r\n",
        "model.compile(loss = 'binary_crossentropy',\r\n",
        "              optimizer = 'adam',\r\n",
        "              metrics = ['acc'])\r\n",
        "\r\n",
        "model.summary()"
      ],
      "execution_count": 11,
      "outputs": [
        {
          "output_type": "stream",
          "text": [
            "Model: \"sequential\"\n",
            "_________________________________________________________________\n",
            "Layer (type)                 Output Shape              Param #   \n",
            "=================================================================\n",
            "embedding (Embedding)        (None, 100, 16)           160000    \n",
            "_________________________________________________________________\n",
            "global_average_pooling1d (Gl (None, 16)                0         \n",
            "_________________________________________________________________\n",
            "dense (Dense)                (None, 24)                408       \n",
            "_________________________________________________________________\n",
            "dense_1 (Dense)              (None, 1)                 25        \n",
            "=================================================================\n",
            "Total params: 160,433\n",
            "Trainable params: 160,433\n",
            "Non-trainable params: 0\n",
            "_________________________________________________________________\n"
          ],
          "name": "stdout"
        }
      ]
    },
    {
      "cell_type": "code",
      "metadata": {
        "colab": {
          "base_uri": "https://localhost:8080/"
        },
        "id": "MvqNpRokwsLM",
        "outputId": "0e092ebb-1b7e-441b-c998-39b227b30a12"
      },
      "source": [
        "num_epochs = 30\r\n",
        "history = model.fit(\r\n",
        "    training_padded,\r\n",
        "    training_labels,\r\n",
        "    epochs = num_epochs,\r\n",
        "    validation_data = (testing_padded, testing_labels),\r\n",
        "    verbose = 2\r\n",
        ")"
      ],
      "execution_count": 13,
      "outputs": [
        {
          "output_type": "stream",
          "text": [
            "Epoch 1/30\n",
            "625/625 - 4s - loss: 0.6700 - acc: 0.5746 - val_loss: 0.5957 - val_acc: 0.7000\n",
            "Epoch 2/30\n",
            "625/625 - 2s - loss: 0.4365 - acc: 0.8267 - val_loss: 0.3836 - val_acc: 0.8430\n",
            "Epoch 3/30\n",
            "625/625 - 2s - loss: 0.3113 - acc: 0.8769 - val_loss: 0.3530 - val_acc: 0.8527\n",
            "Epoch 4/30\n",
            "625/625 - 2s - loss: 0.2585 - acc: 0.8996 - val_loss: 0.3432 - val_acc: 0.8556\n",
            "Epoch 5/30\n",
            "625/625 - 2s - loss: 0.2229 - acc: 0.9131 - val_loss: 0.3458 - val_acc: 0.8568\n",
            "Epoch 6/30\n",
            "625/625 - 2s - loss: 0.1950 - acc: 0.9247 - val_loss: 0.3559 - val_acc: 0.8532\n",
            "Epoch 7/30\n",
            "625/625 - 2s - loss: 0.1744 - acc: 0.9337 - val_loss: 0.3732 - val_acc: 0.8492\n",
            "Epoch 8/30\n",
            "625/625 - 2s - loss: 0.1562 - acc: 0.9427 - val_loss: 0.3790 - val_acc: 0.8526\n",
            "Epoch 9/30\n",
            "625/625 - 2s - loss: 0.1388 - acc: 0.9496 - val_loss: 0.3978 - val_acc: 0.8493\n",
            "Epoch 10/30\n",
            "625/625 - 2s - loss: 0.1251 - acc: 0.9571 - val_loss: 0.4212 - val_acc: 0.8495\n",
            "Epoch 11/30\n",
            "625/625 - 2s - loss: 0.1165 - acc: 0.9587 - val_loss: 0.4800 - val_acc: 0.8344\n",
            "Epoch 12/30\n",
            "625/625 - 2s - loss: 0.1040 - acc: 0.9644 - val_loss: 0.4676 - val_acc: 0.8447\n",
            "Epoch 13/30\n",
            "625/625 - 2s - loss: 0.0956 - acc: 0.9673 - val_loss: 0.5022 - val_acc: 0.8417\n",
            "Epoch 14/30\n",
            "625/625 - 2s - loss: 0.0882 - acc: 0.9712 - val_loss: 0.5212 - val_acc: 0.8410\n",
            "Epoch 15/30\n",
            "625/625 - 2s - loss: 0.0791 - acc: 0.9746 - val_loss: 0.5659 - val_acc: 0.8357\n",
            "Epoch 16/30\n",
            "625/625 - 2s - loss: 0.0733 - acc: 0.9765 - val_loss: 0.5868 - val_acc: 0.8348\n",
            "Epoch 17/30\n",
            "625/625 - 2s - loss: 0.0663 - acc: 0.9787 - val_loss: 0.6161 - val_acc: 0.8335\n",
            "Epoch 18/30\n",
            "625/625 - 2s - loss: 0.0607 - acc: 0.9811 - val_loss: 0.6828 - val_acc: 0.8281\n",
            "Epoch 19/30\n",
            "625/625 - 2s - loss: 0.0560 - acc: 0.9828 - val_loss: 0.7058 - val_acc: 0.8267\n",
            "Epoch 20/30\n",
            "625/625 - 2s - loss: 0.0520 - acc: 0.9843 - val_loss: 0.7271 - val_acc: 0.8256\n",
            "Epoch 21/30\n",
            "625/625 - 2s - loss: 0.0474 - acc: 0.9854 - val_loss: 0.7678 - val_acc: 0.8267\n",
            "Epoch 22/30\n",
            "625/625 - 2s - loss: 0.0435 - acc: 0.9868 - val_loss: 0.8016 - val_acc: 0.8241\n",
            "Epoch 23/30\n",
            "625/625 - 2s - loss: 0.0410 - acc: 0.9888 - val_loss: 0.8980 - val_acc: 0.8199\n",
            "Epoch 24/30\n",
            "625/625 - 2s - loss: 0.0364 - acc: 0.9890 - val_loss: 0.8784 - val_acc: 0.8214\n",
            "Epoch 25/30\n",
            "625/625 - 2s - loss: 0.0343 - acc: 0.9891 - val_loss: 0.9129 - val_acc: 0.8204\n",
            "Epoch 26/30\n",
            "625/625 - 2s - loss: 0.0318 - acc: 0.9901 - val_loss: 0.9654 - val_acc: 0.8168\n",
            "Epoch 27/30\n",
            "625/625 - 2s - loss: 0.0284 - acc: 0.9923 - val_loss: 1.0024 - val_acc: 0.8173\n",
            "Epoch 28/30\n",
            "625/625 - 2s - loss: 0.0277 - acc: 0.9926 - val_loss: 1.1221 - val_acc: 0.8125\n",
            "Epoch 29/30\n",
            "625/625 - 2s - loss: 0.0257 - acc: 0.9921 - val_loss: 1.1026 - val_acc: 0.8137\n",
            "Epoch 30/30\n",
            "625/625 - 2s - loss: 0.0238 - acc: 0.9930 - val_loss: 1.1030 - val_acc: 0.8134\n"
          ],
          "name": "stdout"
        }
      ]
    },
    {
      "cell_type": "code",
      "metadata": {
        "colab": {
          "base_uri": "https://localhost:8080/",
          "height": 541
        },
        "id": "pPJAdTX2w9qO",
        "outputId": "c9294085-4b51-4102-cace-e809ebbafdf9"
      },
      "source": [
        "import matplotlib.pyplot as plt\r\n",
        "%matplotlib inline\r\n",
        "\r\n",
        "def plot_graphs(history, string) :\r\n",
        "  plt.plot(history.history[string])\r\n",
        "  plt.plot(history.history['val_' + string])\r\n",
        "  plt.xlabel('Epochs')\r\n",
        "  plt.ylabel(string)\r\n",
        "  plt.legend([string, 'val_'+string])\r\n",
        "  plt.show()\r\n",
        "\r\n",
        "plot_graphs(history, 'acc')\r\n",
        "plot_graphs(history, 'loss')"
      ],
      "execution_count": 14,
      "outputs": [
        {
          "output_type": "display_data",
          "data": {
            "image/png": "[encoded data removed]",
            "text/plain": [
              "<Figure size 432x288 with 1 Axes>"
            ]
          },
          "metadata": {
            "tags": [],
            "needs_background": "light"
          }
        },
        {
          "output_type": "display_data",
          "data": {
            "image/png": "[encoded data removed]",
            "text/plain": [
              "<Figure size 432x288 with 1 Axes>"
            ]
          },
          "metadata": {
            "tags": [],
            "needs_background": "light"
          }
        }
      ]
    },
    {
      "cell_type": "code",
      "metadata": {
        "colab": {
          "base_uri": "https://localhost:8080/"
        },
        "id": "97NiXU5zxi5Y",
        "outputId": "9c633415-1fce-48e6-a197-21443dbc877d"
      },
      "source": [
        "reverse_word_index = dict([(value, key) for (key, value) in word_index.items()])\r\n",
        "\r\n",
        "def decode_sentences(text) :\r\n",
        "  return ' '.join([reverse_word_index.get(i, '?') for i in text])\r\n",
        "\r\n",
        "print(decode_sentences(training_padded[0]))\r\n",
        "print(training_sentences[0])\r\n",
        "print(labels[0])"
      ],
      "execution_count": 21,
      "outputs": [
        {
          "output_type": "stream",
          "text": [
            "former <OOV> store clerk sues over secret 'black <OOV> for minority shoppers ? ? ? ? ? ? ? ? ? ? ? ? ? ? ? ? ? ? ? ? ? ? ? ? ? ? ? ? ? ? ? ? ? ? ? ? ? ? ? ? ? ? ? ? ? ? ? ? ? ? ? ? ? ? ? ? ? ? ? ? ? ? ? ? ? ? ? ? ? ? ? ? ? ? ? ? ? ? ? ? ? ? ? ? ? ? ? ?\n",
            "former versace store clerk sues over secret 'black code' for minority shoppers\n",
            "0\n"
          ],
          "name": "stdout"
        }
      ]
    },
    {
      "cell_type": "code",
      "metadata": {
        "colab": {
          "base_uri": "https://localhost:8080/"
        },
        "id": "q3lKzB2Wy5dc",
        "outputId": "ef17c4bf-2388-4d83-f47f-bf62547f20db"
      },
      "source": [
        "e = model.layers[0]\r\n",
        "weights = e.get_weights()[0]\r\n",
        "print(weights.shape)"
      ],
      "execution_count": 23,
      "outputs": [
        {
          "output_type": "stream",
          "text": [
            "(10000, 16)\n"
          ],
          "name": "stdout"
        }
      ]
    },
    {
      "cell_type": "code",
      "metadata": {
        "id": "-Cfz3Dc00iO9"
      },
      "source": [
        "import io\r\n",
        "\r\n",
        "out_v = io.open('vecs.tsv', 'w', encoding = 'utf-8')\r\n",
        "out_m = io.open('meta.tsv', 'w', encoding = 'utf-8')\r\n",
        "\r\n",
        "for word_num in range(1, vocab_size) :\r\n",
        "  word = reverse_word_index[word_num]\r\n",
        "  embeddings = weights[word_num]\r\n",
        "  out_m.write(word + '\\n')\r\n",
        "  out_v.write('\\t'.join([str(x) for x in embeddings]) + '\\n')\r\n",
        "\r\n",
        "out_v.close()\r\n",
        "out_m.close()"
      ],
      "execution_count": 25,
      "outputs": []
    },
    {
      "cell_type": "code",
      "metadata": {
        "colab": {
          "base_uri": "https://localhost:8080/",
          "height": 17
        },
        "id": "x7Akckw210Wi",
        "outputId": "ba2fbb69-855e-48df-8995-bdcf795a4956"
      },
      "source": [
        "try :\r\n",
        "  from google.colab import files\r\n",
        "except  ImportError :\r\n",
        "  pass\r\n",
        "else :\r\n",
        "  files.download('vecs.tsv')\r\n",
        "  files.download('meta.tsv')"
      ],
      "execution_count": 26,
      "outputs": [
        {
          "output_type": "display_data",
          "data": {
            "application/javascript": [
              "\n",
              "    async function download(id, filename, size) {\n",
              "      if (!google.colab.kernel.accessAllowed) {\n",
              "        return;\n",
              "      }\n",
              "      const div = document.createElement('div');\n",
              "      const label = document.createElement('label');\n",
              "      label.textContent = `Downloading \"${filename}\": `;\n",
              "      div.appendChild(label);\n",
              "      const progress = document.createElement('progress');\n",
              "      progress.max = size;\n",
              "      div.appendChild(progress);\n",
              "      document.body.appendChild(div);\n",
              "\n",
              "      const buffers = [];\n",
              "      let downloaded = 0;\n",
              "\n",
              "      const channel = await google.colab.kernel.comms.open(id);\n",
              "      // Send a message to notify the kernel that we're ready.\n",
              "      channel.send({})\n",
              "\n",
              "      for await (const message of channel.messages) {\n",
              "        // Send a message to notify the kernel that we're ready.\n",
              "        channel.send({})\n",
              "        if (message.buffers) {\n",
              "          for (const buffer of message.buffers) {\n",
              "            buffers.push(buffer);\n",
              "            downloaded += buffer.byteLength;\n",
              "            progress.value = downloaded;\n",
              "          }\n",
              "        }\n",
              "      }\n",
              "      const blob = new Blob(buffers, {type: 'application/binary'});\n",
              "      const a = document.createElement('a');\n",
              "      a.href = window.URL.createObjectURL(blob);\n",
              "      a.download = filename;\n",
              "      div.appendChild(a);\n",
              "      a.click();\n",
              "      div.remove();\n",
              "    }\n",
              "  "
            ],
            "text/plain": [
              "<IPython.core.display.Javascript object>"
            ]
          },
          "metadata": {
            "tags": []
          }
        },
        {
          "output_type": "display_data",
          "data": {
            "application/javascript": [
              "download(\"download_1c4932f3-8fee-4fa4-8526-025b690bfe9e\", \"vecs.tsv\", 1815456)"
            ],
            "text/plain": [
              "<IPython.core.display.Javascript object>"
            ]
          },
          "metadata": {
            "tags": []
          }
        },
        {
          "output_type": "display_data",
          "data": {
            "application/javascript": [
              "\n",
              "    async function download(id, filename, size) {\n",
              "      if (!google.colab.kernel.accessAllowed) {\n",
              "        return;\n",
              "      }\n",
              "      const div = document.createElement('div');\n",
              "      const label = document.createElement('label');\n",
              "      label.textContent = `Downloading \"${filename}\": `;\n",
              "      div.appendChild(label);\n",
              "      const progress = document.createElement('progress');\n",
              "      progress.max = size;\n",
              "      div.appendChild(progress);\n",
              "      document.body.appendChild(div);\n",
              "\n",
              "      const buffers = [];\n",
              "      let downloaded = 0;\n",
              "\n",
              "      const channel = await google.colab.kernel.comms.open(id);\n",
              "      // Send a message to notify the kernel that we're ready.\n",
              "      channel.send({})\n",
              "\n",
              "      for await (const message of channel.messages) {\n",
              "        // Send a message to notify the kernel that we're ready.\n",
              "        channel.send({})\n",
              "        if (message.buffers) {\n",
              "          for (const buffer of message.buffers) {\n",
              "            buffers.push(buffer);\n",
              "            downloaded += buffer.byteLength;\n",
              "            progress.value = downloaded;\n",
              "          }\n",
              "        }\n",
              "      }\n",
              "      const blob = new Blob(buffers, {type: 'application/binary'});\n",
              "      const a = document.createElement('a');\n",
              "      a.href = window.URL.createObjectURL(blob);\n",
              "      a.download = filename;\n",
              "      div.appendChild(a);\n",
              "      a.click();\n",
              "      div.remove();\n",
              "    }\n",
              "  "
            ],
            "text/plain": [
              "<IPython.core.display.Javascript object>"
            ]
          },
          "metadata": {
            "tags": []
          }
        },
        {
          "output_type": "display_data",
          "data": {
            "application/javascript": [
              "download(\"download_e8715732-8f5c-40f9-8cb1-ed0728eeb0a9\", \"meta.tsv\", 75974)"
            ],
            "text/plain": [
              "<IPython.core.display.Javascript object>"
            ]
          },
          "metadata": {
            "tags": []
          }
        }
      ]
    },
    {
      "cell_type": "code",
      "metadata": {
        "colab": {
          "base_uri": "https://localhost:8080/"
        },
        "id": "3BzzuhoJ2Bfa",
        "outputId": "c4e30c0a-efc6-408b-d83f-32be32e81551"
      },
      "source": [
        "sentence = ['granny starting to fear spiders in the garden might be real',\r\n",
        "            'game of thrones season finale showing this sunday night']\r\n",
        "sequences = tokenizer.texts_to_sequences(sentence)\r\n",
        "padded = pad_sequences(sequences, maxlen = max_length, padding = padding_type, truncating = trunc_type)\r\n",
        "padded = np.array(padded)\r\n",
        "\r\n",
        "print(model.predict(padded))"
      ],
      "execution_count": 29,
      "outputs": [
        {
          "output_type": "stream",
          "text": [
            "[[9.6751124e-01]\n",
            " [2.1727360e-06]]\n"
          ],
          "name": "stdout"
        }
      ]
    },
    {
      "cell_type": "code",
      "metadata": {
        "id": "J_a03Yrz2atk"
      },
      "source": [
        ""
      ],
      "execution_count": null,
      "outputs": []
    }
  ]
}