{
  "nbformat": 4,
  "nbformat_minor": 0,
  "metadata": {
    "colab": {
      "name": "18. Course 3 - Week 2 - Exercise - Question.ipynb",
      "provenance": [],
      "collapsed_sections": [],
      "authorship_tag": "ABX9TyMfBbNS6kRn5VXxP/EFl5NZ",
      "include_colab_link": true
    },
    "kernelspec": {
      "name": "python3",
      "display_name": "Python 3"
    }
  },
  "cells": [
    {
      "cell_type": "markdown",
      "metadata": {
        "id": "view-in-github",
        "colab_type": "text"
      },
      "source": [
        "<a href=\"https://colab.research.google.com/github/jjonhwa/DeepLearning.AI-TensorFlow/blob/main/18_Course_3_Week_2_Exercise_Question.ipynb\" target=\"_parent\"><img src=\"https://colab.research.google.com/assets/colab-badge.svg\" alt=\"Open In Colab\"/></a>"
      ]
    },
    {
      "cell_type": "code",
      "metadata": {
        "colab": {
          "base_uri": "https://localhost:8080/"
        },
        "id": "PezIhyViQ4oU",
        "outputId": "bcef1bc1-0424-42f5-c586-78acbdd033b1"
      },
      "source": [
        "import pandas as pd\r\n",
        "import tensorflow as tf\r\n",
        "import numpy as np\r\n",
        "from tensorflow.keras.preprocessing.text import Tokenizer\r\n",
        "from tensorflow.keras.preprocessing.sequence import pad_sequences\r\n",
        "\r\n",
        "!wget --no-check-certificate \\\r\n",
        "https://storage.googleapis.com/laurencemoroney-blog.appspot.com/bbc-text.csv \\\r\n",
        "-O /tmp/bbc-text.csv"
      ],
      "execution_count": 146,
      "outputs": [
        {
          "output_type": "stream",
          "text": [
            "--2021-01-07 13:20:55--  https://storage.googleapis.com/laurencemoroney-blog.appspot.com/bbc-text.csv\n",
            "Resolving storage.googleapis.com (storage.googleapis.com)... 74.125.129.128, 108.177.112.128, 172.217.212.128, ...\n",
            "Connecting to storage.googleapis.com (storage.googleapis.com)|74.125.129.128|:443... connected.\n",
            "HTTP request sent, awaiting response... 200 OK\n",
            "Length: 5057493 (4.8M) [application/octet-stream]\n",
            "Saving to: ‘/tmp/bbc-text.csv’\n",
            "\n",
            "\r/tmp/bbc-text.csv     0%[                    ]       0  --.-KB/s               \r/tmp/bbc-text.csv   100%[===================>]   4.82M  --.-KB/s    in 0.03s   \n",
            "\n",
            "2021-01-07 13:20:55 (150 MB/s) - ‘/tmp/bbc-text.csv’ saved [5057493/5057493]\n",
            "\n"
          ],
          "name": "stdout"
        }
      ]
    },
    {
      "cell_type": "code",
      "metadata": {
        "id": "xodPci3XRk6w"
      },
      "source": [
        "vocab_size = 1000\r\n",
        "embedding_dim = 16\r\n",
        "max_length = 120\r\n",
        "trunc_type = 'post'\r\n",
        "padding_type = 'post'\r\n",
        "oov_tok = \"<OOV>\"\r\n",
        "training_portion = .8"
      ],
      "execution_count": 147,
      "outputs": []
    },
    {
      "cell_type": "code",
      "metadata": {
        "colab": {
          "base_uri": "https://localhost:8080/"
        },
        "id": "iRejwj6FSQiX",
        "outputId": "b2e1bd3a-cbbc-4392-bb2d-30d34f59a23e"
      },
      "source": [
        "sentences = []\r\n",
        "labels = []\r\n",
        "stopwords = [ \"a\", \"about\", \"above\", \"after\", \"again\", \"against\", \"all\", \"am\", \"an\", \"and\", \"any\", \"are\", \"as\", \"at\", \"be\", \"because\", \"been\", \"before\", \"being\", \"below\", \"between\", \"both\", \"but\", \"by\", \"could\", \"did\", \"do\", \"does\", \"doing\", \"down\", \"during\", \"each\", \"few\", \"for\", \"from\", \"further\", \"had\", \"has\", \"have\", \"having\", \"he\", \"he'd\", \"he'll\", \"he's\", \"her\", \"here\", \"here's\", \"hers\", \"herself\", \"him\", \"himself\", \"his\", \"how\", \"how's\", \"i\", \"i'd\", \"i'll\", \"i'm\", \"i've\", \"if\", \"in\", \"into\", \"is\", \"it\", \"it's\", \"its\", \"itself\", \"let's\", \"me\", \"more\", \"most\", \"my\", \"myself\", \"nor\", \"of\", \"on\", \"once\", \"only\", \"or\", \"other\", \"ought\", \"our\", \"ours\", \"ourselves\", \"out\", \"over\", \"own\", \"same\", \"she\", \"she'd\", \"she'll\", \"she's\", \"should\", \"so\", \"some\", \"such\", \"than\", \"that\", \"that's\", \"the\", \"their\", \"theirs\", \"them\", \"themselves\", \"then\", \"there\", \"there's\", \"these\", \"they\", \"they'd\", \"they'll\", \"they're\", \"they've\", \"this\", \"those\", \"through\", \"to\", \"too\", \"under\", \"until\", \"up\", \"very\", \"was\", \"we\", \"we'd\", \"we'll\", \"we're\", \"we've\", \"were\", \"what\", \"what's\", \"when\", \"when's\", \"where\", \"where's\", \"which\", \"while\", \"who\", \"who's\", \"whom\", \"why\", \"why's\", \"with\", \"would\", \"you\", \"you'd\", \"you'll\", \"you're\", \"you've\", \"your\", \"yours\", \"yourself\", \"yourselves\" ]\r\n",
        "print(len(stopwords))"
      ],
      "execution_count": 148,
      "outputs": [
        {
          "output_type": "stream",
          "text": [
            "153\n"
          ],
          "name": "stdout"
        }
      ]
    },
    {
      "cell_type": "code",
      "metadata": {
        "id": "M2vEWfd7SYZ1"
      },
      "source": [
        "data = pd.read_csv('/tmp/bbc-text.csv')\r\n",
        "\r\n",
        "for i in range(len(data['category'])) :\r\n",
        "  labels.append(data['category'][i])\r\n",
        "  sentence = data['text'][i]\r\n",
        "\r\n",
        "  for word in stopwords :\r\n",
        "    token = ' ' + word + ' '\r\n",
        "    sentence = sentence.replace(token, ' ')\r\n",
        "\r\n",
        "  sentences.append(sentence)  "
      ],
      "execution_count": 149,
      "outputs": []
    },
    {
      "cell_type": "code",
      "metadata": {
        "colab": {
          "base_uri": "https://localhost:8080/"
        },
        "id": "OcTk8LSTSmJK",
        "outputId": "d46361a6-8759-47f9-b4ea-428a7cb3c0c5"
      },
      "source": [
        "print(len(data['category'].unique()))\r\n",
        "\r\n",
        "print(len(sentences))\r\n",
        "print(len(labels))\r\n",
        "print(sentences[0])"
      ],
      "execution_count": 150,
      "outputs": [
        {
          "output_type": "stream",
          "text": [
            "5\n",
            "2225\n",
            "2225\n",
            "tv future hands viewers home theatre systems  plasma high-definition tvs  digital video recorders moving living room  way people watch tv will radically different five years  time.  according expert panel gathered annual consumer electronics show las vegas discuss new technologies will impact one favourite pastimes. us leading trend  programmes content will delivered viewers via home networks  cable  satellite  telecoms companies  broadband service providers front rooms portable devices.  one talked-about technologies ces digital personal video recorders (dvr pvr). set-top boxes  like us s tivo uk s sky+ system  allow people record  store  play  pause forward wind tv programmes want.  essentially  technology allows much personalised tv. also built-in high-definition tv sets  big business japan us  slower take off europe lack high-definition programming. not can people forward wind adverts  can also forget abiding network channel schedules  putting together a-la-carte entertainment. us networks cable satellite companies worried means terms advertising revenues well  brand identity  viewer loyalty channels. although us leads technology moment  also concern raised europe  particularly growing uptake services like sky+.  happens today  will see nine months years  time uk   adam hume  bbc broadcast s futurologist told bbc news website. likes bbc  no issues lost advertising revenue yet. pressing issue moment commercial uk broadcasters  brand loyalty important everyone.  will talking content brands rather network brands   said tim hanlon  brand communications firm starcom mediavest.  reality broadband connections  anybody can producer content.  added:  challenge now hard promote programme much choice.   means  said stacey jolna  senior vice president tv guide tv group  way people find content want watch simplified tv viewers. means networks  us terms  channels take leaf google s book search engine future  instead scheduler help people find want watch. kind channel model might work younger ipod generation used taking control gadgets play them. might not suit everyone  panel recognised. older generations comfortable familiar schedules channel brands know getting. perhaps not want much choice put hands  mr hanlon suggested.  end  kids just diapers pushing buttons already - everything possible available   said mr hanlon.  ultimately  consumer will tell market want.   50 000 new gadgets technologies showcased ces  many enhancing tv-watching experience. high-definition tv sets everywhere many new models lcd (liquid crystal display) tvs launched dvr capability built  instead external boxes. one example launched show humax s 26-inch lcd tv 80-hour tivo dvr dvd recorder. one us s biggest satellite tv companies  directtv  even launched branded dvr show 100-hours recording capability  instant replay  search function. set can pause rewind tv 90 hours. microsoft chief bill gates announced pre-show keynote speech partnership tivo  called tivotogo  means people can play recorded programmes windows pcs mobile devices. reflect increasing trend freeing multimedia people can watch want  want.\n"
          ],
          "name": "stdout"
        }
      ]
    },
    {
      "cell_type": "code",
      "metadata": {
        "colab": {
          "base_uri": "https://localhost:8080/"
        },
        "id": "_jK7ADW6SuPM",
        "outputId": "77abee38-09e3-437a-a569-8e442811be5a"
      },
      "source": [
        "train_size = int(len(sentences) * 0.8)\r\n",
        "\r\n",
        "train_sentences = sentences[0:train_size]\r\n",
        "train_labels = labels[:train_size]\r\n",
        "\r\n",
        "validation_sentences = sentences[train_size :]\r\n",
        "validation_labels = labels[train_size :]\r\n",
        "\r\n",
        "print(train_size)\r\n",
        "print(len(train_sentences))\r\n",
        "print(len(train_labels))\r\n",
        "print(len(validation_sentences))\r\n",
        "print(len(validation_labels))"
      ],
      "execution_count": 151,
      "outputs": [
        {
          "output_type": "stream",
          "text": [
            "1780\n",
            "1780\n",
            "1780\n",
            "445\n",
            "445\n"
          ],
          "name": "stdout"
        }
      ]
    },
    {
      "cell_type": "code",
      "metadata": {
        "colab": {
          "base_uri": "https://localhost:8080/"
        },
        "id": "aZagZqabUfTT",
        "outputId": "a9eeb13a-8edd-451a-9a57-b9ac48b7121d"
      },
      "source": [
        "tokenizer = Tokenizer(num_words = vocab_size, oov_token = oov_tok)\r\n",
        "tokenizer.fit_on_texts(train_sentences)\r\n",
        "word_index = tokenizer.word_index\r\n",
        "\r\n",
        "train_sequences = tokenizer.texts_to_sequences(train_sentences)\r\n",
        "train_padded = pad_sequences(train_sequences, maxlen = max_length, padding = padding_type, truncating = trunc_type)\r\n",
        "\r\n",
        "print(len(train_sequences[0]))\r\n",
        "print(len(train_padded[0]))"
      ],
      "execution_count": 155,
      "outputs": [
        {
          "output_type": "stream",
          "text": [
            "449\n",
            "120\n"
          ],
          "name": "stdout"
        }
      ]
    },
    {
      "cell_type": "code",
      "metadata": {
        "colab": {
          "base_uri": "https://localhost:8080/"
        },
        "id": "toRIhGKmVkok",
        "outputId": "355a8421-ef1d-464c-8eea-fdaf0fd3645b"
      },
      "source": [
        "validation_sequences = tokenizer.texts_to_sequences(validation_sentences)\r\n",
        "validation_padded = pad_sequences(validation_sequences, maxlen = max_length, padding = padding_type, truncating = trunc_type)\r\n",
        "\r\n",
        "print(len(validation_sequences))\r\n",
        "print(validation_padded.shape)"
      ],
      "execution_count": 156,
      "outputs": [
        {
          "output_type": "stream",
          "text": [
            "445\n",
            "(445, 120)\n"
          ],
          "name": "stdout"
        }
      ]
    },
    {
      "cell_type": "code",
      "metadata": {
        "colab": {
          "base_uri": "https://localhost:8080/"
        },
        "id": "ehLClxPWWXpE",
        "outputId": "da5e326c-9a71-450b-d15f-54f587023646"
      },
      "source": [
        "label_tokenizer = Tokenizer()\r\n",
        "label_tokenizer.fit_on_texts(labels)\r\n",
        "\r\n",
        "training_label_seq = label_tokenizer.texts_to_sequences(train_labels)\r\n",
        "validation_label_seq = label_tokenizer.texts_to_sequences(validation_labels)\r\n",
        "\r\n",
        "train_padded = np.array(train_padded)\r\n",
        "training_label_seq = np.array(training_label_seq)\r\n",
        "validation_padded = np.array(validation_padded)\r\n",
        "validation_label_seq = np.array(validation_label_seq)\r\n",
        "\r\n",
        "print(training_label_seq[0])\r\n",
        "print(training_label_seq[1])\r\n",
        "print(training_label_seq[2])\r\n",
        "print(training_label_seq.shape)\r\n",
        "\r\n",
        "print(validation_label_seq[0])\r\n",
        "print(validation_label_seq[1])\r\n",
        "print(validation_label_seq[2])\r\n",
        "print(validaiton_label_seq.shape)"
      ],
      "execution_count": 157,
      "outputs": [
        {
          "output_type": "stream",
          "text": [
            "[4]\n",
            "[2]\n",
            "[1]\n",
            "(1780, 1)\n",
            "[5]\n",
            "[4]\n",
            "[3]\n",
            "(445, 1)\n"
          ],
          "name": "stdout"
        }
      ]
    },
    {
      "cell_type": "code",
      "metadata": {
        "colab": {
          "base_uri": "https://localhost:8080/"
        },
        "id": "6qH5d2jRY46-",
        "outputId": "20a323c5-3924-46f0-fcf3-a86224b14004"
      },
      "source": [
        "model = tf.keras.Sequential([\r\n",
        "    tf.keras.layers.Embedding(vocab_size, embedding_dim, input_length = max_length),\r\n",
        "    tf.keras.layers.GlobalAveragePooling1D(),\r\n",
        "    tf.keras.layers.Dense(24, activation = 'relu'),\r\n",
        "    tf.keras.layers.Dense(6, activation = 'softmax')\r\n",
        "])\r\n",
        "\r\n",
        "model.compile(loss = 'sparse_categorical_crossentropy',\r\n",
        "              optimizer = 'adam',\r\n",
        "              metrics = ['acc'])\r\n",
        "\r\n",
        "model.summary()"
      ],
      "execution_count": 158,
      "outputs": [
        {
          "output_type": "stream",
          "text": [
            "Model: \"sequential_9\"\n",
            "_________________________________________________________________\n",
            "Layer (type)                 Output Shape              Param #   \n",
            "=================================================================\n",
            "embedding_9 (Embedding)      (None, 120, 16)           16000     \n",
            "_________________________________________________________________\n",
            "global_average_pooling1d_9 ( (None, 16)                0         \n",
            "_________________________________________________________________\n",
            "dense_18 (Dense)             (None, 24)                408       \n",
            "_________________________________________________________________\n",
            "dense_19 (Dense)             (None, 6)                 150       \n",
            "=================================================================\n",
            "Total params: 16,558\n",
            "Trainable params: 16,558\n",
            "Non-trainable params: 0\n",
            "_________________________________________________________________\n"
          ],
          "name": "stdout"
        }
      ]
    },
    {
      "cell_type": "code",
      "metadata": {
        "colab": {
          "base_uri": "https://localhost:8080/"
        },
        "id": "CuUFLFQm38et",
        "outputId": "8ade207f-dad6-4d1a-e0fe-9de45fb7edff"
      },
      "source": [
        "num_epochs = 30\r\n",
        "\r\n",
        "history = model.fit(\r\n",
        "    train_padded,\r\n",
        "    training_label_seq,\r\n",
        "    epochs = num_epochs,\r\n",
        "    validation_data = (validation_padded, validation_label_seq),\r\n",
        "    verbose = 2\r\n",
        ")"
      ],
      "execution_count": 159,
      "outputs": [
        {
          "output_type": "stream",
          "text": [
            "Epoch 1/30\n",
            "56/56 - 1s - loss: 1.7690 - acc: 0.2213 - val_loss: 1.7410 - val_acc: 0.2270\n",
            "Epoch 2/30\n",
            "56/56 - 0s - loss: 1.6949 - acc: 0.2303 - val_loss: 1.6537 - val_acc: 0.2270\n",
            "Epoch 3/30\n",
            "56/56 - 0s - loss: 1.5811 - acc: 0.2438 - val_loss: 1.5234 - val_acc: 0.3371\n",
            "Epoch 4/30\n",
            "56/56 - 0s - loss: 1.4199 - acc: 0.4820 - val_loss: 1.3455 - val_acc: 0.5483\n",
            "Epoch 5/30\n",
            "56/56 - 0s - loss: 1.2198 - acc: 0.6449 - val_loss: 1.1551 - val_acc: 0.7146\n",
            "Epoch 6/30\n",
            "56/56 - 0s - loss: 1.0322 - acc: 0.7702 - val_loss: 0.9982 - val_acc: 0.7416\n",
            "Epoch 7/30\n",
            "56/56 - 0s - loss: 0.8811 - acc: 0.8281 - val_loss: 0.8743 - val_acc: 0.8090\n",
            "Epoch 8/30\n",
            "56/56 - 0s - loss: 0.7545 - acc: 0.8775 - val_loss: 0.7654 - val_acc: 0.8292\n",
            "Epoch 9/30\n",
            "56/56 - 0s - loss: 0.6432 - acc: 0.8972 - val_loss: 0.6622 - val_acc: 0.8742\n",
            "Epoch 10/30\n",
            "56/56 - 0s - loss: 0.5430 - acc: 0.9185 - val_loss: 0.5699 - val_acc: 0.8854\n",
            "Epoch 11/30\n",
            "56/56 - 0s - loss: 0.4556 - acc: 0.9298 - val_loss: 0.4910 - val_acc: 0.8876\n",
            "Epoch 12/30\n",
            "56/56 - 0s - loss: 0.3791 - acc: 0.9444 - val_loss: 0.4269 - val_acc: 0.9011\n",
            "Epoch 13/30\n",
            "56/56 - 0s - loss: 0.3183 - acc: 0.9489 - val_loss: 0.3750 - val_acc: 0.9101\n",
            "Epoch 14/30\n",
            "56/56 - 0s - loss: 0.2680 - acc: 0.9635 - val_loss: 0.3347 - val_acc: 0.9213\n",
            "Epoch 15/30\n",
            "56/56 - 0s - loss: 0.2283 - acc: 0.9646 - val_loss: 0.3078 - val_acc: 0.9191\n",
            "Epoch 16/30\n",
            "56/56 - 0s - loss: 0.1969 - acc: 0.9680 - val_loss: 0.2809 - val_acc: 0.9303\n",
            "Epoch 17/30\n",
            "56/56 - 0s - loss: 0.1718 - acc: 0.9713 - val_loss: 0.2590 - val_acc: 0.9326\n",
            "Epoch 18/30\n",
            "56/56 - 0s - loss: 0.1471 - acc: 0.9770 - val_loss: 0.2422 - val_acc: 0.9281\n",
            "Epoch 19/30\n",
            "56/56 - 0s - loss: 0.1284 - acc: 0.9826 - val_loss: 0.2311 - val_acc: 0.9326\n",
            "Epoch 20/30\n",
            "56/56 - 0s - loss: 0.1129 - acc: 0.9843 - val_loss: 0.2229 - val_acc: 0.9348\n",
            "Epoch 21/30\n",
            "56/56 - 0s - loss: 0.0998 - acc: 0.9876 - val_loss: 0.2114 - val_acc: 0.9393\n",
            "Epoch 22/30\n",
            "56/56 - 0s - loss: 0.0891 - acc: 0.9860 - val_loss: 0.2045 - val_acc: 0.9371\n",
            "Epoch 23/30\n",
            "56/56 - 0s - loss: 0.0790 - acc: 0.9899 - val_loss: 0.2003 - val_acc: 0.9393\n",
            "Epoch 24/30\n",
            "56/56 - 0s - loss: 0.0714 - acc: 0.9888 - val_loss: 0.1950 - val_acc: 0.9393\n",
            "Epoch 25/30\n",
            "56/56 - 0s - loss: 0.0639 - acc: 0.9904 - val_loss: 0.1899 - val_acc: 0.9393\n",
            "Epoch 26/30\n",
            "56/56 - 0s - loss: 0.0572 - acc: 0.9921 - val_loss: 0.1877 - val_acc: 0.9393\n",
            "Epoch 27/30\n",
            "56/56 - 0s - loss: 0.0513 - acc: 0.9944 - val_loss: 0.1854 - val_acc: 0.9416\n",
            "Epoch 28/30\n",
            "56/56 - 0s - loss: 0.0464 - acc: 0.9966 - val_loss: 0.1842 - val_acc: 0.9416\n",
            "Epoch 29/30\n",
            "56/56 - 0s - loss: 0.0420 - acc: 0.9978 - val_loss: 0.1830 - val_acc: 0.9393\n",
            "Epoch 30/30\n",
            "56/56 - 0s - loss: 0.0380 - acc: 0.9989 - val_loss: 0.1815 - val_acc: 0.9416\n"
          ],
          "name": "stdout"
        }
      ]
    },
    {
      "cell_type": "code",
      "metadata": {
        "colab": {
          "base_uri": "https://localhost:8080/",
          "height": 573
        },
        "id": "lWCHZ-v_49A-",
        "outputId": "f26d2a78-5aba-492c-a0b6-52b55228cd07"
      },
      "source": [
        "import matplotlib.pyplot as plt\r\n",
        "%matplotlib inline\r\n",
        "\r\n",
        "def plot_graphs(history, string) :\r\n",
        "  plt.plot(history.history[string])\r\n",
        "  plt.plot(history.history['val_'+string])\r\n",
        "  plt.xlabel('Epochs')\r\n",
        "  plt.ylabel(string)\r\n",
        "  plt.legend([string, 'val_'+string])\r\n",
        "  plt.title('Training And Validation {}'.format(string))\r\n",
        "  plt.show()\r\n",
        "\r\n",
        "plot_graphs(history, 'acc')\r\n",
        "plot_graphs(history, 'loss')"
      ],
      "execution_count": 163,
      "outputs": [
        {
          "output_type": "display_data",
          "data": {
            "image/png": "[encoded data removed]",
            "text/plain": [
              "<Figure size 432x288 with 1 Axes>"
            ]
          },
          "metadata": {
            "tags": [],
            "needs_background": "light"
          }
        },
        {
          "output_type": "display_data",
          "data": {
            "image/png": "[encoded data removed]",
            "text/plain": [
              "<Figure size 432x288 with 1 Axes>"
            ]
          },
          "metadata": {
            "tags": [],
            "needs_background": "light"
          }
        }
      ]
    },
    {
      "cell_type": "code",
      "metadata": {
        "id": "CUbjZrHzCmqc"
      },
      "source": [
        "reverse_word_index = dict([(value, key) for (key, value) in word_index.items()])\r\n",
        "\r\n",
        "def decode_sentence(text) :\r\n",
        "  return ' '.join([reverse_word_index.get(i, '?') for i in text])"
      ],
      "execution_count": 166,
      "outputs": []
    },
    {
      "cell_type": "code",
      "metadata": {
        "colab": {
          "base_uri": "https://localhost:8080/"
        },
        "id": "JfVhth1JBeEH",
        "outputId": "37e84a77-0939-4128-c5c5-2bc578f68892"
      },
      "source": [
        "e = model.layers[0]\r\n",
        "weights = e.get_weights()[0]\r\n",
        "print(weights.shape)"
      ],
      "execution_count": 164,
      "outputs": [
        {
          "output_type": "stream",
          "text": [
            "(1000, 16)\n"
          ],
          "name": "stdout"
        }
      ]
    },
    {
      "cell_type": "code",
      "metadata": {
        "id": "YluDBBMxCT0O"
      },
      "source": [
        "import io\r\n",
        "\r\n",
        "out_v = io.open('vecs.tsv', 'w', encoding = 'utf-8')\r\n",
        "out_m = io.open('meta.tsv', 'w', encoding = 'utf-8')\r\n",
        "\r\n",
        "for word_num in range(1, vocab_size) :\r\n",
        "  word = reverse_word_index[word_num]\r\n",
        "  embeddings = weights[word_num]\r\n",
        "  out_m.write(word + '\\n')\r\n",
        "  out_v.write('\\t'.join([str(x) for x in embeddings]) + '\\n')\r\n",
        "\r\n",
        "out_v.close()\r\n",
        "out_m.close()"
      ],
      "execution_count": 167,
      "outputs": []
    },
    {
      "cell_type": "code",
      "metadata": {
        "colab": {
          "base_uri": "https://localhost:8080/",
          "height": 17
        },
        "id": "aaDne8jYDQ8F",
        "outputId": "52c8a443-7a20-4a57-8555-b7769d874e97"
      },
      "source": [
        "try:\r\n",
        "  from google.colab import files\r\n",
        "except ImportError:\r\n",
        "  pass\r\n",
        "else:\r\n",
        "  files.download('vecs.tsv')\r\n",
        "  files.download('meta.tsv')"
      ],
      "execution_count": 168,
      "outputs": [
        {
          "output_type": "display_data",
          "data": {
            "application/javascript": [
              "\n",
              "    async function download(id, filename, size) {\n",
              "      if (!google.colab.kernel.accessAllowed) {\n",
              "        return;\n",
              "      }\n",
              "      const div = document.createElement('div');\n",
              "      const label = document.createElement('label');\n",
              "      label.textContent = `Downloading \"${filename}\": `;\n",
              "      div.appendChild(label);\n",
              "      const progress = document.createElement('progress');\n",
              "      progress.max = size;\n",
              "      div.appendChild(progress);\n",
              "      document.body.appendChild(div);\n",
              "\n",
              "      const buffers = [];\n",
              "      let downloaded = 0;\n",
              "\n",
              "      const channel = await google.colab.kernel.comms.open(id);\n",
              "      // Send a message to notify the kernel that we're ready.\n",
              "      channel.send({})\n",
              "\n",
              "      for await (const message of channel.messages) {\n",
              "        // Send a message to notify the kernel that we're ready.\n",
              "        channel.send({})\n",
              "        if (message.buffers) {\n",
              "          for (const buffer of message.buffers) {\n",
              "            buffers.push(buffer);\n",
              "            downloaded += buffer.byteLength;\n",
              "            progress.value = downloaded;\n",
              "          }\n",
              "        }\n",
              "      }\n",
              "      const blob = new Blob(buffers, {type: 'application/binary'});\n",
              "      const a = document.createElement('a');\n",
              "      a.href = window.URL.createObjectURL(blob);\n",
              "      a.download = filename;\n",
              "      div.appendChild(a);\n",
              "      a.click();\n",
              "      div.remove();\n",
              "    }\n",
              "  "
            ],
            "text/plain": [
              "<IPython.core.display.Javascript object>"
            ]
          },
          "metadata": {
            "tags": []
          }
        },
        {
          "output_type": "display_data",
          "data": {
            "application/javascript": [
              "download(\"download_3860d958-ab19-4333-8249-d5eec07f149b\", \"vecs.tsv\", 182833)"
            ],
            "text/plain": [
              "<IPython.core.display.Javascript object>"
            ]
          },
          "metadata": {
            "tags": []
          }
        },
        {
          "output_type": "display_data",
          "data": {
            "application/javascript": [
              "\n",
              "    async function download(id, filename, size) {\n",
              "      if (!google.colab.kernel.accessAllowed) {\n",
              "        return;\n",
              "      }\n",
              "      const div = document.createElement('div');\n",
              "      const label = document.createElement('label');\n",
              "      label.textContent = `Downloading \"${filename}\": `;\n",
              "      div.appendChild(label);\n",
              "      const progress = document.createElement('progress');\n",
              "      progress.max = size;\n",
              "      div.appendChild(progress);\n",
              "      document.body.appendChild(div);\n",
              "\n",
              "      const buffers = [];\n",
              "      let downloaded = 0;\n",
              "\n",
              "      const channel = await google.colab.kernel.comms.open(id);\n",
              "      // Send a message to notify the kernel that we're ready.\n",
              "      channel.send({})\n",
              "\n",
              "      for await (const message of channel.messages) {\n",
              "        // Send a message to notify the kernel that we're ready.\n",
              "        channel.send({})\n",
              "        if (message.buffers) {\n",
              "          for (const buffer of message.buffers) {\n",
              "            buffers.push(buffer);\n",
              "            downloaded += buffer.byteLength;\n",
              "            progress.value = downloaded;\n",
              "          }\n",
              "        }\n",
              "      }\n",
              "      const blob = new Blob(buffers, {type: 'application/binary'});\n",
              "      const a = document.createElement('a');\n",
              "      a.href = window.URL.createObjectURL(blob);\n",
              "      a.download = filename;\n",
              "      div.appendChild(a);\n",
              "      a.click();\n",
              "      div.remove();\n",
              "    }\n",
              "  "
            ],
            "text/plain": [
              "<IPython.core.display.Javascript object>"
            ]
          },
          "metadata": {
            "tags": []
          }
        },
        {
          "output_type": "display_data",
          "data": {
            "application/javascript": [
              "download(\"download_f6396f4c-5c1c-4fae-ba09-69ece8c65b37\", \"meta.tsv\", 6529)"
            ],
            "text/plain": [
              "<IPython.core.display.Javascript object>"
            ]
          },
          "metadata": {
            "tags": []
          }
        }
      ]
    },
    {
      "cell_type": "code",
      "metadata": {
        "id": "BLlqPk9SDbLA"
      },
      "source": [
        ""
      ],
      "execution_count": null,
      "outputs": []
    }
  ]
}