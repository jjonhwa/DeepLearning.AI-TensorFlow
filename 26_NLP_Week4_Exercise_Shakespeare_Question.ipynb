{
  "nbformat": 4,
  "nbformat_minor": 0,
  "metadata": {
    "colab": {
      "name": "26. NLP_Week4_Exercise_Shakespeare_Question.ipynb",
      "provenance": [],
      "collapsed_sections": [],
      "authorship_tag": "ABX9TyMk97MVl33rrSg8vNyzzLHR",
      "include_colab_link": true
    },
    "kernelspec": {
      "name": "python3",
      "display_name": "Python 3"
    },
    "accelerator": "GPU"
  },
  "cells": [
    {
      "cell_type": "markdown",
      "metadata": {
        "id": "view-in-github",
        "colab_type": "text"
      },
      "source": [
        "<a href=\"https://colab.research.google.com/github/jjonhwa/DeepLearning.AI-TensorFlow/blob/main/26_NLP_Week4_Exercise_Shakespeare_Question.ipynb\" target=\"_parent\"><img src=\"https://colab.research.google.com/assets/colab-badge.svg\" alt=\"Open In Colab\"/></a>"
      ]
    },
    {
      "cell_type": "code",
      "metadata": {
        "id": "2SXih8IbOBaV"
      },
      "source": [
        "from tensorflow.keras.preprocessing.text import Tokenizer\r\n",
        "from tensorflow.keras.preprocessing.sequence import pad_sequences\r\n",
        "from tensorflow.keras.layers import LSTM, Embedding, Dense, Dropout, Bidirectional\r\n",
        "from tensorflow.keras.models import  Sequential\r\n",
        "from tensorflow.keras.optimizers import Adam\r\n",
        "from tensorflow.keras import regularizers\r\n",
        "\r\n",
        "import tensorflow.keras.utils as ku\r\n",
        "import numpy as np"
      ],
      "execution_count": 1,
      "outputs": []
    },
    {
      "cell_type": "code",
      "metadata": {
        "colab": {
          "base_uri": "https://localhost:8080/"
        },
        "id": "6urxzKdSOiS0",
        "outputId": "9f14ed34-fdcb-49b6-efdc-e67ee26045c6"
      },
      "source": [
        "!wget --no-check-certificate \\\r\n",
        "https://storage.googleapis.com/laurencemoroney-blog.appspot.com/sonnets.txt \\\r\n",
        "-O /tmp/sonnets.txt\r\n",
        "\r\n",
        "data = open('/tmp/sonnets.txt').read()\r\n",
        "corpus = data.lower().split('\\n')"
      ],
      "execution_count": 2,
      "outputs": [
        {
          "output_type": "stream",
          "text": [
            "--2021-01-09 13:22:06--  https://storage.googleapis.com/laurencemoroney-blog.appspot.com/sonnets.txt\n",
            "Resolving storage.googleapis.com (storage.googleapis.com)... 172.217.15.112, 172.253.122.128, 172.217.164.144, ...\n",
            "Connecting to storage.googleapis.com (storage.googleapis.com)|172.217.15.112|:443... connected.\n",
            "HTTP request sent, awaiting response... 200 OK\n",
            "Length: 93578 (91K) [text/plain]\n",
            "Saving to: ‘/tmp/sonnets.txt’\n",
            "\n",
            "\r/tmp/sonnets.txt      0%[                    ]       0  --.-KB/s               \r/tmp/sonnets.txt    100%[===================>]  91.38K  --.-KB/s    in 0.001s  \n",
            "\n",
            "2021-01-09 13:22:06 (89.4 MB/s) - ‘/tmp/sonnets.txt’ saved [93578/93578]\n",
            "\n"
          ],
          "name": "stdout"
        }
      ]
    },
    {
      "cell_type": "code",
      "metadata": {
        "id": "0vQHBsboOwul"
      },
      "source": [
        "tokenizer = Tokenizer()\r\n",
        "tokenizer.fit_on_texts(corpus)\r\n",
        "total_words = len(tokenizer.word_index) + 1\r\n",
        "\r\n",
        "input_sequences = []\r\n",
        "for line in corpus :\r\n",
        "  token_list = tokenizer.texts_to_sequences([line])[0]\r\n",
        "\r\n",
        "  for i in range(1, len(token_list)) :\r\n",
        "    n_gram_sequence = token_list[:i+1]\r\n",
        "    input_sequences.append(n_gram_sequence)"
      ],
      "execution_count": 3,
      "outputs": []
    },
    {
      "cell_type": "code",
      "metadata": {
        "id": "eIhYA8-7PQEw"
      },
      "source": [
        "max_sequence_len = max([len(x) for x in input_sequences])\r\n",
        "input_sequences = np.array(pad_sequences(input_sequences, maxlen = max_sequence_len, padding = 'pre'))\r\n",
        "\r\n",
        "predictors, label = input_sequences[:,:-1],input_sequences[:,-1]\r\n",
        "label = ku.to_categorical(label, num_classes=total_words)"
      ],
      "execution_count": 4,
      "outputs": []
    },
    {
      "cell_type": "code",
      "metadata": {
        "colab": {
          "base_uri": "https://localhost:8080/"
        },
        "id": "L2EP157LRF7T",
        "outputId": "aa7e12a2-028d-48af-f8e5-43ae6e39e858"
      },
      "source": [
        "model= Sequential()\r\n",
        "model.add(Embedding(total_words, 100, input_length = max_sequence_len-1))\r\n",
        "model.add(Bidirectional(LSTM(150, return_sequences = True)))\r\n",
        "model.add(Dropout(0.1))\r\n",
        "model.add(LSTM(100))\r\n",
        "model.add(Dense(total_words/2, activation = 'relu', kernel_regularizer = regularizers.l2(0.01)))\r\n",
        "model.add(Dense(total_words, activation = 'softmax'))\r\n",
        "\r\n",
        "adam = Adam(lr = .01)\r\n",
        "model.compile(loss = 'categorical_crossentropy',\r\n",
        "              optimizer = adam,\r\n",
        "              metrics = ['acc'])\r\n",
        "\r\n",
        "model.summary()"
      ],
      "execution_count": 5,
      "outputs": [
        {
          "output_type": "stream",
          "text": [
            "Model: \"sequential\"\n",
            "_________________________________________________________________\n",
            "Layer (type)                 Output Shape              Param #   \n",
            "=================================================================\n",
            "embedding (Embedding)        (None, 10, 100)           321100    \n",
            "_________________________________________________________________\n",
            "bidirectional (Bidirectional (None, 10, 300)           301200    \n",
            "_________________________________________________________________\n",
            "dropout (Dropout)            (None, 10, 300)           0         \n",
            "_________________________________________________________________\n",
            "lstm_1 (LSTM)                (None, 100)               160400    \n",
            "_________________________________________________________________\n",
            "dense (Dense)                (None, 1605)              162105    \n",
            "_________________________________________________________________\n",
            "dense_1 (Dense)              (None, 3211)              5156866   \n",
            "=================================================================\n",
            "Total params: 6,101,671\n",
            "Trainable params: 6,101,671\n",
            "Non-trainable params: 0\n",
            "_________________________________________________________________\n"
          ],
          "name": "stdout"
        }
      ]
    },
    {
      "cell_type": "code",
      "metadata": {
        "colab": {
          "base_uri": "https://localhost:8080/"
        },
        "id": "xClsIrruS5BX",
        "outputId": "7e358654-f8e1-46db-bb88-4efbfb33757d"
      },
      "source": [
        "history = model.fit(\r\n",
        "    predictors,\r\n",
        "    label,\r\n",
        "    epochs = 100,\r\n",
        "    verbose = 1\r\n",
        ")"
      ],
      "execution_count": 7,
      "outputs": [
        {
          "output_type": "stream",
          "text": [
            "Epoch 1/100\n",
            "484/484 [==============================] - 15s 12ms/step - loss: 7.0854 - acc: 0.0241\n",
            "Epoch 2/100\n",
            "484/484 [==============================] - 6s 12ms/step - loss: 6.5146 - acc: 0.0224\n",
            "Epoch 3/100\n",
            "484/484 [==============================] - 6s 11ms/step - loss: 6.4054 - acc: 0.0276\n",
            "Epoch 4/100\n",
            "484/484 [==============================] - 6s 12ms/step - loss: 6.3609 - acc: 0.0282\n",
            "Epoch 5/100\n",
            "484/484 [==============================] - 5s 11ms/step - loss: 6.3103 - acc: 0.0299\n",
            "Epoch 6/100\n",
            "484/484 [==============================] - 6s 12ms/step - loss: 6.2775 - acc: 0.0338\n",
            "Epoch 7/100\n",
            "484/484 [==============================] - 5s 11ms/step - loss: 6.2441 - acc: 0.0349\n",
            "Epoch 8/100\n",
            "484/484 [==============================] - 5s 11ms/step - loss: 6.2088 - acc: 0.0338\n",
            "Epoch 9/100\n",
            "484/484 [==============================] - 5s 11ms/step - loss: 6.1503 - acc: 0.0320\n",
            "Epoch 10/100\n",
            "484/484 [==============================] - 6s 11ms/step - loss: 6.1124 - acc: 0.0413\n",
            "Epoch 11/100\n",
            "484/484 [==============================] - 6s 12ms/step - loss: 6.0637 - acc: 0.0388\n",
            "Epoch 12/100\n",
            "484/484 [==============================] - 6s 12ms/step - loss: 6.0312 - acc: 0.0437\n",
            "Epoch 13/100\n",
            "484/484 [==============================] - 5s 11ms/step - loss: 6.0048 - acc: 0.0442\n",
            "Epoch 14/100\n",
            "484/484 [==============================] - 6s 11ms/step - loss: 5.9512 - acc: 0.0492\n",
            "Epoch 15/100\n",
            "484/484 [==============================] - 6s 11ms/step - loss: 5.9004 - acc: 0.0452\n",
            "Epoch 16/100\n",
            "484/484 [==============================] - 6s 11ms/step - loss: 5.8945 - acc: 0.0481\n",
            "Epoch 17/100\n",
            "484/484 [==============================] - 6s 12ms/step - loss: 5.8602 - acc: 0.0523\n",
            "Epoch 18/100\n",
            "484/484 [==============================] - 5s 11ms/step - loss: 5.8141 - acc: 0.0491\n",
            "Epoch 19/100\n",
            "484/484 [==============================] - 5s 11ms/step - loss: 5.8009 - acc: 0.0513\n",
            "Epoch 20/100\n",
            "484/484 [==============================] - 5s 11ms/step - loss: 5.7226 - acc: 0.0568\n",
            "Epoch 21/100\n",
            "484/484 [==============================] - 6s 12ms/step - loss: 5.7295 - acc: 0.0601\n",
            "Epoch 22/100\n",
            "484/484 [==============================] - 5s 11ms/step - loss: 5.6998 - acc: 0.0592\n",
            "Epoch 23/100\n",
            "484/484 [==============================] - 5s 11ms/step - loss: 5.6603 - acc: 0.0603\n",
            "Epoch 24/100\n",
            "484/484 [==============================] - 5s 11ms/step - loss: 5.6695 - acc: 0.0603\n",
            "Epoch 25/100\n",
            "484/484 [==============================] - 5s 11ms/step - loss: 5.6135 - acc: 0.0593\n",
            "Epoch 26/100\n",
            "484/484 [==============================] - 5s 11ms/step - loss: 5.6023 - acc: 0.0605\n",
            "Epoch 27/100\n",
            "484/484 [==============================] - 5s 11ms/step - loss: 5.5986 - acc: 0.0616\n",
            "Epoch 28/100\n",
            "484/484 [==============================] - 5s 11ms/step - loss: 5.5405 - acc: 0.0648\n",
            "Epoch 29/100\n",
            "484/484 [==============================] - 5s 11ms/step - loss: 5.5484 - acc: 0.0649\n",
            "Epoch 30/100\n",
            "484/484 [==============================] - 5s 11ms/step - loss: 5.5305 - acc: 0.0651\n",
            "Epoch 31/100\n",
            "484/484 [==============================] - 5s 11ms/step - loss: 5.5298 - acc: 0.0671\n",
            "Epoch 32/100\n",
            "484/484 [==============================] - 5s 11ms/step - loss: 5.5206 - acc: 0.0641\n",
            "Epoch 33/100\n",
            "484/484 [==============================] - 5s 11ms/step - loss: 5.4856 - acc: 0.0667\n",
            "Epoch 34/100\n",
            "484/484 [==============================] - 5s 11ms/step - loss: 5.4787 - acc: 0.0702\n",
            "Epoch 35/100\n",
            "484/484 [==============================] - 5s 11ms/step - loss: 5.5284 - acc: 0.0625\n",
            "Epoch 36/100\n",
            "484/484 [==============================] - 5s 11ms/step - loss: 5.4626 - acc: 0.0712\n",
            "Epoch 37/100\n",
            "484/484 [==============================] - 5s 11ms/step - loss: 5.4632 - acc: 0.0679\n",
            "Epoch 38/100\n",
            "484/484 [==============================] - 5s 11ms/step - loss: 5.4492 - acc: 0.0693\n",
            "Epoch 39/100\n",
            "484/484 [==============================] - 5s 11ms/step - loss: 5.4495 - acc: 0.0697\n",
            "Epoch 40/100\n",
            "484/484 [==============================] - 5s 11ms/step - loss: 5.4291 - acc: 0.0743\n",
            "Epoch 41/100\n",
            "484/484 [==============================] - 5s 11ms/step - loss: 5.4447 - acc: 0.0681\n",
            "Epoch 42/100\n",
            "484/484 [==============================] - 5s 11ms/step - loss: 5.4088 - acc: 0.0714\n",
            "Epoch 43/100\n",
            "484/484 [==============================] - 6s 12ms/step - loss: 5.3950 - acc: 0.0725\n",
            "Epoch 44/100\n",
            "484/484 [==============================] - 6s 11ms/step - loss: 5.3966 - acc: 0.0730\n",
            "Epoch 45/100\n",
            "484/484 [==============================] - 5s 11ms/step - loss: 5.3672 - acc: 0.0708\n",
            "Epoch 46/100\n",
            "484/484 [==============================] - 5s 11ms/step - loss: 5.3736 - acc: 0.0720\n",
            "Epoch 47/100\n",
            "484/484 [==============================] - 5s 11ms/step - loss: 5.3859 - acc: 0.0722\n",
            "Epoch 48/100\n",
            "484/484 [==============================] - 5s 11ms/step - loss: 5.3662 - acc: 0.0718\n",
            "Epoch 49/100\n",
            "484/484 [==============================] - 5s 11ms/step - loss: 5.3710 - acc: 0.0695\n",
            "Epoch 50/100\n",
            "484/484 [==============================] - 5s 11ms/step - loss: 5.3510 - acc: 0.0705\n",
            "Epoch 51/100\n",
            "484/484 [==============================] - 5s 11ms/step - loss: 5.3421 - acc: 0.0742\n",
            "Epoch 52/100\n",
            "484/484 [==============================] - 5s 11ms/step - loss: 5.3585 - acc: 0.0720\n",
            "Epoch 53/100\n",
            "484/484 [==============================] - 5s 11ms/step - loss: 5.3752 - acc: 0.0721\n",
            "Epoch 54/100\n",
            "484/484 [==============================] - 5s 11ms/step - loss: 5.3334 - acc: 0.0736\n",
            "Epoch 55/100\n",
            "484/484 [==============================] - 5s 11ms/step - loss: 5.3206 - acc: 0.0733\n",
            "Epoch 56/100\n",
            "484/484 [==============================] - 5s 11ms/step - loss: 5.3332 - acc: 0.0745\n",
            "Epoch 57/100\n",
            "484/484 [==============================] - 5s 11ms/step - loss: 5.3208 - acc: 0.0769\n",
            "Epoch 58/100\n",
            "484/484 [==============================] - 5s 11ms/step - loss: 5.3465 - acc: 0.0731\n",
            "Epoch 59/100\n",
            "484/484 [==============================] - 5s 11ms/step - loss: 5.3107 - acc: 0.0776\n",
            "Epoch 60/100\n",
            "484/484 [==============================] - 5s 11ms/step - loss: 5.3085 - acc: 0.0739\n",
            "Epoch 61/100\n",
            "484/484 [==============================] - 5s 11ms/step - loss: 5.3498 - acc: 0.0694\n",
            "Epoch 62/100\n",
            "484/484 [==============================] - 5s 11ms/step - loss: 5.2957 - acc: 0.0752\n",
            "Epoch 63/100\n",
            "484/484 [==============================] - 5s 11ms/step - loss: 5.3318 - acc: 0.0722\n",
            "Epoch 64/100\n",
            "484/484 [==============================] - 5s 11ms/step - loss: 5.3061 - acc: 0.0745\n",
            "Epoch 65/100\n",
            "484/484 [==============================] - 5s 11ms/step - loss: 5.2921 - acc: 0.0745\n",
            "Epoch 66/100\n",
            "484/484 [==============================] - 5s 11ms/step - loss: 5.2967 - acc: 0.0731\n",
            "Epoch 67/100\n",
            "484/484 [==============================] - 5s 11ms/step - loss: 5.3060 - acc: 0.0734\n",
            "Epoch 68/100\n",
            "484/484 [==============================] - 5s 11ms/step - loss: 5.2721 - acc: 0.0752\n",
            "Epoch 69/100\n",
            "484/484 [==============================] - 5s 10ms/step - loss: 5.2913 - acc: 0.0738\n",
            "Epoch 70/100\n",
            "484/484 [==============================] - 5s 11ms/step - loss: 5.2966 - acc: 0.0751\n",
            "Epoch 71/100\n",
            "484/484 [==============================] - 5s 11ms/step - loss: 5.2841 - acc: 0.0698\n",
            "Epoch 72/100\n",
            "484/484 [==============================] - 5s 11ms/step - loss: 5.2901 - acc: 0.0751\n",
            "Epoch 73/100\n",
            "484/484 [==============================] - 6s 11ms/step - loss: 5.2447 - acc: 0.0761\n",
            "Epoch 74/100\n",
            "484/484 [==============================] - 5s 11ms/step - loss: 5.2716 - acc: 0.0751\n",
            "Epoch 75/100\n",
            "484/484 [==============================] - 5s 11ms/step - loss: 5.2766 - acc: 0.0759\n",
            "Epoch 76/100\n",
            "484/484 [==============================] - 5s 11ms/step - loss: 5.2576 - acc: 0.0798\n",
            "Epoch 77/100\n",
            "484/484 [==============================] - 5s 11ms/step - loss: 5.2796 - acc: 0.0743\n",
            "Epoch 78/100\n",
            "484/484 [==============================] - 5s 11ms/step - loss: 5.2643 - acc: 0.0785\n",
            "Epoch 79/100\n",
            "484/484 [==============================] - 5s 11ms/step - loss: 5.2713 - acc: 0.0728\n",
            "Epoch 80/100\n",
            "484/484 [==============================] - 5s 11ms/step - loss: 5.2968 - acc: 0.0736\n",
            "Epoch 81/100\n",
            "484/484 [==============================] - 5s 11ms/step - loss: 5.2903 - acc: 0.0761\n",
            "Epoch 82/100\n",
            "484/484 [==============================] - 5s 11ms/step - loss: 5.2645 - acc: 0.0754\n",
            "Epoch 83/100\n",
            "484/484 [==============================] - 5s 11ms/step - loss: 5.2665 - acc: 0.0768\n",
            "Epoch 84/100\n",
            "484/484 [==============================] - 5s 11ms/step - loss: 5.2385 - acc: 0.0789\n",
            "Epoch 85/100\n",
            "484/484 [==============================] - 5s 11ms/step - loss: 5.2520 - acc: 0.0809\n",
            "Epoch 86/100\n",
            "484/484 [==============================] - 5s 11ms/step - loss: 5.2658 - acc: 0.0760\n",
            "Epoch 87/100\n",
            "484/484 [==============================] - 5s 11ms/step - loss: 5.2366 - acc: 0.0825\n",
            "Epoch 88/100\n",
            "484/484 [==============================] - 5s 11ms/step - loss: 5.2478 - acc: 0.0729\n",
            "Epoch 89/100\n",
            "484/484 [==============================] - 5s 11ms/step - loss: 5.2818 - acc: 0.0762\n",
            "Epoch 90/100\n",
            "484/484 [==============================] - 6s 11ms/step - loss: 5.2545 - acc: 0.0738\n",
            "Epoch 91/100\n",
            "484/484 [==============================] - 5s 11ms/step - loss: 5.2418 - acc: 0.0753\n",
            "Epoch 92/100\n",
            "484/484 [==============================] - 5s 11ms/step - loss: 5.2234 - acc: 0.0742\n",
            "Epoch 93/100\n",
            "484/484 [==============================] - 5s 11ms/step - loss: 5.2505 - acc: 0.0790\n",
            "Epoch 94/100\n",
            "484/484 [==============================] - 5s 11ms/step - loss: 5.2973 - acc: 0.0759\n",
            "Epoch 95/100\n",
            "484/484 [==============================] - 5s 11ms/step - loss: 5.2595 - acc: 0.0754\n",
            "Epoch 96/100\n",
            "484/484 [==============================] - 5s 11ms/step - loss: 5.2441 - acc: 0.0752\n",
            "Epoch 97/100\n",
            "484/484 [==============================] - 5s 11ms/step - loss: 5.2631 - acc: 0.0731\n",
            "Epoch 98/100\n",
            "484/484 [==============================] - 5s 11ms/step - loss: 5.2491 - acc: 0.0745\n",
            "Epoch 99/100\n",
            "484/484 [==============================] - 5s 11ms/step - loss: 5.2603 - acc: 0.0729\n",
            "Epoch 100/100\n",
            "484/484 [==============================] - 5s 11ms/step - loss: 5.2261 - acc: 0.0807\n"
          ],
          "name": "stdout"
        }
      ]
    },
    {
      "cell_type": "code",
      "metadata": {
        "colab": {
          "base_uri": "https://localhost:8080/",
          "height": 545
        },
        "id": "Fo4qSCDXTkBM",
        "outputId": "800b41d6-283b-48a1-e341-fabb7be3547f"
      },
      "source": [
        "import matplotlib.pyplot as plt\r\n",
        "%matplotlib inline\r\n",
        "\r\n",
        "acc = history.history['acc']\r\n",
        "loss = history.history['loss']\r\n",
        "\r\n",
        "epochs = range(len(acc))\r\n",
        "\r\n",
        "plt.plot(epochs, acc, 'b', label = 'Training Accuracy')\r\n",
        "plt.title('Training Accuracy')\r\n",
        "\r\n",
        "plt.figure()\r\n",
        "plt.plot(epochs, loss, 'b', label = 'Training Loss')\r\n",
        "plt.title('Training Accuracy')\r\n",
        "\r\n",
        "plt.legend()\r\n",
        "plt.show()"
      ],
      "execution_count": 9,
      "outputs": [
        {
          "output_type": "display_data",
          "data": {
            "image/png": "[encoded data removed]",
            "text/plain": [
              "<Figure size 432x288 with 1 Axes>"
            ]
          },
          "metadata": {
            "tags": [],
            "needs_background": "light"
          }
        },
        {
          "output_type": "display_data",
          "data": {
            "image/png": "[encoded data removed]",
            "text/plain": [
              "<Figure size 432x288 with 1 Axes>"
            ]
          },
          "metadata": {
            "tags": [],
            "needs_background": "light"
          }
        }
      ]
    },
    {
      "cell_type": "code",
      "metadata": {
        "colab": {
          "base_uri": "https://localhost:8080/"
        },
        "id": "7IpaRhhRUmgm",
        "outputId": "dc609848-44ff-447f-9b4d-ce20081721e4"
      },
      "source": [
        "seed_text = \"Help me Obi Wan Kenobi, you're my only hope\"\r\n",
        "next_words = 50\r\n",
        "\r\n",
        "for _ in range(next_words) :\r\n",
        "  token_list = tokenizer.texts_to_sequences([seed_text])[0]\r\n",
        "  token_list = pad_sequences([token_list], maxlen = max_sequence_len -1, padding = 'pre')\r\n",
        "  predicted = model.predict_classes(token_list, verbose = 0)\r\n",
        "  output_word = \"\"\r\n",
        "\r\n",
        "  for word, index in tokenizer.word_index.items() :\r\n",
        "    if index == predicted :\r\n",
        "      output_word = word\r\n",
        "      break\r\n",
        "\r\n",
        "  seed_text += \" \" + output_word\r\n",
        "print(seed_text)"
      ],
      "execution_count": 13,
      "outputs": [
        {
          "output_type": "stream",
          "text": [
            "/usr/local/lib/python3.6/dist-packages/tensorflow/python/keras/engine/sequential.py:450: UserWarning: `model.predict_classes()` is deprecated and will be removed after 2021-01-01. Please use instead:* `np.argmax(model.predict(x), axis=-1)`,   if your model does multi-class classification   (e.g. if it uses a `softmax` last-layer activation).* `(model.predict(x) > 0.5).astype(\"int32\")`,   if your model does binary classification   (e.g. if it uses a `sigmoid` last-layer activation).\n",
            "  warnings.warn('`model.predict_classes()` is deprecated and '\n"
          ],
          "name": "stderr"
        },
        {
          "output_type": "stream",
          "text": [
            "Help me Obi Wan Kenobi, you're my only hope and all my love is i am so to be so to be so to be so to be so to be so to be so to be so to be so to be so to be so to be so to be so to be so to be so\n"
          ],
          "name": "stdout"
        }
      ]
    },
    {
      "cell_type": "code",
      "metadata": {
        "id": "EXSt_44pXupu"
      },
      "source": [
        ""
      ],
      "execution_count": null,
      "outputs": []
    }
  ]
}