{
  "nbformat": 4,
  "nbformat_minor": 0,
  "metadata": {
    "colab": {
      "name": "10. Course 2 - Part 6 - Lesson 3.ipynb",
      "provenance": [],
      "collapsed_sections": [],
      "authorship_tag": "ABX9TyPun+n/1S04DrvEoKH4xpR5",
      "include_colab_link": true
    },
    "kernelspec": {
      "name": "python3",
      "display_name": "Python 3"
    },
    "accelerator": "GPU"
  },
  "cells": [
    {
      "cell_type": "markdown",
      "metadata": {
        "id": "view-in-github",
        "colab_type": "text"
      },
      "source": [
        "<a href=\"https://colab.research.google.com/github/jjonhwa/DeepLearning.AI-TensorFlow/blob/main/10_Course_2_Part_6_Lesson_3.ipynb\" target=\"_parent\"><img src=\"https://colab.research.google.com/assets/colab-badge.svg\" alt=\"Open In Colab\"/></a>"
      ]
    },
    {
      "cell_type": "code",
      "metadata": {
        "id": "5TPp4-za1v7c"
      },
      "source": [
        "import os\r\n",
        "from tensorflow.keras import layers\r\n",
        "from tensorflow.keras import Model\r\n",
        "from tensorflow.keras.applications.inception_v3 import InceptionV3\r\n",
        "from tensorflow.keras.optimizers import RMSprop"
      ],
      "execution_count": 1,
      "outputs": []
    },
    {
      "cell_type": "code",
      "metadata": {
        "colab": {
          "base_uri": "https://localhost:8080/"
        },
        "id": "IG6hxeZ23wRo",
        "outputId": "2507e429-52a6-4ab1-e342-51632a42918f"
      },
      "source": [
        "!wget --no-check-certificate \\\r\n",
        "https://storage.googleapis.com/mledu-datasets/inception_v3_weights_tf_dim_ordering_tf_kernels_notop.h5 \\\r\n",
        "-O /tmp/inception_v3_weights_tf_dim_orderting_tf_kernels_notop.h5"
      ],
      "execution_count": 2,
      "outputs": [
        {
          "output_type": "stream",
          "text": [
            "--2021-01-05 05:21:56--  https://storage.googleapis.com/mledu-datasets/inception_v3_weights_tf_dim_ordering_tf_kernels_notop.h5\n",
            "Resolving storage.googleapis.com (storage.googleapis.com)... 74.125.20.128, 74.125.195.128, 74.125.142.128, ...\n",
            "Connecting to storage.googleapis.com (storage.googleapis.com)|74.125.20.128|:443... connected.\n",
            "HTTP request sent, awaiting response... 200 OK\n",
            "Length: 87910968 (84M) [application/x-hdf]\n",
            "Saving to: ‘/tmp/inception_v3_weights_tf_dim_orderting_tf_kernels_notop.h5’\n",
            "\n",
            "/tmp/inception_v3_w 100%[===================>]  83.84M   251MB/s    in 0.3s    \n",
            "\n",
            "2021-01-05 05:21:56 (251 MB/s) - ‘/tmp/inception_v3_weights_tf_dim_orderting_tf_kernels_notop.h5’ saved [87910968/87910968]\n",
            "\n"
          ],
          "name": "stdout"
        }
      ]
    },
    {
      "cell_type": "code",
      "metadata": {
        "colab": {
          "base_uri": "https://localhost:8080/"
        },
        "id": "X52eM4fn4CbU",
        "outputId": "18e5051e-ed50-441b-a3ad-27c2e6f9fdc3"
      },
      "source": [
        "local_weights_file = '/tmp/inception_v3_weights_tf_dim_orderting_tf_kernels_notop.h5'\r\n",
        "\r\n",
        "pre_trained_model = InceptionV3(input_shape = (150, 150, 3),\r\n",
        "                                include_top = False,\r\n",
        "                                weights = None)\r\n",
        "pre_trained_model.load_weights(local_weights_file)\r\n",
        "\r\n",
        "for layer in pre_trained_model.layers :\r\n",
        "  layer.trainable = False\r\n",
        "\r\n",
        "#pre_trained_model.summary()\r\n",
        "\r\n",
        "last_layer = pre_trained_model.get_layer('mixed7')\r\n",
        "print('last layer output shape : ', last_layer.output_shape)\r\n",
        "last_output = last_layer.output"
      ],
      "execution_count": 3,
      "outputs": [
        {
          "output_type": "stream",
          "text": [
            "last layer output shape :  (None, 7, 7, 768)\n"
          ],
          "name": "stdout"
        }
      ]
    },
    {
      "cell_type": "markdown",
      "metadata": {
        "id": "ysEw5lT0E3Qf"
      },
      "source": [
        "* Dropout : threshold값을 임의로 지정한 후 그 값을 확률값으로 각 node들을 없앨지 그대로 둘지 결정한다.(이로부터 Overfitting을 방지하는 기법이다.)\r\n",
        "* Dropout이 잘 작동하는 이유\r\n",
        "1. 각 노드들의 주변 노드들은 비슷한 특징을 가지고 있으므로 없애줌으로서 overfit을 방지할 수 있다.\r\n",
        "2. 각 뉴런들은 바로 앞 뉴런들에 지나치게 가중화되어 있을 수 있다. 이때 각 뉴런들의 node들을 없애줌으로서 이를 방지할 수 있다."
      ]
    },
    {
      "cell_type": "code",
      "metadata": {
        "id": "YeocsZEH5dcF"
      },
      "source": [
        "x = layers.Flatten()(last_output)\r\n",
        "x = layers.Dense(1024, activation = 'relu')(x)\r\n",
        "x = layers.Dropout(0.2)(x)\r\n",
        "x = layers.Dense(1, activation = 'sigmoid')(x)\r\n",
        "\r\n",
        "model = Model(pre_trained_model.input, x)\r\n",
        "model.compile(optimizer = RMSprop(lr = .001),\r\n",
        "              loss = 'binary_crossentropy',\r\n",
        "              metrics = ['acc'])"
      ],
      "execution_count": 4,
      "outputs": []
    },
    {
      "cell_type": "code",
      "metadata": {
        "colab": {
          "base_uri": "https://localhost:8080/"
        },
        "id": "OiZVB_3R9Ieb",
        "outputId": "1f57da17-997c-447c-bf46-193819ffd7ca"
      },
      "source": [
        "!wget --no-check-certificate \\\r\n",
        "https://storage.googleapis.com/mledu-datasets/cats_and_dogs_filtered.zip \\\r\n",
        "-O /tmp/cats_and_dogs_filtered.zip\r\n",
        "\r\n",
        "from tensorflow.keras.preprocessing.image import ImageDataGenerator\r\n",
        "import os\r\n",
        "import zipfile\r\n",
        "\r\n",
        "local_zip = '//tmp/cats_and_dogs_filtered.zip'\r\n",
        "zip_ref = zipfile.ZipFile(local_zip, 'r')\r\n",
        "zip_ref.extractall('/tmp')\r\n",
        "zip_ref.close()"
      ],
      "execution_count": 5,
      "outputs": [
        {
          "output_type": "stream",
          "text": [
            "--2021-01-05 05:22:03--  https://storage.googleapis.com/mledu-datasets/cats_and_dogs_filtered.zip\n",
            "Resolving storage.googleapis.com (storage.googleapis.com)... 142.250.107.128, 74.125.20.128, 74.125.195.128, ...\n",
            "Connecting to storage.googleapis.com (storage.googleapis.com)|142.250.107.128|:443... connected.\n",
            "HTTP request sent, awaiting response... 200 OK\n",
            "Length: 68606236 (65M) [application/zip]\n",
            "Saving to: ‘/tmp/cats_and_dogs_filtered.zip’\n",
            "\n",
            "/tmp/cats_and_dogs_ 100%[===================>]  65.43M   127MB/s    in 0.5s    \n",
            "\n",
            "2021-01-05 05:22:04 (127 MB/s) - ‘/tmp/cats_and_dogs_filtered.zip’ saved [68606236/68606236]\n",
            "\n"
          ],
          "name": "stdout"
        }
      ]
    },
    {
      "cell_type": "code",
      "metadata": {
        "id": "gng6zkdr9pSW"
      },
      "source": [
        "base_dir = '/tmp/cats_and_dogs_filtered'\r\n",
        "\r\n",
        "train_dir = os.path.join(base_dir, 'train')\r\n",
        "validation_dir = os.path.join(base_dir, 'validation')"
      ],
      "execution_count": 6,
      "outputs": []
    },
    {
      "cell_type": "code",
      "metadata": {
        "colab": {
          "base_uri": "https://localhost:8080/"
        },
        "id": "bwiR7XI_-Rg_",
        "outputId": "4e2c270f-61f6-480e-c5b6-8bb2d6836c7e"
      },
      "source": [
        "train_datagen = ImageDataGenerator(\r\n",
        "    rescale = 1. /255,\r\n",
        "    rotation_range = 20,\r\n",
        "    width_shift_range = .2,\r\n",
        "    height_shift_range = .2,\r\n",
        "    shear_range = .2,\r\n",
        "    zoom_range = .2,\r\n",
        "    horizontal_flip = True\r\n",
        ")\r\n",
        "test_datagen = ImageDataGenerator(rescale = 1. /255)\r\n",
        "\r\n",
        "train_generator = train_datagen.flow_from_directory(\r\n",
        "    train_dir,\r\n",
        "    target_size = (150, 150),\r\n",
        "    class_mode = 'binary',\r\n",
        "    batch_size = 20\r\n",
        ")\r\n",
        "validation_generator = test_datagen.flow_from_directory(\r\n",
        "    validation_dir,\r\n",
        "    target_size = (150, 150),\r\n",
        "    class_mode= 'binary',\r\n",
        "    batch_size = 20\r\n",
        ")"
      ],
      "execution_count": 7,
      "outputs": [
        {
          "output_type": "stream",
          "text": [
            "Found 2000 images belonging to 2 classes.\n",
            "Found 1000 images belonging to 2 classes.\n"
          ],
          "name": "stdout"
        }
      ]
    },
    {
      "cell_type": "code",
      "metadata": {
        "colab": {
          "base_uri": "https://localhost:8080/"
        },
        "id": "WF3Nid0D_E1p",
        "outputId": "21759526-ecb3-4ac2-c6f0-0a247eddb91f"
      },
      "source": [
        "history = model.fit(\r\n",
        "    train_generator,\r\n",
        "    validation_data = validation_generator,\r\n",
        "    steps_per_epoch = 100,\r\n",
        "    epochs = 20,\r\n",
        "    validation_steps = 50,\r\n",
        "    verbose = 2\r\n",
        ")"
      ],
      "execution_count": 8,
      "outputs": [
        {
          "output_type": "stream",
          "text": [
            "Epoch 1/20\n",
            "100/100 - 27s - loss: 1.3199 - acc: 0.8550 - val_loss: 0.3217 - val_acc: 0.9230\n",
            "Epoch 2/20\n",
            "100/100 - 17s - loss: 0.4217 - acc: 0.9105 - val_loss: 0.1992 - val_acc: 0.9610\n",
            "Epoch 3/20\n",
            "100/100 - 17s - loss: 0.3581 - acc: 0.9225 - val_loss: 0.2458 - val_acc: 0.9510\n",
            "Epoch 4/20\n",
            "100/100 - 17s - loss: 0.3286 - acc: 0.9265 - val_loss: 0.1814 - val_acc: 0.9580\n",
            "Epoch 5/20\n",
            "100/100 - 17s - loss: 0.2879 - acc: 0.9305 - val_loss: 0.1600 - val_acc: 0.9570\n",
            "Epoch 6/20\n",
            "100/100 - 17s - loss: 0.2691 - acc: 0.9345 - val_loss: 0.1809 - val_acc: 0.9470\n",
            "Epoch 7/20\n",
            "100/100 - 17s - loss: 0.2129 - acc: 0.9435 - val_loss: 0.1854 - val_acc: 0.9600\n",
            "Epoch 8/20\n",
            "100/100 - 17s - loss: 0.2320 - acc: 0.9380 - val_loss: 0.1451 - val_acc: 0.9610\n",
            "Epoch 9/20\n",
            "100/100 - 17s - loss: 0.1901 - acc: 0.9475 - val_loss: 0.2042 - val_acc: 0.9670\n",
            "Epoch 10/20\n",
            "100/100 - 17s - loss: 0.2291 - acc: 0.9380 - val_loss: 0.1380 - val_acc: 0.9700\n",
            "Epoch 11/20\n",
            "100/100 - 17s - loss: 0.1844 - acc: 0.9530 - val_loss: 0.1612 - val_acc: 0.9570\n",
            "Epoch 12/20\n",
            "100/100 - 17s - loss: 0.2211 - acc: 0.9445 - val_loss: 0.2861 - val_acc: 0.9410\n",
            "Epoch 13/20\n",
            "100/100 - 17s - loss: 0.2190 - acc: 0.9415 - val_loss: 0.0974 - val_acc: 0.9720\n",
            "Epoch 14/20\n",
            "100/100 - 17s - loss: 0.1655 - acc: 0.9525 - val_loss: 0.1972 - val_acc: 0.9500\n",
            "Epoch 15/20\n",
            "100/100 - 17s - loss: 0.1470 - acc: 0.9590 - val_loss: 0.1296 - val_acc: 0.9720\n",
            "Epoch 16/20\n",
            "100/100 - 17s - loss: 0.1667 - acc: 0.9545 - val_loss: 0.1810 - val_acc: 0.9600\n",
            "Epoch 17/20\n",
            "100/100 - 17s - loss: 0.1341 - acc: 0.9605 - val_loss: 0.4254 - val_acc: 0.9180\n",
            "Epoch 18/20\n",
            "100/100 - 17s - loss: 0.1459 - acc: 0.9640 - val_loss: 0.1539 - val_acc: 0.9700\n",
            "Epoch 19/20\n",
            "100/100 - 17s - loss: 0.1644 - acc: 0.9600 - val_loss: 0.1893 - val_acc: 0.9600\n",
            "Epoch 20/20\n",
            "100/100 - 17s - loss: 0.1615 - acc: 0.9595 - val_loss: 0.1491 - val_acc: 0.9680\n"
          ],
          "name": "stdout"
        }
      ]
    },
    {
      "cell_type": "code",
      "metadata": {
        "colab": {
          "base_uri": "https://localhost:8080/",
          "height": 563
        },
        "id": "Uk_rJS97_hcl",
        "outputId": "888e4eff-eb13-467e-856a-9ae217b3f537"
      },
      "source": [
        "import matplotlib.pyplot as plt\r\n",
        "%matplotlib inline\r\n",
        "\r\n",
        "acc = history.history['acc']\r\n",
        "val_acc = history.history['val_acc']\r\n",
        "loss = history.history['loss']\r\n",
        "val_loss = history.history['val_loss']\r\n",
        "\r\n",
        "epochs = range(len(acc))\r\n",
        "\r\n",
        "plt.plot(epochs, acc, 'r', label = 'Training Accuracy')\r\n",
        "plt.plot(epochs, val_acc, 'b', label = 'Validation Accuracy')\r\n",
        "plt.title('Training And Validation Accuracy')\r\n",
        "plt.legend()\r\n",
        "\r\n",
        "plt.figure()\r\n",
        "plt.plot(epochs, loss, 'r', label = 'Training Loss')\r\n",
        "plt.plot(epochs, val_loss, 'b', label = 'Validation Loss')\r\n",
        "plt.title('Training And Validation Loss')\r\n",
        "plt.legend()"
      ],
      "execution_count": 10,
      "outputs": [
        {
          "output_type": "execute_result",
          "data": {
            "text/plain": [
              "<matplotlib.legend.Legend at 0x7f3570252668>"
            ]
          },
          "metadata": {
            "tags": []
          },
          "execution_count": 10
        },
        {
          "output_type": "display_data",
          "data": {
            "image/png": "[encoded data removed]",
            "text/plain": [
              "<Figure size 432x288 with 1 Axes>"
            ]
          },
          "metadata": {
            "tags": [],
            "needs_background": "light"
          }
        },
        {
          "output_type": "display_data",
          "data": {
            "image/png": "[encoded data removed]",
            "text/plain": [
              "<Figure size 432x288 with 1 Axes>"
            ]
          },
          "metadata": {
            "tags": [],
            "needs_background": "light"
          }
        }
      ]
    },
    {
      "cell_type": "code",
      "metadata": {
        "id": "l9hBHgG6_qcS"
      },
      "source": [
        ""
      ],
      "execution_count": null,
      "outputs": []
    }
  ]
}