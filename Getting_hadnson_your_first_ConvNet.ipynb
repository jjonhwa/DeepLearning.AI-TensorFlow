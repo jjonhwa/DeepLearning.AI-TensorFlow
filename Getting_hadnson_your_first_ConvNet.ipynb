{
  "nbformat": 4,
  "nbformat_minor": 0,
  "metadata": {
    "colab": {
      "name": "Getting hadnson your first ConvNet.ipynb",
      "provenance": [],
      "collapsed_sections": [],
      "authorship_tag": "ABX9TyPjmnz/Kiapb2zmNwZrJ8VS",
      "include_colab_link": true
    },
    "kernelspec": {
      "name": "python3",
      "display_name": "Python 3"
    }
  },
  "cells": [
    {
      "cell_type": "markdown",
      "metadata": {
        "id": "view-in-github",
        "colab_type": "text"
      },
      "source": [
        "<a href=\"https://colab.research.google.com/github/jjonhwa/DeepLearning.AI-TensorFlow/blob/main/Getting_hadnson_your_first_ConvNet.ipynb\" target=\"_parent\"><img src=\"https://colab.research.google.com/assets/colab-badge.svg\" alt=\"Open In Colab\"/></a>"
      ]
    },
    {
      "cell_type": "markdown",
      "metadata": {
        "id": "BXmfcA_n4VWK"
      },
      "source": [
        "# Improving Computer Vision Accuracy using Convolutions"
      ]
    },
    {
      "cell_type": "markdown",
      "metadata": {
        "id": "dNkdsjMc6N-w"
      },
      "source": [
        "다른 크기의 hidden layer와 training epochs를 변경하여 효과를 실험해보도록하자.  \r\n",
        "일단 새로운 layer를 추가하기 전의 코드를 먼저 입력하고 이후에 입력한 코드와 loss & accuracy를 비교해보도록 하자."
      ]
    },
    {
      "cell_type": "code",
      "metadata": {
        "id": "0cTtJAR36lFC"
      },
      "source": [
        "import tensorflow as tf\r\n",
        "from tensorflow import keras\r\n",
        "import keras as kr"
      ],
      "execution_count": 1,
      "outputs": []
    },
    {
      "cell_type": "code",
      "metadata": {
        "colab": {
          "base_uri": "https://localhost:8080/"
        },
        "id": "s6jdMrCR6t8Y",
        "outputId": "dbf3d595-135d-46e8-b82f-3fca82d354d1"
      },
      "source": [
        "mnist = kr.datasets.fashion_mnist\r\n",
        "(training_images, training_labels), (test_images, test_labels) = mnist.load_data()\r\n",
        "training_images = training_images / 255.0\r\n",
        "test_images = test_images / 255.0\r\n",
        "model = kr.models.Sequential([kr.layers.Flatten(),\r\n",
        "                              kr.layers.Dense(128, activation = tf.nn.relu),\r\n",
        "                              kr.layers.Dense(10, activation = tf.nn.softmax)])\r\n",
        "model.compile(optimizer = 'adam',\r\n",
        "              loss = 'sparse_categorical_crossentropy',\r\n",
        "              metrics = 'accuracy')\r\n",
        "model.fit(training_images, training_labels, epochs = 5)\r\n",
        "\r\n",
        "test_loss = model.evaluate(test_images, test_labels)"
      ],
      "execution_count": 2,
      "outputs": [
        {
          "output_type": "stream",
          "text": [
            "Downloading data from https://storage.googleapis.com/tensorflow/tf-keras-datasets/train-labels-idx1-ubyte.gz\n",
            "32768/29515 [=================================] - 0s 0us/step\n",
            "Downloading data from https://storage.googleapis.com/tensorflow/tf-keras-datasets/train-images-idx3-ubyte.gz\n",
            "26427392/26421880 [==============================] - 0s 0us/step\n",
            "Downloading data from https://storage.googleapis.com/tensorflow/tf-keras-datasets/t10k-labels-idx1-ubyte.gz\n",
            "8192/5148 [===============================================] - 0s 0us/step\n",
            "Downloading data from https://storage.googleapis.com/tensorflow/tf-keras-datasets/t10k-images-idx3-ubyte.gz\n",
            "4423680/4422102 [==============================] - 0s 0us/step\n",
            "Epoch 1/5\n",
            "1875/1875 [==============================] - 3s 1ms/step - loss: 0.6429 - accuracy: 0.7735\n",
            "Epoch 2/5\n",
            "1875/1875 [==============================] - 3s 1ms/step - loss: 0.3901 - accuracy: 0.8624\n",
            "Epoch 3/5\n",
            "1875/1875 [==============================] - 3s 1ms/step - loss: 0.3412 - accuracy: 0.8767\n",
            "Epoch 4/5\n",
            "1875/1875 [==============================] - 3s 1ms/step - loss: 0.3098 - accuracy: 0.8866\n",
            "Epoch 5/5\n",
            "1875/1875 [==============================] - 3s 1ms/step - loss: 0.2936 - accuracy: 0.8918\n",
            "313/313 [==============================] - 0s 958us/step - loss: 0.3609 - accuracy: 0.8703\n"
          ],
          "name": "stdout"
        }
      ]
    },
    {
      "cell_type": "markdown",
      "metadata": {
        "id": "zlz4On_x74rB"
      },
      "source": [
        "어떻게 해야지 위의 정확도를 더 높일 수 있을까?  \r\n",
        "한 가지 방법으로는 Convolutions이라고 불리는 방법을 사용하는 것이 있다.  \r\n",
        "이 방법의 핵심 개념은 image의 크기를 좁히는 것이다.  \r\n",
        "  \r\n",
        "Convolution에 대한 자세한 개념은 [여기](https://www.coursera.org/learn/convolutional-neural-networks?specialization=deep-learning)에서 확인하도록 하자.  \r\n",
        "\r\n",
        "CNN의 기본 개념은 Flatten 및 Dense layer에 진입하기전에 몇몇 convolution layer들을 추가하는 것이다. 이로부터 좀 더 좋은 정확도를 얻을 수 있다.  \r\n",
        "\r\n"
      ]
    },
    {
      "cell_type": "code",
      "metadata": {
        "colab": {
          "base_uri": "https://localhost:8080/"
        },
        "id": "b4XqV6q-PrT1",
        "outputId": "3c5676b9-451a-47c7-89ed-57f421565e88"
      },
      "source": [
        "mnist = tf.keras.datasets.fashion_mnist\r\n",
        "(training_images, training_labels), (test_images, test_labels) = mnist.load_data()\r\n",
        "\r\n",
        "training_images = training_images.reshape(60000, 28, 28, 1)\r\n",
        "training_images = training_images / 255.0\r\n",
        "test_images = test_images.reshape(10000, 28, 28, 1)\r\n",
        "test_images = test_images / 255.0\r\n",
        "\r\n",
        "model = kr.models.Sequential([kr.layers.Conv2D(64, (3,3), activation = 'relu', input_shape = (28, 28, 1)),\r\n",
        "                              kr.layers.MaxPooling2D(2, 2),\r\n",
        "                              kr.layers.Conv2D(64, (3,3), activation = 'relu'),\r\n",
        "                              kr.layers.MaxPooling2D(2,2),\r\n",
        "                              kr.layers.Flatten(),\r\n",
        "                              kr.layers.Dense(128, activation = 'relu'),\r\n",
        "                              kr.layers.Dense(10, activation = 'softmax')])\r\n",
        "\r\n",
        "model.compile(optimizer = 'adam',\r\n",
        "              loss = 'sparse_categorical_crossentropy',\r\n",
        "              metrics = ['accuracy'])\r\n",
        "model.summary()\r\n",
        "model.fit(training_images, training_labels, epochs = 5)\r\n",
        "test_loss = model.evaluate(test_images, test_labels)"
      ],
      "execution_count": 13,
      "outputs": [
        {
          "output_type": "stream",
          "text": [
            "Model: \"sequential_6\"\n",
            "_________________________________________________________________\n",
            "Layer (type)                 Output Shape              Param #   \n",
            "=================================================================\n",
            "conv2d_10 (Conv2D)           (None, 26, 26, 64)        640       \n",
            "_________________________________________________________________\n",
            "max_pooling2d_10 (MaxPooling (None, 13, 13, 64)        0         \n",
            "_________________________________________________________________\n",
            "conv2d_11 (Conv2D)           (None, 11, 11, 64)        36928     \n",
            "_________________________________________________________________\n",
            "max_pooling2d_11 (MaxPooling (None, 5, 5, 64)          0         \n",
            "_________________________________________________________________\n",
            "flatten_6 (Flatten)          (None, 1600)              0         \n",
            "_________________________________________________________________\n",
            "dense_12 (Dense)             (None, 128)               204928    \n",
            "_________________________________________________________________\n",
            "dense_13 (Dense)             (None, 10)                1290      \n",
            "=================================================================\n",
            "Total params: 243,786\n",
            "Trainable params: 243,786\n",
            "Non-trainable params: 0\n",
            "_________________________________________________________________\n",
            "Epoch 1/5\n",
            "1875/1875 [==============================] - 69s 37ms/step - loss: 0.6022 - accuracy: 0.7810\n",
            "Epoch 2/5\n",
            "1875/1875 [==============================] - 69s 37ms/step - loss: 0.3036 - accuracy: 0.8881\n",
            "Epoch 3/5\n",
            "1875/1875 [==============================] - 68s 36ms/step - loss: 0.2522 - accuracy: 0.9056\n",
            "Epoch 4/5\n",
            "1875/1875 [==============================] - 69s 37ms/step - loss: 0.2166 - accuracy: 0.9200\n",
            "Epoch 5/5\n",
            "1875/1875 [==============================] - 68s 37ms/step - loss: 0.1905 - accuracy: 0.9292\n",
            "313/313 [==============================] - 3s 10ms/step - loss: 0.2511 - accuracy: 0.9087\n"
          ],
          "name": "stdout"
        }
      ]
    },
    {
      "cell_type": "markdown",
      "metadata": {
        "id": "38FnbqzERCPz"
      },
      "source": [
        "정확도가 충분히 올라간 것을 볼 수 있다.  \r\n",
        "  \r\n",
        "정확도를 더 올리고 싶다면 epochs등을 조정해보도록 하자. 다만 epochs의 경우 overfitting이 될 경우가 있으므로 잘 확인하면서 조정하다.  \r\n",
        "  \r\n",
        "Convolution의 경우 3x3의 grid를 이용해서 차원을 축소하였고 activation function은 relu를 사용한 것이다.  \r\n",
        "MaxPooling의 경우 2x2를 사용하여 차원을 절반으로 줄인 것을 알 수 있다.  \r\n",
        "(Conv의 경우 겹쳐서 움직이는 방면, MaxPooling은 점프한다. - 확실하진 않지만 stride의 개념을 알아야 할 것 같다. 추후에 확인해보도록 하자.)"
      ]
    },
    {
      "cell_type": "markdown",
      "metadata": {
        "id": "zO7cB_JuW0WE"
      },
      "source": [
        "# Visualizing the Convolutions and Poolings"
      ]
    },
    {
      "cell_type": "markdown",
      "metadata": {
        "id": "RlY1ZfxPW-fO"
      },
      "source": [
        "여기서는 Convolutions을 그래픽적으로 확인해보도록 한다.  \r\n",
        "\r\n",
        "다음 test에서 모두 동일하게 9로 신바을 나타내는 것에 대하여 Convolution을 실행한 결과를 유심히 보도록 하자. 공통적인 특성을 발견할 수 있을 것이다."
      ]
    },
    {
      "cell_type": "code",
      "metadata": {
        "colab": {
          "base_uri": "https://localhost:8080/"
        },
        "id": "xAZVVdF-XeUc",
        "outputId": "278c1014-14e8-4ecd-e928-fa4280c959a3"
      },
      "source": [
        "print(test_labels[:100])"
      ],
      "execution_count": 14,
      "outputs": [
        {
          "output_type": "stream",
          "text": [
            "[9 2 1 1 6 1 4 6 5 7 4 5 7 3 4 1 2 4 8 0 2 5 7 9 1 4 6 0 9 3 8 8 3 3 8 0 7\n",
            " 5 7 9 6 1 3 7 6 7 2 1 2 2 4 4 5 8 2 2 8 4 8 0 7 7 8 5 1 1 2 3 9 8 7 0 2 6\n",
            " 2 3 1 2 8 4 1 8 5 9 5 0 3 2 0 6 5 3 6 7 1 8 0 1 4 2]\n"
          ],
          "name": "stdout"
        }
      ]
    },
    {
      "cell_type": "code",
      "metadata": {
        "colab": {
          "base_uri": "https://localhost:8080/",
          "height": 268
        },
        "id": "wX8T01PVXiFj",
        "outputId": "fd78c67b-d7e5-4c77-e1da-74118498a2fc"
      },
      "source": [
        "import matplotlib.pyplot as plt\r\n",
        "f, axarr = plt.subplots(3, 4)\r\n",
        "\r\n",
        "First_image = 0\r\n",
        "Second_image = 7\r\n",
        "Third_image = 26\r\n",
        "Convolution_Number = 1\r\n",
        "\r\n",
        "from tensorflow.keras import models\r\n",
        "layer_outputs = [layer.output for layer in model.layers]\r\n",
        "activation_model = models.Model(inputs = model.input, outputs = layer_outputs)\r\n",
        "\r\n",
        "for x in range(0, 4) :\r\n",
        "  f1 = activation_model.predict(test_images[First_image].reshape(1, 28, 28, 1))[x]\r\n",
        "  axarr[0,x].imshow(f1[0, :, :, Convolution_Number], cmap = 'inferno')\r\n",
        "  axarr[0,x].grid(False)\r\n",
        "\r\n",
        "  f2 = activation_model.predict(test_images[Second_image].reshape(1, 28, 28, 1))[x]\r\n",
        "  axarr[1,x].imshow(f2[0, :, :, Convolution_Number], cmap = 'inferno')\r\n",
        "  axarr[1,x].grid(False)\r\n",
        "\r\n",
        "  f3 = activation_model.predict(test_images[Third_image].reshape(1, 28, 28, 1))[x]\r\n",
        "  axarr[2,x].imshow(f3[0, :, :, Convolution_Number], cmap = 'inferno')\r\n",
        "  axarr[2,x].grid(False)"
      ],
      "execution_count": 19,
      "outputs": [
        {
          "output_type": "display_data",
          "data": {
            "image/png": "[encoded data removed]",
            "text/plain": [
              "<Figure size 432x288 with 12 Axes>"
            ]
          },
          "metadata": {
            "tags": [],
            "needs_background": "light"
          }
        }
      ]
    },
    {
      "cell_type": "code",
      "metadata": {
        "id": "8BJRb9Y6Y-eN"
      },
      "source": [
        ""
      ],
      "execution_count": null,
      "outputs": []
    }
  ]
}